{
 "nbformat": 4,
 "nbformat_minor": 0,
 "metadata": {
  "kernelspec": {
   "name": "python3",
   "language": "python",
   "display_name": "Python 3"
  },
  "language_info": {
   "codemirror_mode": {
    "name": "ipython",
    "version": 3
   },
   "file_extension": ".py",
   "mimetype": "text/x-python",
   "name": "python",
   "nbconvert_exporter": "python",
   "pygments_lexer": "ipython3",
   "version": "3.8.5"
  },
  "colab": {
   "name": "custom_backprop.ipynb",
   "provenance": []
  }
 },
 "cells": [
  {
   "cell_type": "markdown",
   "metadata": {
    "id": "ttZ5gcnsZBsI"
   },
   "source": [
    "# Manual backprop with numpy"
   ]
  },
  {
   "cell_type": "code",
   "metadata": {
    "id": "PAwnOoBbZBsT"
   },
   "source": [
    "import numpy as np\n",
    "import matplotlib.pyplot as plt"
   ],
   "execution_count": 1,
   "outputs": []
  },
  {
   "cell_type": "code",
   "metadata": {
    "id": "DwARRlJZZBsV"
   },
   "source": [
    "class DenseLayer:\n",
    "\n",
    "    def __init__(self, ni, no, act='relu'):\n",
    "        self.w = np.random.randn(ni, no)\n",
    "        self.b = np.zeros(no)\n",
    "        self.act = act\n",
    "    \n",
    "    def forward(self,  x):\n",
    "        out = x @ self.w + self.b\n",
    "        if self.act == 'relu': \n",
    "            out = out.clip(min=0.)\n",
    "        return out\n",
    "    \n",
    "    __call__ = forward\n",
    "\n",
    "    def bwd(self, dout, out, x):\n",
    "        dz = np.where(out>0, dout, 0) if self.act else dout\n",
    "        dw = x.transpose() @ dz\n",
    "        db = dz.sum(axis=0)\n",
    "        dx = dz @ self.w.transpose()\n",
    "        return dw, db, dx"
   ],
   "execution_count": 2,
   "outputs": []
  },
  {
   "cell_type": "code",
   "metadata": {
    "id": "d071Dw2oZBsX"
   },
   "source": [
    "class MSE:\n",
    "    def forward(self, pred,  targ):\n",
    "        return ((pred-targ)**2).mean()\n",
    "    \n",
    "    __call__ = forward\n",
    "\n",
    "    def bwd(self, pred, targ):\n",
    "        return 2*(pred-targ)/len(targ)"
   ],
   "execution_count": 3,
   "outputs": []
  },
  {
   "cell_type": "code",
   "metadata": {
    "id": "LK6xyx4gZBsX"
   },
   "source": [
    "l1 = DenseLayer(1, 4)\n",
    "l2 = DenseLayer(4, 1, act=None)"
   ],
   "execution_count": 4,
   "outputs": []
  },
  {
   "cell_type": "code",
   "metadata": {
    "id": "sT9HvR1PZBsY",
    "outputId": "92360e63-6a23-46bf-e13b-52774a3b5d64",
    "colab": {
     "base_uri": "https://localhost:8080/",
     "height": 267
    }
   },
   "source": [
    "x = np.linspace(-2, 2, 100).reshape(-1, 1)\n",
    "y = x**2 + 0.5 * np.random.randn(100, 1)\n",
    "pred = l2(l1(x))\n",
    "plt.scatter(x, y); \n",
    "plt.scatter(x, pred);"
   ],
   "execution_count": 5,
   "outputs": [
    {
     "data": {
      "text/plain": "<Figure size 432x288 with 1 Axes>",
      "image/png": "[encoded data removed]"
     },
     "metadata": {
      "needs_background": "light"
     },
     "output_type": "display_data"
    }
   ]
  },
  {
   "cell_type": "code",
   "metadata": {
    "id": "6AL9by-kZBsb"
   },
   "source": [
    "mse = MSE()"
   ],
   "execution_count": 6,
   "outputs": []
  },
  {
   "cell_type": "code",
   "metadata": {
    "id": "D0ZQ_bvxZBsb",
    "outputId": "7811f798-7c92-4ac5-83b9-d211509a7429",
    "colab": {
     "base_uri": "https://localhost:8080/"
    }
   },
   "source": [
    "#forward\n",
    "a1 = l1(x)\n",
    "pred = l2(a1)\n",
    "print(mse(pred, y))"
   ],
   "execution_count": 7,
   "outputs": [
    {
     "name": "stdout",
     "output_type": "stream",
     "text": [
      "6.803173454751562\n"
     ]
    }
   ]
  },
  {
   "cell_type": "code",
   "metadata": {
    "id": "5eexck12ZBsb"
   },
   "source": [
    "# backward\n",
    "dpred = mse.bwd(pred, y)\n",
    "dw2, db2, da1 = l2.bwd(dpred, pred, a1)\n",
    "dw1, db1, _ = l1.bwd(da1, a1, x)"
   ],
   "execution_count": 8,
   "outputs": []
  },
  {
   "cell_type": "code",
   "metadata": {
    "id": "H57MrvWvZBsc",
    "outputId": "3a96b40b-d93c-4736-a369-7d727afebc30",
    "colab": {
     "base_uri": "https://localhost:8080/"
    }
   },
   "source": [
    "dpred.shape, a1.shape"
   ],
   "execution_count": 9,
   "outputs": [
    {
     "data": {
      "text/plain": "((100, 1), (100, 4))"
     },
     "execution_count": 9,
     "metadata": {},
     "output_type": "execute_result"
    }
   ]
  },
  {
   "cell_type": "code",
   "metadata": {
    "id": "8N77QDE7ZBsd"
   },
   "source": [
    "#update params\n",
    "l2.w -= 0.1 * dw2\n",
    "l2.b -= 0.1 * db2\n",
    "l1.w = l1.w - 0.1 * dw1\n",
    "l1.b = l1.b - 0.1 * db1"
   ],
   "execution_count": 10,
   "outputs": []
  },
  {
   "cell_type": "code",
   "metadata": {
    "id": "aR9MzT7qZBsf"
   },
   "source": [
    "def step(x, y, lr=0.1):\n",
    "    #forward\n",
    "    a1 = l1(x)\n",
    "    pred = l2(a1)\n",
    "    loss = mse(pred, y)\n",
    "\n",
    "    #backward\n",
    "    dpred = mse.bwd(pred, y)\n",
    "    dw2, db2, da1 = l2.bwd(dpred, pred, a1)\n",
    "    dw1, db1, _ = l1.bwd(da1, a1, x)\n",
    "    \n",
    "    #update params\n",
    "    l2.w -= lr*dw2\n",
    "    l2.b -= lr*db2\n",
    "    l1.w = l1.w - lr*dw1\n",
    "    l1.b = l1.b - lr*db1\n",
    "    return loss"
   ],
   "execution_count": 11,
   "outputs": []
  },
  {
   "cell_type": "code",
   "metadata": {
    "id": "AMR0Kn47ZBsf",
    "outputId": "e255edcf-3564-4584-f48c-7eebf7643448",
    "colab": {
     "base_uri": "https://localhost:8080/"
    }
   },
   "source": [
    "for i in range(200):\n",
    "    loss = step(x, y, 0.2)\n",
    "    if i%10==0: print(loss)"
   ],
   "execution_count": 12,
   "outputs": [
    {
     "name": "stdout",
     "output_type": "stream",
     "text": [
      "1.742423633698662\n",
      "0.4279119791700336\n",
      "0.2839875086383362\n",
      "0.26104647330827346\n",
      "0.2558480796153742\n",
      "0.2533863349648225\n",
      "0.25161345805444135\n",
      "0.2497927426557769\n",
      "0.24847690359646488\n",
      "0.24763750753135771\n",
      "0.24534572226350554\n",
      "0.24003221507782144\n",
      "0.23654896343414358\n",
      "0.2348232219921095\n",
      "0.23357554650734103\n",
      "0.23266246026984636\n",
      "0.23164222941631757\n",
      "0.23043668856157073\n",
      "0.2300071984571435\n",
      "0.22988433918968326\n"
     ]
    }
   ]
  },
  {
   "cell_type": "code",
   "metadata": {
    "id": "Jtd7GQ3WZBsf",
    "outputId": "2b446c91-5b5d-4636-d075-36caa5853324",
    "colab": {
     "base_uri": "https://localhost:8080/",
     "height": 284
    }
   },
   "source": [
    "plt.scatter(x, y); plt.scatter(x, l2(l1(x)))"
   ],
   "execution_count": 13,
   "outputs": [
    {
     "data": {
      "text/plain": "<matplotlib.collections.PathCollection at 0x7f6b3a8c84c0>"
     },
     "execution_count": 13,
     "metadata": {},
     "output_type": "execute_result"
    },
    {
     "data": {
      "text/plain": "<Figure size 432x288 with 1 Axes>",
      "image/png": "[encoded data removed]"
     },
     "metadata": {
      "needs_background": "light"
     },
     "output_type": "display_data"
    }
   ]
  },
  {
   "cell_type": "markdown",
   "metadata": {
    "id": "IyVg6-DMZBsh"
   },
   "source": [
    "# torch custom autograd"
   ]
  },
  {
   "cell_type": "code",
   "metadata": {
    "id": "PFw0EL_RZBsh"
   },
   "source": [
    "import torch\n",
    "from torch import nn\n",
    "from torch.autograd import Function"
   ],
   "execution_count": 14,
   "outputs": []
  },
  {
   "cell_type": "code",
   "metadata": {
    "id": "zqFw_DoyZBsh"
   },
   "source": [
    "class _Linear(Function):\n",
    "    \n",
    "    @staticmethod\n",
    "    def forward(ctx, x, w, b):\n",
    "        ctx.save_for_backward(x, w, b)\n",
    "        return x@w + b\n",
    "    \n",
    "    @staticmethod\n",
    "    def backward(ctx, dout):\n",
    "        x,w,b = ctx.saved_tensors\n",
    "        dw = x.T @ dout\n",
    "        db = dout.sum(dim=0)\n",
    "        dx = dout @ w.T\n",
    "        return dx, dw, db\n",
    "    \n",
    "linear = _Linear.apply"
   ],
   "execution_count": 15,
   "outputs": []
  },
  {
   "cell_type": "code",
   "metadata": {
    "id": "SLOmM5B0ZBsh"
   },
   "source": [
    "class Linear(nn.Module):\n",
    "    def __init__(self, ni, no):\n",
    "        super().__init__()\n",
    "        self.w = nn.Parameter(torch.randn(ni, no))\n",
    "        self.b = nn.Parameter(torch.zeros(no))\n",
    "        \n",
    "    def forward(self, x):\n",
    "        return linear(x, self.w, self.b)"
   ],
   "execution_count": 16,
   "outputs": []
  },
  {
   "cell_type": "code",
   "metadata": {
    "id": "SveQwb4VZBsh"
   },
   "source": [
    "class _ReLU(Function):\n",
    "    \n",
    "    @staticmethod\n",
    "    def forward(ctx, x):\n",
    "        out = x.clamp(0)\n",
    "        ctx.save_for_backward(out)\n",
    "        return out\n",
    "    \n",
    "    @staticmethod\n",
    "    def backward(ctx, dout):\n",
    "        (out, ) = ctx.saved_tensors\n",
    "        return torch.where(out>0., dout, torch.zeros(1, dtype=dout.dtype))\n",
    "    \n",
    "relu = _ReLU.apply"
   ],
   "execution_count": 17,
   "outputs": []
  },
  {
   "cell_type": "code",
   "metadata": {
    "id": "ERE54wKaZBsj"
   },
   "source": [
    "class Relu(nn.Module):\n",
    "    \n",
    "    def __init__(self):\n",
    "        super().__init__()\n",
    "    \n",
    "    def forward(self, x):\n",
    "        return relu(x)"
   ],
   "execution_count": 18,
   "outputs": []
  },
  {
   "cell_type": "code",
   "metadata": {
    "id": "DM4IQhO5ZBsj"
   },
   "source": [
    "model = nn.Sequential(\n",
    "    Linear(1,4),\n",
    "    Relu(),\n",
    "    Linear(4,1),\n",
    ")"
   ],
   "execution_count": 19,
   "outputs": []
  },
  {
   "cell_type": "code",
   "metadata": {
    "id": "_1uS_JzTZBsj"
   },
   "source": [
    "x, y = torch.tensor(x, dtype=torch.float32), torch.tensor(y, dtype=torch.float32)"
   ],
   "execution_count": 20,
   "outputs": []
  },
  {
   "cell_type": "code",
   "metadata": {
    "id": "1_dN2s3NZBsj",
    "outputId": "e3370644-e69c-497a-9505-e870de691fc6",
    "colab": {
     "base_uri": "https://localhost:8080/"
    }
   },
   "source": [
    "pred = model(x)\n",
    "pred"
   ],
   "execution_count": 21,
   "outputs": [
    {
     "data": {
      "text/plain": "tensor([[-4.4164],\n        [-4.3272],\n        [-4.2379],\n        [-4.1487],\n        [-4.0595],\n        [-3.9703],\n        [-3.8811],\n        [-3.7918],\n        [-3.7026],\n        [-3.6134],\n        [-3.5242],\n        [-3.4350],\n        [-3.3457],\n        [-3.2565],\n        [-3.1673],\n        [-3.0781],\n        [-2.9889],\n        [-2.8996],\n        [-2.8104],\n        [-2.7212],\n        [-2.6320],\n        [-2.5428],\n        [-2.4535],\n        [-2.3643],\n        [-2.2751],\n        [-2.1859],\n        [-2.0967],\n        [-2.0074],\n        [-1.9182],\n        [-1.8290],\n        [-1.7398],\n        [-1.6506],\n        [-1.5613],\n        [-1.4721],\n        [-1.3829],\n        [-1.2937],\n        [-1.2045],\n        [-1.1152],\n        [-1.0260],\n        [-0.9368],\n        [-0.8476],\n        [-0.7584],\n        [-0.6691],\n        [-0.5799],\n        [-0.4907],\n        [-0.4015],\n        [-0.3123],\n        [-0.2230],\n        [-0.1338],\n        [-0.0446],\n        [ 0.0000],\n        [ 0.0000],\n        [ 0.0000],\n        [ 0.0000],\n        [ 0.0000],\n        [ 0.0000],\n        [ 0.0000],\n        [ 0.0000],\n        [ 0.0000],\n        [ 0.0000],\n        [ 0.0000],\n        [ 0.0000],\n        [ 0.0000],\n        [ 0.0000],\n        [ 0.0000],\n        [ 0.0000],\n        [ 0.0000],\n        [ 0.0000],\n        [ 0.0000],\n        [ 0.0000],\n        [ 0.0000],\n        [ 0.0000],\n        [ 0.0000],\n        [ 0.0000],\n        [ 0.0000],\n        [ 0.0000],\n        [ 0.0000],\n        [ 0.0000],\n        [ 0.0000],\n        [ 0.0000],\n        [ 0.0000],\n        [ 0.0000],\n        [ 0.0000],\n        [ 0.0000],\n        [ 0.0000],\n        [ 0.0000],\n        [ 0.0000],\n        [ 0.0000],\n        [ 0.0000],\n        [ 0.0000],\n        [ 0.0000],\n        [ 0.0000],\n        [ 0.0000],\n        [ 0.0000],\n        [ 0.0000],\n        [ 0.0000],\n        [ 0.0000],\n        [ 0.0000],\n        [ 0.0000],\n        [ 0.0000]], grad_fn=<_LinearBackward>)"
     },
     "execution_count": 21,
     "metadata": {},
     "output_type": "execute_result"
    }
   ]
  },
  {
   "cell_type": "code",
   "metadata": {
    "id": "tAN3PkW3ZBsk"
   },
   "source": [
    "loss = nn.MSELoss()(pred, y)"
   ],
   "execution_count": 22,
   "outputs": []
  },
  {
   "cell_type": "code",
   "metadata": {
    "id": "w1NAA50PZBsk"
   },
   "source": [
    "loss.backward()"
   ],
   "execution_count": 23,
   "outputs": []
  },
  {
   "cell_type": "code",
   "metadata": {
    "id": "AhC6D5QxZBsl"
   },
   "source": [
    "class Trainer:\n",
    "    \n",
    "    def __init__(self, model, opt_func=torch.optim.SGD, loss_func=nn.MSELoss()):\n",
    "        self.model = model\n",
    "        self.opt_func = opt_func\n",
    "        self.loss_func = loss_func\n",
    "        \n",
    "    def fit(self, x,y, n_epochs=100, lr=0.1):\n",
    "        opt = self.opt_func(model.parameters(), lr=lr)\n",
    "\n",
    "        for e in range(n_epochs):\n",
    "            #forward\n",
    "            pred = self.model(x)\n",
    "            loss = self.loss_func(pred, y)\n",
    "\n",
    "            if e%10==0:\n",
    "                print(loss.item())\n",
    "\n",
    "            # backward ->\n",
    "            loss.backward()\n",
    "\n",
    "            #params update\n",
    "            opt.step()\n",
    "\n",
    "            opt.zero_grad()"
   ],
   "execution_count": 24,
   "outputs": []
  },
  {
   "cell_type": "code",
   "metadata": {
    "id": "dk4vSKqcZBsl",
    "outputId": "c7bc9027-b359-40ad-9b75-c9bc859a14fc",
    "colab": {
     "base_uri": "https://localhost:8080/"
    }
   },
   "source": [
    "trainer = Trainer(model)\n",
    "\n",
    "trainer.fit(x, y)"
   ],
   "execution_count": 25,
   "outputs": [
    {
     "name": "stdout",
     "output_type": "stream",
     "text": [
      "11.207376480102539\n",
      "1.7155320644378662\n",
      "1.6351089477539062\n",
      "1.6341814994812012\n",
      "1.6341708898544312\n",
      "1.6341708898544312\n",
      "1.6341708898544312\n",
      "1.6341708898544312\n",
      "1.6341708898544312\n",
      "1.6341708898544312\n"
     ]
    }
   ]
  },
  {
   "cell_type": "code",
   "metadata": {
    "id": "JpO3G2N2ZBsl",
    "outputId": "ad09a6ee-cddc-4d13-b537-a7cf4554d0f6",
    "colab": {
     "base_uri": "https://localhost:8080/",
     "height": 267
    }
   },
   "source": [
    "plt.scatter(x, y);\n",
    "plt.scatter(x, model(x).detach());"
   ],
   "execution_count": 26,
   "outputs": [
    {
     "data": {
      "text/plain": "<Figure size 432x288 with 1 Axes>",
      "image/png": "[encoded data removed]"
     },
     "metadata": {
      "needs_background": "light"
     },
     "output_type": "display_data"
    }
   ]
  },
  {
   "cell_type": "code",
   "metadata": {
    "id": "Ex_O7Hv0ZBsl"
   },
   "source": [
    ""
   ],
   "execution_count": 26,
   "outputs": []
  }
 ]
}