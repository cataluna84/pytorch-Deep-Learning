{
 "nbformat": 4,
 "nbformat_minor": 0,
 "metadata": {
  "kernelspec": {
   "display_name": "Python [conda env:torchenv]",
   "language": "python",
   "name": "conda-env-torchenv-py"
  },
  "language_info": {
   "codemirror_mode": {
    "name": "ipython",
    "version": 3
   },
   "file_extension": ".py",
   "mimetype": "text/x-python",
   "name": "python",
   "nbconvert_exporter": "python",
   "pygments_lexer": "ipython3",
   "version": "3.8.5"
  },
  "colab": {
   "name": "custom_backprop.ipynb",
   "provenance": []
  }
 },
 "cells": [
  {
   "cell_type": "markdown",
   "metadata": {
    "id": "ttZ5gcnsZBsI"
   },
   "source": [
    "# Manual backprop with numpy"
   ]
  },
  {
   "cell_type": "code",
   "metadata": {
    "id": "PAwnOoBbZBsT"
   },
   "source": [
    "import numpy as np\n",
    "import matplotlib.pyplot as plt"
   ],
   "execution_count": 1,
   "outputs": []
  },
  {
   "cell_type": "code",
   "metadata": {
    "id": "DwARRlJZZBsV"
   },
   "source": [
    "class DenseLayer:\n",
    "\n",
    "    def __init__(self, ni, no, act='relu'):\n",
    "        self.w = np.random.randn(ni, no)\n",
    "        self.b = np.zeros(no)\n",
    "        self.act = act\n",
    "    \n",
    "    def forward(self,  x):\n",
    "        out = x @ self.w + self.b\n",
    "        if self.act == 'relu': \n",
    "            out = out.clip(min=0.)\n",
    "        return out\n",
    "    \n",
    "    __call__ = forward\n",
    "\n",
    "    def bwd(self, dout, out, x):\n",
    "        dz = np.where(out>0, dout, 0) if self.act else dout\n",
    "        dw = x.transpose() @ dz\n",
    "        db = dz.sum(axis=0)\n",
    "        dx = dz @ self.w.transpose()\n",
    "        return dw, db, dx"
   ],
   "execution_count": 2,
   "outputs": []
  },
  {
   "cell_type": "code",
   "metadata": {
    "id": "d071Dw2oZBsX"
   },
   "source": [
    "class MSE:\n",
    "    def forward(self, pred,  targ):\n",
    "        return ((pred-targ)**2).mean()\n",
    "    \n",
    "    __call__ = forward\n",
    "\n",
    "    def bwd(self, pred, targ):\n",
    "        return 2*(pred-targ)/len(targ)"
   ],
   "execution_count": 3,
   "outputs": []
  },
  {
   "cell_type": "code",
   "metadata": {
    "id": "LK6xyx4gZBsX"
   },
   "source": [
    "l1 = DenseLayer(1, 4)\n",
    "l2 = DenseLayer(4, 1, act=None)"
   ],
   "execution_count": 4,
   "outputs": []
  },
  {
   "cell_type": "code",
   "metadata": {
    "id": "sT9HvR1PZBsY",
    "outputId": "92360e63-6a23-46bf-e13b-52774a3b5d64",
    "colab": {
     "base_uri": "https://localhost:8080/",
     "height": 267
    }
   },
   "source": [
    "x = np.linspace(-2, 2, 100).reshape(-1, 1)\n",
    "y = x**2 + 0.5 * np.random.randn(100, 1)\n",
    "pred = l2(l1(x))\n",
    "plt.scatter(x, y); \n",
    "plt.scatter(x, pred);"
   ],
   "execution_count": 5,
   "outputs": [
    {
     "output_type": "display_data",
     "data": {
      "image/png": "[encoded data removed]",
      "text/plain": [
       "<Figure size 432x288 with 1 Axes>"
      ]
     },
     "metadata": {
      "tags": [],
      "needs_background": "light"
     }
    }
   ]
  },
  {
   "cell_type": "code",
   "metadata": {
    "id": "6AL9by-kZBsb"
   },
   "source": [
    "mse = MSE()"
   ],
   "execution_count": 6,
   "outputs": []
  },
  {
   "cell_type": "code",
   "metadata": {
    "id": "D0ZQ_bvxZBsb",
    "outputId": "7811f798-7c92-4ac5-83b9-d211509a7429",
    "colab": {
     "base_uri": "https://localhost:8080/"
    }
   },
   "source": [
    "#forward\n",
    "a1 = l1(x)\n",
    "pred = l2(a1)\n",
    "print(mse(pred, y))"
   ],
   "execution_count": 7,
   "outputs": [
    {
     "output_type": "stream",
     "text": [
      "2.6575168176908766\n"
     ],
     "name": "stdout"
    }
   ]
  },
  {
   "cell_type": "code",
   "metadata": {
    "id": "5eexck12ZBsb"
   },
   "source": [
    "# backward\n",
    "dpred = mse.bwd(pred, y)\n",
    "dw2, db2, da1 = l2.bwd(dpred, pred, a1)\n",
    "dw1, db1, _ = l1.bwd(da1, a1, x)"
   ],
   "execution_count": 8,
   "outputs": []
  },
  {
   "cell_type": "code",
   "metadata": {
    "id": "H57MrvWvZBsc",
    "outputId": "3a96b40b-d93c-4736-a369-7d727afebc30",
    "colab": {
     "base_uri": "https://localhost:8080/"
    }
   },
   "source": [
    "dpred.shape, a1.shape"
   ],
   "execution_count": 9,
   "outputs": [
    {
     "output_type": "execute_result",
     "data": {
      "text/plain": [
       "((100, 1), (100, 4))"
      ]
     },
     "metadata": {
      "tags": []
     },
     "execution_count": 9
    }
   ]
  },
  {
   "cell_type": "code",
   "metadata": {
    "id": "8N77QDE7ZBsd"
   },
   "source": [
    "#update params\n",
    "l2.w -= 0.1 * dw2\n",
    "l2.b -= 0.1 * db2\n",
    "l1.w = l1.w - 0.1 * dw1\n",
    "l1.b = l1.b - 0.1 * db1"
   ],
   "execution_count": 10,
   "outputs": []
  },
  {
   "cell_type": "code",
   "metadata": {
    "id": "aR9MzT7qZBsf"
   },
   "source": [
    "def step(x, y, lr=0.1):\n",
    "    #forward\n",
    "    a1 = l1(x)\n",
    "    pred = l2(a1)\n",
    "    loss = mse(pred, y)\n",
    "\n",
    "    #backward\n",
    "    dpred = mse.bwd(pred, y)\n",
    "    dw2, db2, da1 = l2.bwd(dpred, pred, a1)\n",
    "    dw1, db1, _ = l1.bwd(da1, a1, x)\n",
    "    \n",
    "    #update params\n",
    "    l2.w -= lr*dw2\n",
    "    l2.b -= lr*db2\n",
    "    l1.w = l1.w - lr*dw1\n",
    "    l1.b = l1.b - lr*db1\n",
    "    return loss"
   ],
   "execution_count": 11,
   "outputs": []
  },
  {
   "cell_type": "code",
   "metadata": {
    "id": "AMR0Kn47ZBsf",
    "outputId": "e255edcf-3564-4584-f48c-7eebf7643448",
    "colab": {
     "base_uri": "https://localhost:8080/"
    }
   },
   "source": [
    "for i in range(200):\n",
    "    loss = step(x, y, 0.2)\n",
    "    if i%10==0: print(loss)"
   ],
   "execution_count": 12,
   "outputs": [
    {
     "output_type": "stream",
     "text": [
      "1.8342362077145768\n",
      "0.4583649271954547\n",
      "0.35854479921993826\n",
      "0.33257419584128867\n",
      "0.3193879961066497\n",
      "0.3125885794079965\n",
      "0.30697698698335435\n",
      "0.3043385438086978\n",
      "0.30144587014740926\n",
      "0.2950338947242652\n",
      "0.28966959055033564\n",
      "0.28031474086507047\n",
      "0.2749108154509636\n",
      "0.28522051501390844\n",
      "0.30252806183993547\n",
      "0.3010082976515879\n",
      "0.28953908069269463\n",
      "0.28584632292329193\n",
      "0.28391687834835194\n",
      "0.28053855774008307\n"
     ],
     "name": "stdout"
    }
   ]
  },
  {
   "cell_type": "code",
   "metadata": {
    "id": "Jtd7GQ3WZBsf",
    "outputId": "2b446c91-5b5d-4636-d075-36caa5853324",
    "colab": {
     "base_uri": "https://localhost:8080/",
     "height": 284
    }
   },
   "source": [
    "plt.scatter(x, y); plt.scatter(x, l2(l1(x)))"
   ],
   "execution_count": 13,
   "outputs": [
    {
     "output_type": "execute_result",
     "data": {
      "text/plain": [
       "<matplotlib.collections.PathCollection at 0x7f0ac92226d8>"
      ]
     },
     "metadata": {
      "tags": []
     },
     "execution_count": 13
    },
    {
     "output_type": "display_data",
     "data": {
      "image/png": "[encoded data removed]",
      "text/plain": [
       "<Figure size 432x288 with 1 Axes>"
      ]
     },
     "metadata": {
      "tags": [],
      "needs_background": "light"
     }
    }
   ]
  },
  {
   "cell_type": "markdown",
   "metadata": {
    "id": "IyVg6-DMZBsh"
   },
   "source": [
    "# torch custom autograd"
   ]
  },
  {
   "cell_type": "code",
   "metadata": {
    "id": "PFw0EL_RZBsh"
   },
   "source": [
    "import torch\n",
    "from torch import nn\n",
    "from torch.autograd import Function"
   ],
   "execution_count": 14,
   "outputs": []
  },
  {
   "cell_type": "code",
   "metadata": {
    "id": "zqFw_DoyZBsh"
   },
   "source": [
    "class _Linear(Function):\n",
    "    \n",
    "    @staticmethod\n",
    "    def forward(ctx, x, w, b):\n",
    "        ctx.save_for_backward(x, w, b)\n",
    "        return x@w + b\n",
    "    \n",
    "    @staticmethod\n",
    "    def backward(ctx, dout):\n",
    "        x,w,b = ctx.saved_tensors\n",
    "        dw = x.T @ dout\n",
    "        db = dout.sum(dim=0)\n",
    "        dx = dout @ w.T\n",
    "        return dx, dw, db\n",
    "    \n",
    "linear = _Linear.apply"
   ],
   "execution_count": 15,
   "outputs": []
  },
  {
   "cell_type": "code",
   "metadata": {
    "id": "SLOmM5B0ZBsh"
   },
   "source": [
    "class Linear(nn.Module):\n",
    "    def __init__(self, ni, no):\n",
    "        super().__init__()\n",
    "        self.w = nn.Parameter(torch.randn(ni, no))\n",
    "        self.b = nn.Parameter(torch.zeros(no))\n",
    "        \n",
    "    def forward(self, x):\n",
    "        return linear(x, self.w, self.b)"
   ],
   "execution_count": 16,
   "outputs": []
  },
  {
   "cell_type": "code",
   "metadata": {
    "id": "SveQwb4VZBsh"
   },
   "source": [
    "class _ReLU(Function):\n",
    "    \n",
    "    @staticmethod\n",
    "    def forward(ctx, x):\n",
    "        out = x.clamp(0)\n",
    "        ctx.save_for_backward(out)\n",
    "        return out\n",
    "    \n",
    "    @staticmethod\n",
    "    def backward(ctx, dout):\n",
    "        (out, ) = ctx.saved_tensors\n",
    "        return torch.where(out>0., dout, torch.zeros(1, dtype=dout.dtype))\n",
    "    \n",
    "relu = _ReLU.apply"
   ],
   "execution_count": 17,
   "outputs": []
  },
  {
   "cell_type": "code",
   "metadata": {
    "id": "ERE54wKaZBsj"
   },
   "source": [
    "class Relu(nn.Module):\n",
    "    \n",
    "    def __init__(self):\n",
    "        super().__init__()\n",
    "    \n",
    "    def forward(self, x):\n",
    "        return relu(x)"
   ],
   "execution_count": 18,
   "outputs": []
  },
  {
   "cell_type": "code",
   "metadata": {
    "id": "DM4IQhO5ZBsj"
   },
   "source": [
    "model = nn.Sequential(\n",
    "    Linear(1,4),\n",
    "    Relu(),\n",
    "    Linear(4,1),\n",
    ")"
   ],
   "execution_count": 19,
   "outputs": []
  },
  {
   "cell_type": "code",
   "metadata": {
    "id": "_1uS_JzTZBsj"
   },
   "source": [
    "x, y = torch.tensor(x, dtype=torch.float32), torch.tensor(y, dtype=torch.float32)"
   ],
   "execution_count": 20,
   "outputs": []
  },
  {
   "cell_type": "code",
   "metadata": {
    "id": "1_dN2s3NZBsj",
    "outputId": "e3370644-e69c-497a-9505-e870de691fc6",
    "colab": {
     "base_uri": "https://localhost:8080/"
    }
   },
   "source": [
    "pred = model(x)\n",
    "pred"
   ],
   "execution_count": 21,
   "outputs": [
    {
     "output_type": "execute_result",
     "data": {
      "text/plain": [
       "tensor([[0.0000],\n",
       "        [0.0000],\n",
       "        [0.0000],\n",
       "        [0.0000],\n",
       "        [0.0000],\n",
       "        [0.0000],\n",
       "        [0.0000],\n",
       "        [0.0000],\n",
       "        [0.0000],\n",
       "        [0.0000],\n",
       "        [0.0000],\n",
       "        [0.0000],\n",
       "        [0.0000],\n",
       "        [0.0000],\n",
       "        [0.0000],\n",
       "        [0.0000],\n",
       "        [0.0000],\n",
       "        [0.0000],\n",
       "        [0.0000],\n",
       "        [0.0000],\n",
       "        [0.0000],\n",
       "        [0.0000],\n",
       "        [0.0000],\n",
       "        [0.0000],\n",
       "        [0.0000],\n",
       "        [0.0000],\n",
       "        [0.0000],\n",
       "        [0.0000],\n",
       "        [0.0000],\n",
       "        [0.0000],\n",
       "        [0.0000],\n",
       "        [0.0000],\n",
       "        [0.0000],\n",
       "        [0.0000],\n",
       "        [0.0000],\n",
       "        [0.0000],\n",
       "        [0.0000],\n",
       "        [0.0000],\n",
       "        [0.0000],\n",
       "        [0.0000],\n",
       "        [0.0000],\n",
       "        [0.0000],\n",
       "        [0.0000],\n",
       "        [0.0000],\n",
       "        [0.0000],\n",
       "        [0.0000],\n",
       "        [0.0000],\n",
       "        [0.0000],\n",
       "        [0.0000],\n",
       "        [0.0000],\n",
       "        [0.0242],\n",
       "        [0.0727],\n",
       "        [0.1212],\n",
       "        [0.1696],\n",
       "        [0.2181],\n",
       "        [0.2666],\n",
       "        [0.3151],\n",
       "        [0.3635],\n",
       "        [0.4120],\n",
       "        [0.4605],\n",
       "        [0.5089],\n",
       "        [0.5574],\n",
       "        [0.6059],\n",
       "        [0.6543],\n",
       "        [0.7028],\n",
       "        [0.7513],\n",
       "        [0.7998],\n",
       "        [0.8482],\n",
       "        [0.8967],\n",
       "        [0.9452],\n",
       "        [0.9936],\n",
       "        [1.0421],\n",
       "        [1.0906],\n",
       "        [1.1391],\n",
       "        [1.1875],\n",
       "        [1.2360],\n",
       "        [1.2845],\n",
       "        [1.3329],\n",
       "        [1.3814],\n",
       "        [1.4299],\n",
       "        [1.4783],\n",
       "        [1.5268],\n",
       "        [1.5753],\n",
       "        [1.6238],\n",
       "        [1.6722],\n",
       "        [1.7207],\n",
       "        [1.7692],\n",
       "        [1.8176],\n",
       "        [1.8661],\n",
       "        [1.9146],\n",
       "        [1.9630],\n",
       "        [2.0115],\n",
       "        [2.0600],\n",
       "        [2.1085],\n",
       "        [2.1569],\n",
       "        [2.2054],\n",
       "        [2.2539],\n",
       "        [2.3023],\n",
       "        [2.3508],\n",
       "        [2.3993]], grad_fn=<_LinearBackward>)"
      ]
     },
     "metadata": {
      "tags": []
     },
     "execution_count": 21
    }
   ]
  },
  {
   "cell_type": "code",
   "metadata": {
    "id": "tAN3PkW3ZBsk"
   },
   "source": [
    "loss = nn.MSELoss()(pred, y)"
   ],
   "execution_count": 22,
   "outputs": []
  },
  {
   "cell_type": "code",
   "metadata": {
    "id": "w1NAA50PZBsk"
   },
   "source": [
    "loss.backward()"
   ],
   "execution_count": 23,
   "outputs": []
  },
  {
   "cell_type": "code",
   "metadata": {
    "id": "AhC6D5QxZBsl"
   },
   "source": [
    "class Trainer:\n",
    "    \n",
    "    def __init__(self, model, opt_func=torch.optim.SGD, loss_func=nn.MSELoss()):\n",
    "        self.model = model\n",
    "        self.opt_func = opt_func\n",
    "        self.loss_func = loss_func\n",
    "        \n",
    "    def fit(self, x,y, n_epochs=100, lr=0.1):\n",
    "        opt = self.opt_func(model.parameters(), lr=lr)\n",
    "\n",
    "        for e in range(n_epochs):\n",
    "            #forward\n",
    "            pred = self.model(x)\n",
    "            loss = self.loss_func(pred, y)\n",
    "\n",
    "            if e%10==0:\n",
    "                print(loss.item())\n",
    "\n",
    "            # backward ->\n",
    "            loss.backward()\n",
    "\n",
    "            #params update\n",
    "            opt.step()\n",
    "\n",
    "            opt.zero_grad()"
   ],
   "execution_count": 24,
   "outputs": []
  },
  {
   "cell_type": "code",
   "metadata": {
    "id": "dk4vSKqcZBsl",
    "outputId": "c7bc9027-b359-40ad-9b75-c9bc859a14fc",
    "colab": {
     "base_uri": "https://localhost:8080/"
    }
   },
   "source": [
    "trainer = Trainer(model)\n",
    "\n",
    "trainer.fit(x, y)"
   ],
   "execution_count": 25,
   "outputs": [
    {
     "output_type": "stream",
     "text": [
      "2.200230598449707\n",
      "1.378859281539917\n",
      "1.2496393918991089\n",
      "1.1674338579177856\n",
      "1.0826082229614258\n",
      "0.9863079190254211\n",
      "0.8862106800079346\n",
      "0.7676479816436768\n",
      "0.6469544768333435\n",
      "0.5609886646270752\n"
     ],
     "name": "stdout"
    }
   ]
  },
  {
   "cell_type": "code",
   "metadata": {
    "id": "JpO3G2N2ZBsl",
    "outputId": "ad09a6ee-cddc-4d13-b537-a7cf4554d0f6",
    "colab": {
     "base_uri": "https://localhost:8080/",
     "height": 267
    }
   },
   "source": [
    "plt.scatter(x, y);\n",
    "plt.scatter(x, model(x).detach());"
   ],
   "execution_count": 26,
   "outputs": [
    {
     "output_type": "display_data",
     "data": {
      "image/png": "[encoded data removed]",
      "text/plain": [
       "<Figure size 432x288 with 1 Axes>"
      ]
     },
     "metadata": {
      "tags": [],
      "needs_background": "light"
     }
    }
   ]
  },
  {
   "cell_type": "code",
   "metadata": {
    "id": "Ex_O7Hv0ZBsl"
   },
   "source": [
    ""
   ],
   "execution_count": 26,
   "outputs": []
  }
 ]
}