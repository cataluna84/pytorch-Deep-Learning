{
 "nbformat": 4,
 "nbformat_minor": 0,
 "metadata": {
  "colab": {
   "name": "FFTtour.ipynb",
   "provenance": [],
   "collapsed_sections": []
  },
  "kernelspec": {
   "name": "python3",
   "language": "python",
   "display_name": "Python 3"
  },
  "accelerator": "GPU",
  "widgets": {
   "application/vnd.jupyter.widget-state+json": {
    "7c27057de13249ada75b312c6f8f8847": {
     "model_module": "@jupyter-widgets/controls",
     "model_name": "VBoxModel",
     "state": {
      "_view_name": "VBoxView",
      "_dom_classes": [
       "widget-interact"
      ],
      "_model_name": "VBoxModel",
      "_view_module": "@jupyter-widgets/controls",
      "_model_module_version": "1.5.0",
      "_view_count": null,
      "_view_module_version": "1.5.0",
      "box_style": "",
      "layout": "IPY_MODEL_ca8fea3587994e349d679f1656712e35",
      "_model_module": "@jupyter-widgets/controls",
      "children": [
       "IPY_MODEL_426b428fb2514ab0a13d7f89ca9d2c4d",
       "IPY_MODEL_5ab4f9d5c3ac4c149b1f2a2397a44630"
      ]
     }
    },
    "ca8fea3587994e349d679f1656712e35": {
     "model_module": "@jupyter-widgets/base",
     "model_name": "LayoutModel",
     "state": {
      "_view_name": "LayoutView",
      "grid_template_rows": null,
      "right": null,
      "justify_content": null,
      "_view_module": "@jupyter-widgets/base",
      "overflow": null,
      "_model_module_version": "1.2.0",
      "_view_count": null,
      "flex_flow": null,
      "width": null,
      "min_width": null,
      "border": null,
      "align_items": null,
      "bottom": null,
      "_model_module": "@jupyter-widgets/base",
      "top": null,
      "grid_column": null,
      "overflow_y": null,
      "overflow_x": null,
      "grid_auto_flow": null,
      "grid_area": null,
      "grid_template_columns": null,
      "flex": null,
      "_model_name": "LayoutModel",
      "justify_items": null,
      "grid_row": null,
      "max_height": null,
      "align_content": null,
      "visibility": null,
      "align_self": null,
      "height": null,
      "min_height": null,
      "padding": null,
      "grid_auto_rows": null,
      "grid_gap": null,
      "max_width": null,
      "order": null,
      "_view_module_version": "1.2.0",
      "grid_template_areas": null,
      "object_position": null,
      "object_fit": null,
      "grid_auto_columns": null,
      "margin": null,
      "display": null,
      "left": null
     }
    },
    "426b428fb2514ab0a13d7f89ca9d2c4d": {
     "model_module": "@jupyter-widgets/controls",
     "model_name": "IntSliderModel",
     "state": {
      "_view_name": "IntSliderView",
      "style": "IPY_MODEL_06c39f5b47c9423492582b95b32cf994",
      "_dom_classes": [],
      "description": "t",
      "step": 1,
      "_model_name": "IntSliderModel",
      "orientation": "horizontal",
      "max": 1100,
      "_view_module": "@jupyter-widgets/controls",
      "_model_module_version": "1.5.0",
      "value": 945,
      "_view_count": null,
      "disabled": false,
      "_view_module_version": "1.5.0",
      "min": 0,
      "continuous_update": true,
      "readout_format": "d",
      "description_tooltip": null,
      "readout": true,
      "_model_module": "@jupyter-widgets/controls",
      "layout": "IPY_MODEL_19f600af23b24a7698e11c83c9c71912"
     }
    },
    "5ab4f9d5c3ac4c149b1f2a2397a44630": {
     "model_module": "@jupyter-widgets/output",
     "model_name": "OutputModel",
     "state": {
      "_view_name": "OutputView",
      "msg_id": "",
      "_dom_classes": [],
      "_model_name": "OutputModel",
      "outputs": [
       {
        "output_type": "stream",
        "metadata": {
         "tags": []
        },
        "text": "Image reconstruction using 7 frequencies or around 0.0039 percent of available frequencies\n",
        "stream": "stdout"
       },
       {
        "output_type": "display_data",
        "metadata": {
         "tags": []
        },
        "image/png": "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\n",
        "text/plain": "<Figure size 432x288 with 1 Axes>"
       }
      ],
      "_view_module": "@jupyter-widgets/output",
      "_model_module_version": "1.0.0",
      "_view_count": null,
      "_view_module_version": "1.0.0",
      "layout": "IPY_MODEL_aec6de9241f44a61b837a3f979dc5ab3",
      "_model_module": "@jupyter-widgets/output"
     }
    },
    "06c39f5b47c9423492582b95b32cf994": {
     "model_module": "@jupyter-widgets/controls",
     "model_name": "SliderStyleModel",
     "state": {
      "_view_name": "StyleView",
      "handle_color": null,
      "_model_name": "SliderStyleModel",
      "description_width": "",
      "_view_module": "@jupyter-widgets/base",
      "_model_module_version": "1.5.0",
      "_view_count": null,
      "_view_module_version": "1.2.0",
      "_model_module": "@jupyter-widgets/controls"
     }
    },
    "19f600af23b24a7698e11c83c9c71912": {
     "model_module": "@jupyter-widgets/base",
     "model_name": "LayoutModel",
     "state": {
      "_view_name": "LayoutView",
      "grid_template_rows": null,
      "right": null,
      "justify_content": null,
      "_view_module": "@jupyter-widgets/base",
      "overflow": null,
      "_model_module_version": "1.2.0",
      "_view_count": null,
      "flex_flow": null,
      "width": null,
      "min_width": null,
      "border": null,
      "align_items": null,
      "bottom": null,
      "_model_module": "@jupyter-widgets/base",
      "top": null,
      "grid_column": null,
      "overflow_y": null,
      "overflow_x": null,
      "grid_auto_flow": null,
      "grid_area": null,
      "grid_template_columns": null,
      "flex": null,
      "_model_name": "LayoutModel",
      "justify_items": null,
      "grid_row": null,
      "max_height": null,
      "align_content": null,
      "visibility": null,
      "align_self": null,
      "height": null,
      "min_height": null,
      "padding": null,
      "grid_auto_rows": null,
      "grid_gap": null,
      "max_width": null,
      "order": null,
      "_view_module_version": "1.2.0",
      "grid_template_areas": null,
      "object_position": null,
      "object_fit": null,
      "grid_auto_columns": null,
      "margin": null,
      "display": null,
      "left": null
     }
    },
    "aec6de9241f44a61b837a3f979dc5ab3": {
     "model_module": "@jupyter-widgets/base",
     "model_name": "LayoutModel",
     "state": {
      "_view_name": "LayoutView",
      "grid_template_rows": null,
      "right": null,
      "justify_content": null,
      "_view_module": "@jupyter-widgets/base",
      "overflow": null,
      "_model_module_version": "1.2.0",
      "_view_count": null,
      "flex_flow": null,
      "width": null,
      "min_width": null,
      "border": null,
      "align_items": null,
      "bottom": null,
      "_model_module": "@jupyter-widgets/base",
      "top": null,
      "grid_column": null,
      "overflow_y": null,
      "overflow_x": null,
      "grid_auto_flow": null,
      "grid_area": null,
      "grid_template_columns": null,
      "flex": null,
      "_model_name": "LayoutModel",
      "justify_items": null,
      "grid_row": null,
      "max_height": null,
      "align_content": null,
      "visibility": null,
      "align_self": null,
      "height": null,
      "min_height": null,
      "padding": null,
      "grid_auto_rows": null,
      "grid_gap": null,
      "max_width": null,
      "order": null,
      "_view_module_version": "1.2.0",
      "grid_template_areas": null,
      "object_position": null,
      "object_fit": null,
      "grid_auto_columns": null,
      "margin": null,
      "display": null,
      "left": null
     }
    },
    "5f32661b35f24cfca9fb09f1e0231cb0": {
     "model_module": "@jupyter-widgets/controls",
     "model_name": "VBoxModel",
     "state": {
      "_view_name": "VBoxView",
      "_dom_classes": [
       "widget-interact"
      ],
      "_model_name": "VBoxModel",
      "_view_module": "@jupyter-widgets/controls",
      "_model_module_version": "1.5.0",
      "_view_count": null,
      "_view_module_version": "1.5.0",
      "box_style": "",
      "layout": "IPY_MODEL_8c700c27ce134ad0bf776760f37f4da4",
      "_model_module": "@jupyter-widgets/controls",
      "children": [
       "IPY_MODEL_b5743a0d903d4f07af7dd0d161aa04e4",
       "IPY_MODEL_ef974dba760b41228e59dfb22c959aa4"
      ]
     }
    },
    "8c700c27ce134ad0bf776760f37f4da4": {
     "model_module": "@jupyter-widgets/base",
     "model_name": "LayoutModel",
     "state": {
      "_view_name": "LayoutView",
      "grid_template_rows": null,
      "right": null,
      "justify_content": null,
      "_view_module": "@jupyter-widgets/base",
      "overflow": null,
      "_model_module_version": "1.2.0",
      "_view_count": null,
      "flex_flow": null,
      "width": null,
      "min_width": null,
      "border": null,
      "align_items": null,
      "bottom": null,
      "_model_module": "@jupyter-widgets/base",
      "top": null,
      "grid_column": null,
      "overflow_y": null,
      "overflow_x": null,
      "grid_auto_flow": null,
      "grid_area": null,
      "grid_template_columns": null,
      "flex": null,
      "_model_name": "LayoutModel",
      "justify_items": null,
      "grid_row": null,
      "max_height": null,
      "align_content": null,
      "visibility": null,
      "align_self": null,
      "height": null,
      "min_height": null,
      "padding": null,
      "grid_auto_rows": null,
      "grid_gap": null,
      "max_width": null,
      "order": null,
      "_view_module_version": "1.2.0",
      "grid_template_areas": null,
      "object_position": null,
      "object_fit": null,
      "grid_auto_columns": null,
      "margin": null,
      "display": null,
      "left": null
     }
    },
    "b5743a0d903d4f07af7dd0d161aa04e4": {
     "model_module": "@jupyter-widgets/controls",
     "model_name": "IntSliderModel",
     "state": {
      "_view_name": "IntSliderView",
      "style": "IPY_MODEL_fd58f7def32e4038966b44c73632906a",
      "_dom_classes": [],
      "description": "k",
      "step": 1,
      "_model_name": "IntSliderModel",
      "orientation": "horizontal",
      "max": 363,
      "_view_module": "@jupyter-widgets/controls",
      "_model_module_version": "1.5.0",
      "value": 1,
      "_view_count": null,
      "disabled": false,
      "_view_module_version": "1.5.0",
      "min": 1,
      "continuous_update": true,
      "readout_format": "d",
      "description_tooltip": null,
      "readout": true,
      "_model_module": "@jupyter-widgets/controls",
      "layout": "IPY_MODEL_0090636d1fe647faba274354c10aa06e"
     }
    },
    "ef974dba760b41228e59dfb22c959aa4": {
     "model_module": "@jupyter-widgets/output",
     "model_name": "OutputModel",
     "state": {
      "_view_name": "OutputView",
      "msg_id": "",
      "_dom_classes": [],
      "_model_name": "OutputModel",
      "outputs": [
       {
        "output_type": "stream",
        "metadata": {
         "tags": []
        },
        "text": "Using only 0.267 percent of all singular values\n",
        "stream": "stdout"
       },
       {
        "output_type": "display_data",
        "metadata": {
         "tags": [],
         "needs_background": "light"
        },
        "image/png": "iVBORw0KGgoAAAANSUhEUgAAANQAAAD8CAYAAAAPIYpDAAAABHNCSVQICAgIfAhkiAAAAAlwSFlzAAALEgAACxIB0t1+/AAAADh0RVh0U29mdHdhcmUAbWF0cGxvdGxpYiB2ZXJzaW9uMy4yLjIsIGh0dHA6Ly9tYXRwbG90bGliLm9yZy+WH4yJAAAgAElEQVR4nO29bYht2Xke+KyqU1W327LdkSWLtloa2dg45McQO40/yDAYB0OiCaM/ji1ncJQgaJhJICEzxHICSQYyYM+PZBwc7BEojBRCZMUJSAwOxuMPQiBRHH/EcSxkd4yCupEt5FitCEldVbfW/KjznPucp5537X1O1b133/Z54bD3Xnutd71rrfd77b1P673jAAc4wN3A0eMm4AAHeC3BQaAOcIA7hINAHeAAdwgHgTrAAe4QDgJ1gAPcIRwE6gAHuEN4KALVWvuTrbWPt9ZebK2952H0cYADLBHaXe9DtdaOAfwmgO8C8BKAXwTwfb3337jTjg5wgAXCw7BQ3wLgxd77b/fezwF8EMA7HkI/BzjA4mD1EHC+GcAn5folAN86avCGN7yhv+1tbyvvuxXtvW9+el/rje5VeKu+0nXqi+dXV1e4f//+5nj//v2SZgBorW1+ClqmddiW56ltGluq521If0Wf9n90dITW2tax6pN1jo+Pt+4BwNXVFa6urrboHtHp4/B5qo6kz9vuCp/4xCfwmc98JjZ8GAI1C1prLwB4AQDe+ta34qMf/WhZl5PMhb66usL5+TkuLy83jHt5eQkAW4yszMH7BNbRPnrvm7Krqyu01jb4lNlUQK6urnBxcbGh8eLiAl/4whfwhS98AZ/73Ofwyiuv4JVXXsHl5SUuLi626L26usJqtcJqtcLJycmG6YBrZj0+PsbZ2dmGGe7du4ejoyNcXl5uyihQp6enm3OO4+joaMOsq9UKrbVNP2mO79+/j8vLS3z+85/fmi+lcbVa4eLiAgDw9NNP4+zsDPfu3cPp6Snu3bt3g66TkxOcnJzg7OwMTz31FL7sy75sI1RHR0c4OjrC5z//eXzpS1/arB/vJWY/OjrCyckJjo+Pt4R1tVrh+Ph48yNunp+enm7asSwpsjnC9vzzz8dy4OG4fC8DeItcP7cu24Le+3t778/33p9/4xvfWCI7PGu4DLitpb9Nn7cBWr6H3Q/hYQjULwL4htba17bWTgG8E8BH9kU21yQnrfsHBSpNfhd4/F6qM6dsH9dq1zb7zkMa2z70Ag9BoHrvlwD+EoCfBvAxAB/qvf/HW+CbVW+OJnqtQpqjfeZjNNd3HYvelp659XeZhyou3gUeSgzVe/8pAD/1MHAf4ABLhkX7SaNMmmbMUp25eEf3q+zi6Lq6tytNmmmbozmrDOJU3Smcc8vn9O2ZvDm0TdXZZ83n8s0+VmrRAjXHp59b/65gl9jgtvTsMsa7iDdui/NxwMOkcR/cjy1tPgfmasK5FmXXvubU20Vb76NVmX6ei1vB44c0Z840ukXwMGC0RncVZ1X0z8Gv8+315wjYIizUXEGYOyG7tNuXee4i6H6U8LCSNksZ92h8SmOlZPblLYdFCNRc0/okuCAH+IMNixCou3bLDnCAxwWLEChgnLmbsz+yS5uqbfLnU2ZqV3pS+a6xym3qzclw3cWeT3UvuWO999luGq+9zVQWdFdXX/Htm/lbjEBNwV1Zp9sEwLfpb2m47qLfqTjyYSY35tBT3XuY8e8TI1B3BY86Dnstx31zthCWMv5HRceiBarSHHM2CEc452wc7lK+D67bwBzX5GHAHIvk51NuWVWf57dx6Ue0Pqw2i9mHmmJij7H0eu4v4dN+qj2Ruf2m+4qripu0vu85zYl5NL44Pj4uU8NJEen7TSNB9THoXk0afwVaj31X/XsfpLeai1144GEpoidaoHhURkn1nZGmtObUQo3ocTpGyYdReXphUJnQmTHRrsJS4a7GUOGs2s1RUKmezk/CAdwUoqlxex3nj6urq9lPoe8qeIsRqCrjkwSHL835i4T88TodiasSCH17VK+rPvRa+3F6q75TfR07y7i4Wl8X3MfpY+MLk96PWygdk9OhdCZ6/KVGXyv++FIfz31OSReP/pYw2+mLjHwZlPh0fEqTXo/e9NX2FU8mWIRA8Q1ch0rj3b9/HxcXF1tv7LqQOYPxTVBlQH+L1xmE9UYC1XvfvH0LAOfn57i4uNjQx3u8dhpbaxs6+Iap0sM3U4mLNOkReCAYZBadu8vLyy3GS9pZx8J59bkhA5OOi4sLHB0d4eLiAq01rFarjVCxPoFju7i42NDNt2o5X7pOKlguUCp4R0dHuH//Plar1WZu9W1d0qPzyXtzBCrB4gWq976TQOkr8JzE0SvwWq745rwCX1klpUUZkK+R+4/12IczubtwKiD88dV3amK1VOyDTKSg15VA+Vj4mrsChVXpuLy83DAp2zCOqwSK9JCpKVBq2fxVeJ8XtTAqZCpQnKfVarUZI+nYR6CqZ/wUFiFQV1dXm28KOCRXiRpfF8F/rs3VQrnwaD9sV7lSSbhUWC8vLzdWikfV+qyvVpT9uYXiwlPLkgnIKOryEId+74Kg1pB40zzrvBKPMxG/KdFaw6uvvgrgwVuxZH72p4xO5l2tVjc+7vLqq6/i/Px8a030mw/av1okFaj79+/f+J6EKiLOe/qmhIIrmyRg7porLEKgeu+bxfFyPXcLpYyprp0eRzFUslDJ5XPX0euSDgAbhqQFpYBR67uF0ljo+Pj4RhkXmNqdDMIyraPt9Jw0ExJDqECpe6lzw3Peo3AojQC2BD0JlH9g5fz8fLP+KlBAdvno3qmCSALVWtuUXV1dbT7Sklw+9pXOHZ4IgUrWwusoI5OJdxGoKZcPwA0N7zFYcvnUQrGuu4paX2nS4NyzWXrP+yCtpEnjFo+hNI7gvZR+droJTqfPha4H8ZImt+KKlwpBrbWPSS2UZjiB+rNonGu1NurqanyWjtpmV1iMQKUYykEZUWOTkUDpAk1ZKGCbSck8bpGS1dKgXoVdPxuWEijqwikdBHXvnOnIkInOxNDeV5pfFQ4C6ztD6hjpdpEuF9zj4+PNmmlcpLEYaWdfqmg0huI8pSQLBUl/KkC870olfbMvXac1UliEQAF5ryPdU4YZ/TQWGrl3qcy1s7uCzrxqPZJGdoumdTylq31z4UmfWwplWh2f0uJjUhfN59jp9XuOK827r5nfJ53K3MlCEZIAqaDxvrdz8Gyf4tb5e81k+VJWifd4VKZk4Owuny6cthll9ICbTFhp/ikLpTS5lVJa1YKqICmzM4NG5qN21yxfco085nELVSktt6wEZVqnI1koV1jMQjLWcetCy6VtlOmThdJxU/Goq+dxlI5ztA/l5yOeTLAYgfI9IZbruS6Uulba3jWiCwNxVRpVmYL4XHicFs/ypfguWSy1NEqLgguPM50ykcYZOneqfd0KKiid2sYTBapENHZiOl0tpwoO3T4VBOLQbQ/2pczO8ai76C5hEihdS3VdU5ZvF6GqYDECNRVDjSxUcle0HNh2CSqrpfXcrXILmFw44tQ0ebJYVADK9MokhNVqtWFAtWZapozr88WjWoqklVV5kMak4HRjV+nQfSmt5zGKChTLgAeZUdKg93jOcsaNninUsXoMpfOs90cp85FAPREWatcsXwryVZA8hnIL5WUsH1mBFE+RFuJRQUoJCrd2ZAj34dVNUqWgwpXirWShOBeaIEjz60JPcCYnrerGcWNX9550X0rnhOWsoy5zcvncheVRBVOVC9Pq7vppO7eAOk5CJVSLFygAO7t8XJzkRvk1sLuFcpevEihPB7urV1k4t6xuPQBsCVMliGQi4tMkh2YG2YcKr4PTreWcCx7J6Gp9XdB1XK5UgO0nLzymdDfNXUgdk/IJLaYKNq0Z8dzW5Vu8QFWT43WStZhbnjRc0sIqSKodE14PwtlOGbKiT8dN5k8uYEVvGpe6qT6m1If2o/Mw6itZeqdFrY+3JY1pLRIep0HdP3X1nIe0TsUTbOtCq7TtGkstQqCAmwyj5YRkIZzBpwRL+3ITP6rrTJEEJtHuNI/GSm3q9UZujwqyz1eqM5rjkfBqoiHNozP06OfKU9cijT31qWMGthMu6sJVCR1tUwlVms+qjLDoN3YPcIAnDQ4CdYAD3CEswuVLJn9UR7NRo+Df27iLkeIEjyG8TPvyMvZTJUYSbb5B6xuqzKBp/FMlFRL97De5RO5KKs3ahz5y5HFlcq1Zl7RqJo/lxKNJFG2nc+Aun+4nsQ9PMHDONKFSPYUxSkY8sTFUyvI5pDhmF4HSxXJ/OgnUaB+KOL1Mr30TmPe1rccVuoCeLdPHZ7QvDbyV4at4RtsrpDhD++c9Td/7eEe0+RqooKoAKrhAaVJC8aii8PbeLint6lm+BKMYahEC1Xt+UoL39JwLo/9X6wtGDetMrvhcC7v2T9dJK3uSwl8q1P0XfcHQtXU1Xk0j69PZLiwaXLtQsC9PFaeNXd0wd2itbVL5V1dXm/Q034/i/pbSRGDf+h+/LJt69MhB/49Ytw84xvQjzvTArPczJVSLFyhg7Orp+cg18/tervhG2jrdG7k1jrvCo3XcOhJcgytjVTTxWi1CAi+vxjxFtwpLalOtS7o3KiP4vtRofVJZ+lUW7bawCIFKbobe03MVpmSdqlgpuXdpEZJr6AKs+CrXMtGoeBw327tL54zM8xT/6NGFNMVQwM2PtKR5Udz6EiQt8Gq1Ggq3/xRIU4qh3OpyfnSu3JIli0O8lTup1+l8F1iEQAG1xtYyZ+gUQ3HS0kOsjssn2AUnxVDpPMVVLsxJS/sTD87syqwaJ/hY/KkJpT9ZCB8zjynm87l3hcAxT8VQI4Hypyv0Ho9usXTsWublpNuTFI7fy6rrNIcKixEo18wjF4cTNGKOkRWq3AbfEAS2g1oVTNVuyvDu2zuza1v177W+zom20SetFY/+WK512LfX8/s6D15Hafb4w5+Z03Idp8c0vK8fllFLpH3reLwvx02c3r+Wp2f5RkmNqTLCIgSKg05QuXzaRt0ZbeOWwfE4bqWnEuaUQPB7umAaBDtDJoZTSMKp41ZBVYF2S5cYy+d/JHROn9KRnvp2uqYEyhMHvKd9zRWoJEh+j+fEp0c/3xUmN3Zba/+wtfbp1tqvS9nrW2s/01r7rfXxD63LW2vt77fWXmyt/Vpr7ZvnEpK0rJZ7XdeGVd055SONnNonekblqUyFZ4p5R+NIFqxSTgnSGCurR/rmzGU1t6nfREe1LnPmYnS/GmdqM3csCnMs1P8D4EcBfEDK3gPgZ3vvP9Rae8/6+gcA/CkA37D+fSuAH1sfh9Dag2+nAdMxlPrxqp3dCng8pLg9hmK5ux7UjuoqatnR0YP3gdhOv75DDa4pb319ImlZvZe0uGtX4ObrG67ZOb/JEgIP3hPil4x0DZKGZ/nx8fGmjX71iPg4F6zHujo+vm7hVl7nR9dDP0Wmc+OfCNM55deWRi5fgjRXo/qTAtV7/5ettbdZ8TsAfMf6/P0AfgHXAvUOAB/o16P/N621Z1prz/bePzXVjxKeMn7KxKzPNlw8oXkrzlIXUCcxuXwpePcAW/F6qjr588k1Iw3JlSLoawfKaNqXx20+Ty5gbmF4n3FM0sSO3102t4raj/eruN1d1PmsLILOqc7JyA30a1cqlbeQrqsywr4x1JtESH4HwJvW528G8Emp99K67IZAtdZeAPACAHz1V3/1loUijDJNBM2k6Q4+GcWzb4or9VcxpC64p7lb2868uSZMX1LVF/OoQZUxea5an3X0vrt5FDJP7BCPCmkF/gKiWyjiVutDC8T2avFoHdRCKePTQnFc7JPXIwul8+0fuSSNTocLH2GOME3BrZMSvffeWqvziHW79wJ4LwB84zd+Y08Cta63da6CAWwLVGImLlR6wVAnrHL5PA2ufXjWj+2cybigWu/q6mrLDdHFJ7j74hZLmZvpdWXASqAm1iW6fOrWKc4kUE6zCtNIoCqXT0EFWXG4u+fCtVqtNk9YJIEaCZbDw7BQv0tXrrX2LIBPr8tfBvAWqffcumwSqoV2gVJB4bWnstUqTbl2Wq731PXQzKJmEpUB1HXyBfOFIwOoi+XxCcFdHGV2dfncMqtGV+voLp+DCw3XxhmRdZ2ZtY/K1VKr626v0qFrqmNWgSJ9GrMmK5XuJ4GaY5WG8zfZOsNHALxrff4uAB+W8j/XruHbALwyJ34Cph8VGf28PXDzP4GquukewZ+OqH7JnUwupY93avx6L218ps1kx+1lPibte4q2ND963xNBCU811jnrOlVnzvhuw2dTawrMsFCttX+C6wTEG1prLwH4WwB+CMCHWmvvBvCfAXzPuvpPAXg7gBcBfAHAX5ikAA/MeAU6GdTK6spRM7tF0glQl8zv8VrvqbVTvKoxyUTU6DxP2lBpT4F9CpZdC7Mu3VL9cqyeu1XWftI3vbUuaVDBdevCMRCXulWsr5ZzykJxzpxeXTeFykK5dfI+Pa6dY5Xcck7BnCzf9xW3/kSo2wH8xZ0oWMNoUBp3ANuLnmIKbeOvlHuA6/2kOspgKb5wwVIXzX9Oo9d1etz1SWOcclsSDdW4U52qvbpO6gq6i+o/x1WtJ/vQtVfFUs1vuu/0+HyPBDjNZQVP1Bu7u/i3u/rCc+rvSssBtuG2c5YUwaOkZU6bxTx6NCdtTiugm4bq6qUHLzW+8Yyc9zWKKehqJdfRXUvX4EdHR5sUuW8+V9p/jubVRATxabKDkLSzzgNxKP2Vy+e0uZVifaUr/QDccBmVZt289nlxPCkZMcftc2tzGwVLWIRAATdjHC0jOBMmHNUk6aKkjWOvqy4Q6XJGU9fQ8bg2pVBVY0uWtXIDq7Erg43GWPU9Vea4lWY/VyFNeF04R30m+kd9j3gjXY8EaVfBWoxAVQzgWaWUeUmvTOg1cPPV6iqzlY4V7ioDpHVTds7HxWsXUOJVoXZL6n0mYfIMWAWV1dW2VUZzl0waPQeNP9N8VLT5w79pvYnb14JzTI9hJPyJjikBW4RAXV3lvwRNzMWJ8VfgddL8WidaFyY9y6efcFaX0fErPfo+j/4lKP8N0P/A2l/dJw5/EiK5hOraqmulzOoCwf6Sxef8c8ykX4WStAEPvrcObLtlil/dT45X+/QsH/8SlH0pbWrxWM6MorqDo30o0rPLkxIjwamUP7AggfriF784vE9IAuUfuHSBArYtlO/fOG5lyCQ8rnH1Gwz379/fMEj1j/BXVzf/v0qfdCBoKnkqbT4lUBpvplSwjsP/ElTfyFXaFQ9dYpazHxVG1iGTk6F3EajW2tafKLBulTZne9KR4i/i1eMIRlZ+0Vk+3W8C6mfwFNJ9LXN8fj6Ff1eYcrFUcKegcuV2pblyd28Dqrym+gPyePcZR3W96xhH7u4usAgLRa1TgQ/WN3OpEVVDUxjVT3dcFS1A/Xc22pdaOLcs1QOyWof41IVRq6SZTK2j9zlmdX8Ss1YPx7r21361LWnTezpGPivH9rQO+hyfzgvraR11w90lU5fPcSSXj215fXJysmWh1F1NxxFvjGDRFgrYX3tOWarb9LUPTXMs0JMIlYK6rbWZi2fuvM6lb65HUcEiLBQwLQCexfF4J12nn+LyvkZ1vZ90b1SWQOMZta5pDjxGqsbhlrhqCzywTiPaE21TQjSaf020pHHsgtu9CU/Y6Pi075SgUXx6vissRqBSoEzQydSA190odw/cLfN7Cj7Jeu2LSXfB/8uINKj7pT/dv9F9I5b5pqvW0fvVBuquG7s+b9qPjylt7CZ6nb5qczXRpXPtuLXcExuVy5f69SxfGn81N6MywmIEKkHSsiMLUdWvcE3tfVV409HPeT2196NAgXD8SZtWMLL0GmemOqOxOC0VDbtaPN9PqvpLdTRGTpY80aV7UcDNGDJZ8F1gMQI1+gC+npMpfA9KPwo/dx8qMdCcfzDUOt6f1nX31P/lzxlCU+Ka/FBaWMcTMT5eZVpnuEqRpGSL9ptcJ6ajU0ZWadUtDoImjHydCMliqKXXc+cb4qNVSuOeY6UcRkK2GIFKr28kq6JZPNUsaXIrbePCBNxMp1d9u5A43WQ2d5HodvhHWpR+nwfNVnnmTF0zdfl4dHdJr6t9KMehdDgtLPfn8VjOPvVN35SFU7dM53y0D5X2khT31M9p0HVI5w6Ld/k48cC0K+Han+ecaP0PVzKJCqLi8jgjWSzX8rrAHhf13m+kh3nN+sCDv3gBtt/tSWlxTw+rgLhA6dHHrKlvBRVAbaf1lIn9FRWO0WmlYHr84jEO+9K4lDjYdxIof0O4ws9f9U0J4tSxOm/uAosRqLOzs/J+elLi+Ph48k+r1f1J35RQKzfl8mm5Py3hjx7xT5i596F7bPoEAceh31pQ60FGIHOcnJzcEB4XgOTaqFUkjhS7ULBOT09vPClxdHSE09PTLc1+cnKyGePp6SlOT083NJAuv392dnZDoDS5w3n2pAdp5JwkC+UCo/2Q1mTddhWoZOE3c1XeeYTgGtGtlMYZqvl8YMm6efwAbMcEvmB+9DKPezz1Ddz8uIoeXSuOtKW7jSpEWsY+3f3T+U19+X23AnrftT7xce3cjeO8sMzdVj93t93fqFWBSi5o5e4pfe72TVmoXa0TsGCB0klkmbpZGpAnt4DHFIi6e0f83pcymgugljuei4uLGwuoLl8avy680ula2GOY5P4luvTVdxcWVRgaE2mdJFDOrGoleVQ3zF2y5Erqa/Q6N8nlU2Xi/ficumudlNhcd28kaIsQKOBBMD4nhqKguEBpXMU2zjCKS3GznVsbnqf9LLVWhEpLVhYmuSi8x6PHG9qXWmwdr9Oq7SvG0f09bZ+e5Ga5xyqkKwlMcsWSIlEcpE8tlMeDir+yVC5Mt7FQixcoDjSBLmxK63q85KlpMprHS6mMWTjiBXCjvcdmmkJWl0/9eY6NaWMygrpFqrkJxEHmS0kLbZ8ydIQ5z/Jp3ZFAKS79iKXSqsKpcaJaBx5Xq9VW7MSx8doFKsVQKX5ygTo9Pb2RlKisU4LKw1BYhEAB87SBWiFdWIJaMWrr0WvroxiK/WnWacpCaZnHCcRHZlOrldyxdE1cylxqpZXJPIXuljLNsVsPx630O43uiiq+ymr7PKlbPOXyJSs4EiYXNrf0id/SdVVGWIRAtdY2Tyo7uIVKbpNaKV7zyLr+H74pHnLXjfg9+6RxitJBHOqv6wImAU5uCfElxmEbFw7F73X57lBy+dxCuXAQt/40ceA/x6EMnerpfQDRUiWXz11Pj6P8p2lzV2La3xwBeiIEyq0NcDOOUQ05eoxGJ4f1+HoAcWm8xLKpGCvR426jC4hrY7dSSVvrOFwL63g9s1fFUMkqpPki/e7yJUugeL1c3U9n8ioDyj49y1cpIL0/ZaU8GeKfg058sy8s8vUNZ4iqjh5HdabqVW12qbtvu7uCSiF4X6Okzy59jNqmJFCqOzV/Iz6Ys/4Vntv0OwWLE6ipBVMtdhvmeNiwBBqWDEucn7ugaREun8c4lVBpWpxPIzBzlrJ8np0jnirLB2Ary0eXTssUN3+khe2drtG5ljloPEjcKdGiLp/+CMTvAT770LEr/QTvl8fLy8uNe6dzoAkfulaKW93lo6OjzXcsSKuDJkLcrfTxMIblUyi6rcDQwhNSydUbuX0jwVukQFXgqevqq0d6dGFgf3qPZazHIxnBBVDT5u5ejejhT2lgmTINwQXK6VdmYj8aY/q50litg9JFIJ40dh+r0q39+/hTPJxo8zhVk08aA/n8ebZQPxumuL3+LgmIBIsQKA/GHXQRePQMTaVtNAGQ+k1lZNYKp2cHtW36kQ4PgquxVPh8rNVYPMvnNCpUgjyiI63DKMAftanomrIeIzxzfxx/1U+6noJFCBSQN83ICJoB0olw7eN7L8CDDKK7SSlQVUFKfWsfWqbacy7TpfKkQau2fqwYwvHoXPt1wp3KE42Oz/fj/EjQpyT0nvahQu9ZQt7ndfrpPT+vBLaCKQFbjEDtkq2r3K0KT6ozlflxNy611/ORGzUaX0W/CrW3Vf//NpDwzm1XWWm9TvPl7UfrUPWteH2e0o915sy1nvM6ja2CRQiUxzMVpHjkNjGUCkEVQ7l/v2sM5bFGlRxRrc777F/p0La6+I8zhvI2pNdjpCqGSnPpuObEUKOxaTuCW0EvS9dTsAiBqmDKMlWL68KUGD9pxsRQldYbCUoSQh9XpZk1m1XRmzQ/+yIDKi4V2mTdHEeyAD631dyw3zkKSIUuCeUUL+i1CtnUerlF0rkiqALaBRYhUL1fv/KQyvVcJ4WfN3aL4N8N50T5i4MqcLz2hQcycyTBZT9MH+unl7WM9XleBefEr28yX1xcbD3Aq4KSGImQtgK0P9YlnZ7edjx6ZOr86Oho65vnShdxHx8fb8YAPIh9OFe6Jiogum4aN+tDusob1RMcbK+0VRZrZJlGQrYIgQLmxRpzfiPL4v1oX6ndqN+p+j6u0bVbBD13y+X4HY8KlloXZTqCxxYVTT7OKqZ06zr6VbgrPvC6U7GTWiIvU9cvzbmfp7muYBECdXR0hKeffhrAOKmgrsz5+fnWJqRaCz2OXJW0D6X7Tq21LevjfRCv/lmAflj//Px88+r35eXlZjH5sCotkH6HQt0yvnLAeOPs7GxDE8tY9+Tk5IZAEfShUD7HRlDGpMXhHzEQqtcv+Er76ekpTk5O8NRTT23WU+larVY4OzvD2dkZnnrqqS3r4FlZ/SME5Q8VVh0PcZDGKtPHV+D9JUTOgc5HOnd+rWARAgXUn9T1xIELyShpkHx4xeOWZGSJRvHAXDxTls81Z2X5qrJ0nq7nJCWmLETCPaLF10ppSe3U5fOkREVDskpT6+pxpZ87PBFpcx3gVL206NWiAtlVqgTB7/nE7tq+on9UNmLW0WLrfc6nBvwJxwhGSiKNs6J1JICeeq+EOCUoKoGa424qfSpY7MvpGG0ROEwKVGvtLQA+AOBNADqA9/bef6S19noAPwHgbQA+AeB7eu+/3657/xEAbwfwBQB/vvf+yxN9xNc30iB47sEm71WL78e5AuEuSdJ0nr71jUPdTARubgD7xifnxLNdAqwAACAASURBVDcvHafWVU2reDiv3l81z6lOotFpd1qVlmqzNeHTeSe4y5dw0I2r+vOfz4uOVeFhpM0vAfyvvfdfbq19OYBfaq39DIA/D+Bne+8/1Fp7D4D3APgBAH8KwDesf98K4MfWxyFMLXLv2x9iTAKlWtkZ08sqLecLy/r+NIZrROJwAXMBcOZPP2+ndOg9L9OjgzOwlqslSHiSMHm5KwNd0zR+3ve1dAugfWibEZ6pXzXfo/mbW2dSoHrvnwLwqfX5f22tfQzAmwG8A8B3rKu9H8Av4Fqg3gHgA/16Zv5Na+2Z1tqzazwlVBPKBdeFdw2ftLozvL4050zvdLgwsTwJi/ar50n7Os7Uv9fzOq79PT1djSnNV6qv8+d0JGHy+z5XVd9TjO3C6LRU/U8pJ1UAFf5qbubATjFUa+1tAL4JwEcBvEmE5Hdw7RIC18L2SWn20rpsS6Baay8AeAEAvuZrvmZr8JVQAdsTnZhL8air4BrXd821r3Rd9cHjaHG9XMdUaX+nwbWrljsTqMWZsj5OSzUv2s7XwPFX81ApmjTuNLcJ71R/SalVQnxbYQJ2eMGwtfY6AP8MwF/pvX9O762t0U5byr339/ben++9P//617/e+5qlSVPdkZBMTVLVxxTeuddT5aO6c2gfCfgUjam8UgxePzH2FF2Oa07/U2s7R8ElBTSiZQ4NCrMsVGvtBNfC9I977/98Xfy7be3KtdaeBfDpdfnLAN4izZ9blw3B4xnVrizTRICnzv2ZverHOqnP0c/TvnN+o8d0CDoOdbW4cDoX/viQl3lfPjYfs899elIk0e5xpN8nbdV9H2uVTtc5UA/F67bWttxxTWDoZ56Td6H0Ks/p/V1gTpavAXgfgI/13v+u3PoIgHcB+KH18cNS/pdaax/EdTLilan4qff8cKwvqu4JUYj06AKmbdKjR5qq93q6q+7Cmo76xqn+kjBWf2fDa9KnjKI0V2XOzDo2Mpv+UcF6fW/MCX+E9KYw54V/ZeNv+aqw6DrxkSH9bqLPn4O67lrH4261HiqA+tUnhZH1HlmikZDNsVB/HMD3A/gPrbVfXZf9dVwL0odaa+8G8J8BfM/63k/hOmX+Iq7T5n9hqoPeO1599dVJ4pVBuZufBGgkUMTpQuxlrj1dIJJwANg8acBnDfX5OH32UJ+uUBqU2SkgmuptrW0YRK3VaN78ubyUUVXFwJ8D219cXGwEjOcsJ36OhfNEes/Pz298Ruz8/PzGs3weL5J+zpt+9JPPDlJA/VNh+k7b1Icu57jttxKo3vu/AlCJ658I9TuAvziF19qUr29UAuWPHVW/kfulfar145EWwvEkC+XWU3/pgV3/LkXSzAA2FgB48CKlW2tl3CkLVfWjyqFqz6NuIaQ50DlmPf9WhVtY/2IvgXSrxVGlUlkSTanzSCWhczUlUFVZBYt4UgKopX7ky6ffnBhqxMRax49JACrcSYjTOEfuntZxWl2oEg0ExT2aa2/rAqr3koJSYanmzfGnPqt58rquTHzunXanZy5oXY/tHRYhUFPMzXO1LJUVUG05ZaEcP3DzUaXKGrnFcgs1YijFlWIYnnuwrf1pmVueEYO6cFVjdjo0pa59ugLTcagV03UCti2Cz5+CWyhge9tDhVgtDhMSBI8dtY1ep/NdYBECBYwf2NQ6SWgqN8yPik+ZnuUjTVwJU6UBvf9KoPS1Cn3HR3FV58kSKBP7OeuN5rrS4FMKQudzNHbHT6HQOfCNZV830q/13BVmmb87RpeVfatgK00jKzS6t7gPXSokCzKqM7ducp926adyGSommMJ9l+AKaJf+5wjbPvQkKzmCkbKb0091f4rOuXVHsBgLlTJPBF0QdX18gfzba76QPK80YLIG2i81nNZJ7apnx2gxaJX8AU1/R6f66dMJPPr+VJUi1vYKtGL+TXFdH804Ks5qnD4H+k5WwqlzonOja6D1SUf1RwHsk+PSMse/S5Zv5A4uQqB6z2nzSktdXd1Mm7vrpy8aAvm9quoFQ72uYialx+k4Pz/fpM41fe5fu1UGIm5ldv0HD2UkfdVchUcFSueOffLermlzVxq8R8HwdLwKt8Z8pFm/Yttaw/n5+Wb9PW3u4M8vcl5G/7yhmcYqbZ76qWBkYRchUFdXV/jiF7+4ufb4gGXKwL6v4377nH2otNdS7UMp7lGi4vLyEq+++ipeffXVDaPw7WIKlAoh91Q4Zo2hNOBWJvBvO6jV9k1Q1iPelJTgeClQVAJ+j8KoTJ+8ABUo/T4FFYg/X/elL30J5+fnW+vlVlDjG33rWPfokkBxTi8vL7f+vTAJ1Bzr5GN1WIRAATcZ3kEnm4yomT1/5T3t8+jiV366CpAGzB44kw4VDpa5kLO9C5NaDbqCOg9ubVJQPaKTwHaeDfT5TsrJM2qKQxWCJguIk7RSCP3jL6ogXEmoAKlAqUCzbfI+dA0Vj9PHe3rU+U+weIFq7fr7BIQpC8WF1SyW7oZTI7sVIR4eRy6fMo/j8b0PtQpcZGpEfv+AfRAvvzGh32nQr6gC2/8n65qV9wlq5VygPH6pGIVj8DiG2l/Hwj75zQj+WJ/zxHJ+d4LfdSD9pEkFRu+Rfr2vf2in9PlTEuoqs1/97sS+AvVExFBznuVzoRrtPbnL5xbK7xFcw3u85BqcddS19Eeikkuq46b29DlIiRC3bB6rJJdPcWgw73OdxsY2ab5cgSVLodZJ50njuaT4dA5UoNSyVHGObhHwnPPMz5kRT+XyjYRmBIsQKI8dFNx1cddMXZDR5DvO5POnftUl00VQy6RtPeOUvmSkMYhq22ShPCHh2trdJ58DjkXjiWoNiJP49J7GKtq/jlHbUrg9vtExetbN10QZPvVZJSV0Lp1Gt1DJOu0rTMBCBAqYlzb34NvTzq453WfWcxcqFUJg3hdceV8DfV8sZ3Sto7FNlXVyxq7KXJhcESVX0ZlVaUvMnWj0BADxVtk2tZCuLJTukUB5UiElIVKfKkxz0+YKc+osQqDU5asCPne7NAXtrkpyse4qhlJ30vtj+1E6v7pOi0Q3ULW+l6mV1hjK3VhVEFVigvNKN440uEuqc8nxOn2q1FjG2FJjSrphzCoqH6QYikePoXgvbUOo8I3+cM3P07XSkGAxAqX7UFUs4AKlaXOPAaqnuRXn3H2oFD95mWapdP+JR0/z83UF7cddPl10dQvVZdQkCXAzM0iaRgykYyf9PjcqRGR+vq7heMm0HIu65DpGjonzpf0kK0qhWK1WN2LPtIGrwqSxnseR3pfOTYLFCxRwc7PMLQrPPYZKFmRKkCqXz3/KnKrlvZ4K4YhGPdexqcuYaHIN7W6px3GVy+fnWn+XufF+3SJ6HU88cEyazEjrxHHrOqiidddU3X7tU91Jx69tCGktqvlyWIRApQVJdZJVcMvhLtXoSYnEiLroqa4LUGWxKjyOUxfcH45NONRFTAyXLBTbqeuYwGkn0BoQRzU3SajSD8CWdVELn2hTmtXSKrhgqAAC2GxTeBs98tz3AneBxTwcmzSj3hu1cxx+Pqrv596mEvbEtIRUv9LCib7ReHet97BhLg1pXu+679G8jtpP8deINx0WY6HS39nofR7J4PoXKG6hPGkAjPehtA9/HClZIHfxdKdfYyR9/V3r8sh6hOSKaV/6hwPav8cZvvApwZDmmGPTMRLYt9JEy6XxHceRLAn/zsYzdIzZdE00rlFaOL+6QU0LpvtLuiGurqEmKog/HUeweJcP2M20OmP4uboIo4nyMnURvD3ve8ZN+2S7EeN6/ykF7teKz8daHVW4nJY07hG91TwD+YOU6ej1dh2T0pj2kPRX9eVlo/72hcUIVHpQFcgu3dXV9tPm7se7xQJuWigANzSfHlWjpRiJddwi6kOw6aMsap1U+FwzEzQjpn+Do/2Twap4yl2htLnrc+dxxNHRUXz6hClzZt8SXbRKnBO3UCxXPvA9Rq4HGV6TK5p00H0nzerpONWCVYpmJFiLt1BTLp/WUyZW98QD5CptTjxVZkyZhYzuDOzC6gLlwuRJEsVDBlJNrNekQx9CpaulNPkDszo2vUdGS0A8pJ3A5xL9AVYVJsXr87tarTb7Txw/8MBV032oqTjIhUjbuEAl15OClFzSkbeg8EQIVEVkxfQp05eOyuiOt8r8+bULZrJ83q6i1XFritavffyaZdP76oZW+3d6r0qbu/JIa6QC4eNOSotKya07Qe8na+oWivR7vKUuuuLQuVGPQHHr/N4WFiFQwM1NVp1ElrmAVEkJt1TaXs9TUiJt7PKYBKz3vqGD7dMTHM60rs2BB09pE9wVVAb1uUr0qctHK+fz6syaGF/jJWVefUJCEzO8R2ug93WTWWlnW3X5PCZUWvS+C39ye1Uw3XKNXL1kqRZvoa6urt9ydRhpSWVcFyRn5LkuHzAtUM5wfk1B9yckVAH4E+gV6KLrExJJsLS+j4v9TAXe6vIli+50aCYNeOAyJeFmv+kFQz4p4fNdCZQqCZbRJfXn+tT1o3Xzx5EIc4RJ5yLBIgQKuOnaVRbKr33hkgXxtsmtcRcruYMunAm/nztTVfjdHUnz4/PiiYjRfI6YwMeS7l1dXW09J+f3qjlQV1PnzxMFPj+JBh1zsrK+Rv6EhGdiUx9a7tdzYDEC5elRLVPQifUUqN9L+IH672y071H6PLVPbgk1ZErTptT+XEj1k1C5uzOFc1SvCthTPJLG75m9qs0I74jWxA/VebUmiY5E0wgWIVCMQ4B5TxGwvrp86g7xOlkUPaaHYz0GqZISTgtxePZx9PS5ChRdKd/Q9EeRWK50t9Y2NKSkhKfAnRl17EqvA9voXDMNrqlv/3gM6fK0Ofvwb20Qh/bpNLiA6vfePcOnc6j3tczxV5AUl8JiHj1KGaAKkpuVyr3N6DqVJ9dG+/G+R/h3zSAl+lLM5HUr5ZHwT7mBUzTPmatEU6Kruk5u5JxxjPpySO59BVO4FmGhANwIgh3cKoySEm6xeBwtemXN0pPkisutjVpOt6LJQqmm9iwf+2cdWrGU5VON7EyhlnAUP9BCadYtPSiqNLGuW0YfBx9dSu9D+aNbes9B10Nd/d771rcsfD7UsmlSItE7ZaVGQrUIgZoblDpTa6bMmTbVJ6iQKX7tR4NYx+WC58Kq1+4mpgyYBtAKikddDRUQL9M+fbzO9B4n+vxpew/8lT5t5zRoYoDlKoCOV2lNQqUKyGMfTYBoOfBACaT2KdGzLyxCoAi7BOcpAOYxxRFzkhJar/Kr1SJ4Zi4thFoP7XtOX65FPbD2cXv/SmMVM+i1KpFERxXEp2SAH319dmkLbM/tVFLC0/JaltrPTUrMgcUI1K4uX3pbt7IAU+4dy5QOCk5l7fzakyJuMd2tcU2vmjPNiyYtnHbgJiO4+6uCWMVGamWSq+f31Nokl49MzDr66JFaFN3wdZebjK/XdBtVMPRrRu7qJffQrd8uQrV4lw8Yf6QFuClQmrlxd1FdDbdEblUcB8/d9XD3zN2V6lsF7rt7/6qt3SLxftK8wHY2zR89Shahwp9cKF+PEc3JgvnGqqfPSb/W0TVIlpLl6fuE6ctL3qdnAfcVqNH9xQjUiMjKl66OiUmcGZLLp1rQ67mP7X2QxorpXNCmxlwJ2Jz6SbjuyuVzxt/F5VMcWu649DrNU3L5vH1FVyr3Pm7j9i1GoCo3xC0HrUR6jo8uCPGppZn7cGyqlxIKTo/Tklw+TyC4FfRECOlODK9joNtEXI7/Ybp8VZZPFQzrpCymu9UpKaHucRWD6hjpZlLxaT8OI0GqBOuJcPncbUv352SZUpzjfrkzttOQ6rigsE4lZE5HhUPb+KInQXJ86X6aR2VOgsYVTnualyTQ3nbOuceMKsgeVzrd7s5qHRVGnQuWabqf7T2+UiEaCU4FixCoFGTrPT2vGHbE0MD0V4+8fao7R2iS4KeFScrB3RAVNF4n9zOVVUJR0UIa0tyoJVSaqrlWenp/8PEZt8Ks6zQAN9PmFT06d8k913vqCvs4nG6lbReYFKjW2j0A/xLA2br+T/be/1Zr7WsBfBDAVwH4JQDf33s/b62dAfgAgD8G4PcAfG/v/RNT/fjfpzh4BmmU5asyc44rWaikKXmscKo7p9+R0EeO0guH2t4fPZL5B4CtN08rC+tjIeirFIozzbHS7jS4y+eJAN2w7X37f6j42JH/51VrLb5g6JbImd4TPCyjkChdqiA8HvT5mJOQGFmuORbqVQDf2Xv/fGvtBMC/aq39CwB/FcDf671/sLX24wDeDeDH1sff771/fWvtnQB+GMD3jjroffqNXWdmF6hR2lrb85x1Fb9bmtRvJVjKbP7T1za0vlslDfiViRkTaMKB9QnEl2KkJHjelmNNz/KpIPhYNcDX5wl9PlmHH1fRse/zLJ9aLxUkCrlaMP8eu8+j9zMlVLcSqH7d+vPry5P1rwP4TgB/dl3+fgB/G9cC9Y71OQD8JIAfba21PqDCLcjILeGkqzYFblqQ9OiR4qr6TPGW1p0SKLdA+giPCxOvNXivrNAohtJypY/aVLU9y5N1riy6CrQmFqo5ID2+D0VL7X9n43PC+fJxA7jx2JLOFeMkt1Y6hqur7a8j8Z6OdQpua6HQWjvGtVv39QD+AYD/BOCzvXf6aS8BePP6/M0APrnu+LK19gqu3cLPGM4XALwAAF/xFV9RfqSFsIvLxzpJwAjONF5WxVzOPK6J57z8qGWqrZN1UeFRawXsZ6GUYVIiQzdZSZ/GQGq93EL5k/Hsz4VKx8Z7vrHrioXgG+8er3nG1F00dwvTvKTruTDrafPe+/3e+x8F8ByAbwHwh/fqbRvne3vvz/fen3/66afj3sAIXLtMta02Kr1dYrgRvl0nfl+tOBfXHGB8odcJz1y8aZ4SrmqNfA3n0KH1RnSO+kvXu/Bggp2yfL33z7bWfh7AtwN4prW2Wlup5wC8vK72MoC3AHiptbYC8JW4Tk4MYerRo3X/WxYnaX/gZjqdZY4nWQOlI7l33k7raJn3k/Ckn4LHIOoSEr9bpcrqppgpzW86n3IXid/dZD3XfSh19Ui7z62PM41JXWXSmdZBs3ppzrS/NO5dYE6W740ALtbC9BSA78J1ouHnAXw3rjN97wLw4XWTj6yv//X6/s/1kdO5hqkqukgeryRXz8udYdN1OndhSPGDCmISplR/jkA5syg9Pg9pI9TdIdZ1za7ualIaGkMpkyVFQ5rVJaM76PU9fkp0+jiITwWAY69cYZbxfrJslZJJMOLVORbqWQDvX8dRRwA+1Hv/f1trvwHgg621vwPgVwC8b13/fQD+UWvtRQD/BcA75xBYMbSXceJSPKLn6msD2UIlq1glJZK1S3i0bEqY0r00Zq2n8Ug1hy4QpMezX86swPYWgLZX4VMBTMKSrJULDrBtFZKFSvT5+Dx9rkKjMaLGn7SUKlgqsLeBOVm+XwPwTaH8t3EdT3n5lwD8mV0JqVy+ZMLJIKpRfeGmLIBqeu0nCdRcq8P2I0EaJSUqxmGd9BgSj6P5u3//wUcyR48epTEQ1Fqyr5OTk6367grrng/pT0kJ3tP5r4Dj1wyiCjvnggLJenzBUe9zXDpGh1R2Wwv10KH3Xmb5kpZm/V1dPsdTxRs8V/claVEXEuBBli9t8HrqXGlS90avPXmgFlEtg4MzLr+5wGNVX+fVQeeDdRWSxfH7/ilmnTOlo7IgFFT/VDP7VaWh7qH+o71ar30SMYsXKGBaM7nLl7T+FOM7nsr66f0pnBUdSnfqv6LF3Q89n5OUqObOkwCjOXZhr+IZh5QccBdTf2q9qvmp+nO3111Av6fKSF0+VWLa576wCIHqff6TEsCDfagkTCmuArJL6Vpcy9J1EqrUPx+lUSulLo9bNYInFFxLT1moSmCcwUZz7PGpanPSQbpGXgXbVv/uruf+10S8x/6IUxMz/sSIPmqkfei3zNU91joVVHP2RFgoQkXsHA2fLESFM1kSPaYkhluaygImjet10s+zcpUGTTTvkqWagsqie51Re4/xfFzAtuUY4U9C5fOgLl6y8FUdxe+wz5wu5jNiaVK9PDF1EoBUd9TXlDCl9gkSDaP6c8Et46jPua7zLveq+UmCV7VPv1G9qfYVfX4vzUel7G67TsBCLFTvOSlRTQ5dE/3AZHK9tE0Skn3T5skiaT907/yJc0+iqCYlLg/EdS+H43aGmOPOqtvnrozW1U+fOSid6jb5vo66ohpX0d1SS6Euso5FXb5kdXQM3p/SpW60fzJAafYxjmAkeIuxUIS71BZ3gWMKv8dC+/Q51woma6DnSXkkSGnuuTTOaZPmxWndBe5yHZOVvcu+FmmhqEVGpt+D52SlknVRXHPcxKmkhDOPps2VcX3fLDFcCpRdw+t+kD9RzfppDOnVENKr81EJmwbzmhRhXU3H+zzqn8p52p74dG6IQ2nVcWqiQy25vrqhKXP1CvTxJ51bwmsmbZ4GldKZKlCa+fL9B2WIxKSevSJ+TacC+Rt+vmjEyXvK/P5TmtylS3U8I5ZcrNTO+3AXamr+0/Xop8rA6fbf1Hj83DN6qZ1+Ccn7YL/p5cYKRlnRYbvyzgKh0gwP27UbwaNyY+7KlbyrNnddbwRzXdPkEu9Ly75Z0ydKoOaY40cN+9L0KMayTx93Tddd4Juzh6Z9VX0+ijlfjMs3N92rfrbGCxoLVHGO43sYMVTaWN7ll+hJc+Bz5jGFxyPuyqb59Zg0zYvj1ScPvI263hqbuQvndLKc4/H5VdecQpKeJE9uf3J9Kxe44sknIoZK8YwSnphBJ0K/quP3iN8neBeNNSfu0HPXqtqfB9xVDOVtU+w0RcsIvwf8ytxz+/d4JY1LYyePjRxvxeRTMV2KXYEHT0ooHaPY7bawGIGaesHQLZRbAdWEVYbPNWhloUaWq7JObtVc28/5peQH76WEy+gdKD9XGjUbp+D0ajnwQIBIBxNDmslU/FxX1vHn7Ko18z4VFBfHOFIg1X7ZHAu1DyxCoHqffpaP9XhkWjoJVHLT3F1KgsP2Wq9yHR0Prz1tnp429zbEk9LmZEhlHnXfWE4cyZLP3StTwUhKhbhVoEdpc2bfdEtEP/LC8aTPiI2YXT+pRjpGWURNnasVc5iK1dzDSLAIgaqgiimSdUqC5W1c61b4tb2WO07Fk6xVJcjpV43Xy6uyKTzVvaqel6ugujJJcZFvY+gcOeOmea+YW3HxWvtIltD71nsqWPtm9hQWI1D6xRyF5Hro5PuCeRyQmBvI3/hW/MktURdMNal/M4+Buj8B7fTxOj0lTRo9TtAxJfcwWSjFNXrKWgN3nyulU8uPj483Y9V3lEgr7+vPEwNsy41Xp0XXQftxK6R9+ryxne9VjWLPfWARAuVBvDKGDzhpOddQwM0kBdsTP3AzEcKvtyZG9Q1eXWjtKwXkVUJA3biqzmhDNgXqitvvJRz+xIDSnejzJy58nIozKQSvp/U5/3pPkwt+7XOt5Ykm3+it5nEKRnUWIVDA+EkJZw6WKcPp0w/u5/O+95dMvNdXulxwVNDYNrk0zsxuYUYCldpXczZSRNremcnn0Off2yc8On/KzC5UiZZEW6UgHKfiGAlTUnBpDkcwR9gWIVBVgsDraN10BLb3gXjNdu4KpsB71wwfr/2ZuNR+zk+hssSeDfTxjWKoSpH4uNJcucs5KksxlMZbFHrP8FUZTJ8XVRzESVdb6+h9j6NcUL2fNMdTsAiBStp3BDrZvK6yQ+6qeb8Jd3ITEy63TsDNV7OTVk7nFX0jK6ZMlax6uq+0OigTVtYwafZ0PZqDygJq22o8ittxjsqn5nxqPHNhEQLV+25pc03tulZ1DVtlwCqreJu0Oc9fq2lzn7c5aXNg+2MudM143trNtLnHog6aNCId+vO9J6WzcsuJZwrS/CosQqCA6cG4ZXCGTyadoG6OMqfj532nyzW3Jy7YTpm9ih2Amwyd6lT3pjR8clMq6+gwl45UN1mVZHk8A+c0pzL3BNxSVTFVygKm9pV3sA8sRqCmBpDcOm2bUsl6z+s4U7tfXS3o1LUvkjNO5aJVc+LMNnJVvJ90PtXfVL9TgpBwzcmqVa65Co3SMjXPU/Pm3sBIycwpIyxGoOZ82xyoN3fdJdO6wPgLRwqVy6f4khvoSZERjXOTEl5W1dN7SVn4PFQMUdGSxkNc9Aw0IcA26hnQ5SIOpUHndCo7C9xMrPi/I9LlSxnbhFc9Hu2DtKV5qmAxAqX/+1OB+9ZuKVg+dU7wDFqqN2UZR+eVe7aLy5fwqJWbY/HmunzJFU5jS27fyOVLrlk15mqdXND03PGkftJ+YOXy7evuAQsSKMJosT2eSW3IZJUL59kvxQ1kjThy8Vyw93X5pgRBr0djH2nWfV2+uX1XuICbWT+HfVy+1Ocoo7ery7eLG0hYhEC11jbfyR6Buh4McN2l8veiqiyfZ768DSHtZ3kZ3Rk9771jtVpt/Z2mZ+x0HBUjaBDvAb3iGiV1NKulTxik+VU6CWzDv/PkvdVqhePjY6xWK6xWq7iGqY4LR+/bDzvzHlA/euSKyx/1Uro5d+nRI4W5Wb7FCxSQH/pMdTw9XQlSle5WXKNNXILjmRtDpc9Fp/iqtRbdGQpbio20zOeP9dIYFEeaW6dR2/tmrZZ7DKWCXllygqa0dW5dkDwGVEtPJUDwMlci7qHw6C8pVvBExFAj10cH4AzI8/Q8nWs7gqa2tQ/iVsZLrkgqc/+9sjiJrsotmXJdKhdt5K6NNKxumFeuZkWTx1B6rgkCnXN/Pk/XpHIhfX61ndPoZZ5GT/1UMOWyburNwvaYIS1ktSue2vGckEx7quduh+LTshG+hHskHKM5mFOm9+YIUUXjFFQMX5UD2/HQLgzt81vN7UgpVb/UV/rNhUVYqNau/XOHFOO4y6DuR0obq6ugZe5+uGVyF4rHq6vtfxFPVpAv1al21tgvCmbwPwAAEiNJREFUZStd6wK4odnTfdKRaFKYUgCprtOhY0nMmVw+ttHXN1I7XycXUKdfx+GMn17f8FdH3DoS5iqUChYjUNX7UAQypL/xSUEio3p8kVLeSQjcZ0/7Tx7XVLEJExEaKKf4jPj0NxIoFwZ3Q0ZWhnWT4lIcjlfp8FiEiQYmHpRWxldHR0db95XZWVc/pZysudPoc8Xz9N09vVclgKo5m5qnBIsQKOCBxkhpa+DBICorVGWoElRJgKo/tV567RZNrQUtVHIxKGA8dyZQGlyTz7VQmkAYCaLPiyoAra8MmiygWwynOVkVZ3oqyJGLmpSPCoz24a9zpExgmo/bWKlFCFRrDaenp5P11C1YrVY3/glez93S+JMYU1k+ZUgtT9k+71/xX15eYrVabRbSLWrSnASWA9fMwbR0srCr1WpLoJKbSjwutMTH+XSlpPSrJTo9Pd2kwjVt7m2ZNj85OcHp6ekNoeK5rpdbXB1zeuvXBcoFVa1kcnun4uCpupvxlnceIXDACdwSaQwDbL8jpExUHRVncgOV4RWS8CQLBWzvifBcYwq1Gr7wzuzptfJkYbWOx2h6HDGOvrHsLrhbG+JKtPu/XKibpkrCLZTS54pFx5xcvlEc5S6rz6vPQwUjl5qwGIEaxVDKtBqPqNulmtm1M1B/FFLLVFgr/E5PcjXd4lQxlLpYlSviTKNzVlkod4kVl/fhFoq0q0VPjKg0acKB5SpQel83h5XhqVBTUkKF2K2R0pFcTHf3XCnsIlBzYLZAtdaOAfw7AC/33v90a+1rAXwQwFcB+CUA3997P2+tnQH4AIA/BuD3AHxv7/0TE7jLJyWShWIbBv/ucumGo/8I+vSA9uMWKD154W6dLhDff+IC0tXQfpVZkitF0KwYr2mN2V7rjmIo0kCGTnNM3P7+kiYXlEZNSqhQVC4fj+6u6dpXWT4F4tA6Hh/5uT8pMddCzS3b0FbeuQl/GcDHAHzF+vqHAfy93vsHW2s/DuDdAH5sffz93vvXt9beua73vSPEu7h8KhjKPO6SVbEU8agbQUibwi6YLqzEo7hUG6tGJMOr0Ho2sHL5ku/Pvl0bq7JI1wo6D5VbqAzpFlSFLVkot06eZaNidIXnDK/rkVxl0lZZKAqhzrXi9/N0PVUOzBSo1tpzAP4HAP8HgL/arjF+J4A/u67yfgB/G9cC9Y71OQD8JIAfba21nlJDAqNAj6BMnb4dkFyyavB+z4VDF9JdSX0mz4dFPO6GkFbggdZXF81dOmD7g47qruicpZhgV5eP1/7aQ9VP5c4prTo2ZXa3xMShj2+xnPQpVC5fZaWShdXx+DgdHpaF+r8A/DUAX76+/ioAn+290zd4CcCb1+dvBvBJAOi9X7bWXlnX/4wR9QKAFwDgmWeewdnZWew4WSg+x6evwdM1qyyUul3uurGd3kvWxB9z4k//plOFUvdotB9lei60Mh7BrQLraYCulmA9rzcEnS5o6kOFj7iZQVU63ArRq/Cfzo8y+enpKU5OTrYejiVjuwvNe+zHaUzJER2fW3O1kJ68eOQuX2vtTwP4dO/9l1pr3zFVfy703t8L4L0A8Na3vrXvKlD6X7AuQCpgSXiqMuBmDKXunLZza5naMGWugTjv8adaOwkU4wsVvJTlG6XNiZv1KoagMvB/GSRd6sIC2AgI0+bc+lBBZxumzE9OTraSHDoezr+PzWlMFsrjI7dQGuu5y0l4VC7fHwfwP7bW3g7gHq5jqB8B8ExrbbW2Us8BeHld/2UAbwHwUmttBeArcZ2cKOHo6Aive93rhkS463V+fr5hykqgkuZTXEmgVBCBvMfke1PalyYkNL7jh1t0r4cxlLsjOi8nJyebBTw7O8PR0dEmaaCWzwVKx0XBdQvl8Umy+OxHNTzvnZ2dbQTl+PgY9+7d29DNuI1tT09PcXp6inv37t1gaI5T539koTwp4bGRu9xJoDypQRgJi85HBZMC1Xv/QQA/uO7sOwD8b733/6m19k8BfDeuM33vAvDhdZOPrK//9fr+z82Jn55++umq/61zLvjJyckmmFWNr9eeTHBc6Z/ntZ1fVxu5asUUJ7/mc35+vqU9yeA8+qM7BN0spduk1sYZimXu8tFSqkuUQC1/JVDHx8ebL1RRSLjBSy9DmZIWSQXKEy3sA9hNoFiPPxcqj5+SQFXCNBKsUbx/m32oHwDwwdba3wHwKwDety5/H4B/1Fp7EcB/AfDOKUScJIfk7lHzK8Nz4jShoBYiJSC0TJMYWkdjKM3ueR1301Qz85y0c7w6dl141ZrOGCkpobFK5fJp7FMJFMel1jWNSenwJyiqLJ9m2FwYNFnhc6JzoTGq0sKytM+kv10FKl1PlQM7ClTv/RcA/ML6/LcBfEuo8yUAf2YXvEdHR1tJicp1UatA16OyTslaOa7qcaRkodQ6paSEalj2ydjCkxIaJ/hiKxORaf08xRknJyc3BIqgSQlXXFREOu9MHKhQqJXSJInGUenRI1qos7OzjZVSQSB9Sqvi4JxULp8qm2ovSuc4bVEk128EdyZQDwsql28kUHSn5ggUsL1oSaDmxlAudCpAALb2VC4uLnB2doaLi4tNoK8JC8ZQXOiUlNBA/+zsDK1t/9uHBv+0guyD55pMGCUlKHiVy0dBIzNqDHVycrKJoSgAFE4mLM7OzvDUU0/dsFDsg/PJsREX10MVy5RAKZ2c4yRQS3L57gyqpEQSKDLzxcXFFjPrg7KjZAUwfkVjZKGq+MyDeS4GExEXFxebBacwkXHVinHxCRQoMo0KFO+7QJGZVaAoVAC2khwO9+/f38yrChQZmNaGceK9e/c2VkcFygWdQkeBcne2tYbz8/OtuNafukgCpYKZNm5doDTDqJlGwmtGoKjJKtAYh8zSWtuyUGTWOQKVEhUuZHMESuMztuOC+6M2pI8Lxdc71J3yDJwufMpOUWDIUMnlo+DOsVAE/yy2JyUI/gEWCoEKFBWGf6SFY2Idd2OrpATHqu3VQlXZPgqTrofiV15USHP1RAjU1Osb7vJ5ImL0A+a5fPtYKNKiPj7dUf8akNbnddp0JGjMQqZg7AjctARuoXR+NZaYCrY9zvLn8bQ8xVBJoHwfivWOjo5wcXGxmU93B3WuWO77YSpInnhQgVLXWhUTQed+pHSeiBiK7oLCVFJCrZK6fxSWkYWiVfO+9GtFwDyBIh1kIgrUVFKCrphnoHRelEnprnncQcadk5Rwl8+1f2sNFxcXW3GQu0xs58JEWjkfZHAKE90+t1C0iOryuUvmLp9vDpO2JEyM/zh2j8E4Hj0mmFNnMQJV7UNVcc75+fnW40f+mxKoykLpI0wsdxz+LxoaQ+ne2Pn5Oc7Pz3F2drZx8RhD0bpysVVzEjwpwQxZyoR5UkKFi8KdBEqBsd35+Xl07TQGAbDJ3PHoMZQK1NnZ2VZSQgWKwlclJZLLpwLlLl8SLAqUz7MnP17zLp9qWs/c6esbLkj+dzdJUHRipiyUlnPxU/BPjatxlGewSLtqW3djaBk89asM4C4fBdS3AxSXu3zurgLXiQuNo9iv9s9y/6krroysP+IgTXzqRedFlcUcgXJ3zhMU2vcuFuqJFag5SQl3u6jdVJC4mBpLqBAQHxnR+1GXqbW2hddjJr1WC+hMRqEn0xPUddXF55zQKgAP4iniB+pn+XSsel8FS0ETKozrdD7IhO6+ekIiCZQnJFQYPCmha7JLDOVKaeTyeQw1SkpMxZoJFiNQulAJnKmVCfhT5vY26UVBx+/W0P13XXDtn0fiSJrSYyd1OVyjEliuSQVdTI2h1M1S4WY9zq/vdal7RVeUeLW9M6lb0NRHcsXUOvjYtU9neK5HiqFUyHQelT73GHwu3fXT+XF4IgQqWaiUlODEUiOrhWJ8oYKQ/iZnjkDppLlAuUVyPMnlUOujysMZywVq6r72R1DmVDdVcSW6NQ5zZnPlwHJl0DkCpYKnzK6vwOjYVWg4X7rFoP24YLmwu9DNTUqMBMhhEQIFbLsvysBa5gzPNhrHsEzrV1bJ+9Rfiq80eGZ/ZF6PbZSBfeH03BknWQ9lHI8v1ELpPGgffj1yZZyB2Y+7oyz38SZaq3K3eEqr9uXC7TSOFFjqw639HKGacx9YkEC5e5XK/J4ubGKayuJomdeZYjanQa1Wisu0vVtQxVvRt++ipzK3PGnOp+bB2yZ8Pi9pLMm1Smtf1a3mphrHSGmNxrIrLEagCKOBOGOkiVUhSZM36k/bjQRH21YMNVrAXcc+JVRJY2vyY6qfOULqFqYab2qT6k7Vq+p6+b59zFmffYRq+kMOjwhGmnpfXLdpp8K7K4455bvivW3/1f1953sXxZDGqgpgDo65dN5Ged2FhVqMQD1JcBdCf5d4DrAcWIRAVT6y35/SKnPreD9zGHuqn4eh6e8CP9s+Lot416Dj0L53sXZavg+/DOkb3n1E4Bm2lKHjeWpb4arqpD6rvvzpc6/nfaS+Urk/hDsFt6nH7YV0f4ruEc6pe4QUzylNc/rUbZNEQ5rPKRrT+uu9qs0IFiFQwO7aYgrXPnUepbZdisWYSkjsg3Mu7DIHI+swSkbMxe31DzHUAQ6wADgIlMFrPVHwKMa3r4fwWoBFCNRoz0Dv75KUmGO+R0kJT5uP9kemaBzR/qQmJea4ioR9+q7w3jYp4U9g7MMvI1iEQB3gAK8VWLRAjSzHHAv2MCzALmn6Xa1YwjMXR8LpWnvKyrKNau+7ds1Ga3SX+3v7Jp0q+ubStmiBAnYToF1x7tLnrtf7ZtsIlWszB8fc8e3SrsqkedkIV/WKxBSufeqM+pyjjObgjv3t3OIRQrUHVe0v3NWezgj/aH9rau9rF5rSfstU+zl7Sl5X68/Zi6r24NJejkO1F7brOHYZa7WP6PiqfnaFRQvUnH2HOfX37XfKhbzL/m9roXbR2lPjmNNXVTbCtauFmtP/PnP+MBNBixYohbv05e86LnhcffxBhrtQAvviGsETI1BzHnG5Da50f8o1eJgu39x7qd5d9j23/py+57p8c/q/Dc37hgpzoN0lsr2JaO2/Avj446ZjD3gD7J8ZnxA40H07+G96729MN5byguHHe+/PP24idoXW2r870P3o4Emg+4lx+Q5wgCcBDgJ1gAPcISxFoN77uAnYEw50P1pYPN2LSEoc4ACvFViKhTrAAV4T8NgFqrX2J1trH2+tvdhae8/jpkehtfYPW2ufbq39upS9vrX2M62131of/9C6vLXW/v56HL/WWvvmx0TzW1prP99a+43W2n9srf3lJ4Tue621f9ta+/druv/3dfnXttY+uqbvJ1prp+vys/X1i+v7b3scdN8Af7f+Uf4AHAP4TwC+DsApgH8P4I88TpqMvv8ewDcD+HUp+z8BvGd9/h4AP7w+fzuAfwGgAfg2AB99TDQ/C+Cb1+dfDuA3AfyRJ4DuBuB16/MTAB9d0/MhAO9cl/84gP95ff6/APjx9fk7AfzE4+aX3vtjF6hvB/DTcv2DAH7wcU+K0fg2E6iPA3h2ff4srvfQAOD/BvB9qd5jpv/DAL7rSaIbwNMAfhnAt+J6I3fl/ALgpwF8+/p8ta7XHvd8P26X780APinXL63Llgxv6r1/an3+OwDetD5f3FjWbtA34VrbL57u1tpxa+1XAXwawM/g2nv5bO/9MtC2oXt9/xUAX/VoKb4Jj1ugnmjo1+pxkWnS1trrAPwzAH+l9/45vbdUunvv93vvfxTAcwC+BcAffswk7QyPW6BeBvAWuX5uXbZk+N3W2rMAsD5+el2+mLG01k5wLUz/uPf+z9fFi6eb0Hv/LICfx7WL90xrjY/IKW0butf3vxLA7z1iUm/A4xaoXwTwDetMzimug8uPPGaapuAjAN61Pn8XrmMUlv+5ddbs2wC8Ii7WI4N2/S7C+wB8rPf+d+XW0ul+Y2vtmfX5U7iO+z6Ga8H67nU1p5vj+W4AP7e2vI8XHncQh+ss02/i2l/+G4+bHqPtnwD4FIALXPvv78a1n/6zAH4LwP8H4PXrug3AP1iP4z8AeP4x0fzf4dqd+zUAv7r+vf0JoPu/BfAra7p/HcDfXJd/HYB/C+BFAP8UwNm6/N76+sX1/a973PzSez88KXGAA9wlPG6X7wAHeE3BQaAOcIA7hINAHeAAdwgHgTrAAe4QDgJ1gAPcIRwE6gAHuEM4CNQBDnCHcBCoAxzgDuH/B6Hlz2dJ+sERAAAAAElFTkSuQmCC\n",
        "text/plain": "<Figure size 432x288 with 1 Axes>"
       }
      ],
      "_view_module": "@jupyter-widgets/output",
      "_model_module_version": "1.0.0",
      "_view_count": null,
      "_view_module_version": "1.0.0",
      "layout": "IPY_MODEL_9668e8f9fd244386b575a4d73f62e3f6",
      "_model_module": "@jupyter-widgets/output"
     }
    },
    "fd58f7def32e4038966b44c73632906a": {
     "model_module": "@jupyter-widgets/controls",
     "model_name": "SliderStyleModel",
     "state": {
      "_view_name": "StyleView",
      "handle_color": null,
      "_model_name": "SliderStyleModel",
      "description_width": "",
      "_view_module": "@jupyter-widgets/base",
      "_model_module_version": "1.5.0",
      "_view_count": null,
      "_view_module_version": "1.2.0",
      "_model_module": "@jupyter-widgets/controls"
     }
    },
    "0090636d1fe647faba274354c10aa06e": {
     "model_module": "@jupyter-widgets/base",
     "model_name": "LayoutModel",
     "state": {
      "_view_name": "LayoutView",
      "grid_template_rows": null,
      "right": null,
      "justify_content": null,
      "_view_module": "@jupyter-widgets/base",
      "overflow": null,
      "_model_module_version": "1.2.0",
      "_view_count": null,
      "flex_flow": null,
      "width": null,
      "min_width": null,
      "border": null,
      "align_items": null,
      "bottom": null,
      "_model_module": "@jupyter-widgets/base",
      "top": null,
      "grid_column": null,
      "overflow_y": null,
      "overflow_x": null,
      "grid_auto_flow": null,
      "grid_area": null,
      "grid_template_columns": null,
      "flex": null,
      "_model_name": "LayoutModel",
      "justify_items": null,
      "grid_row": null,
      "max_height": null,
      "align_content": null,
      "visibility": null,
      "align_self": null,
      "height": null,
      "min_height": null,
      "padding": null,
      "grid_auto_rows": null,
      "grid_gap": null,
      "max_width": null,
      "order": null,
      "_view_module_version": "1.2.0",
      "grid_template_areas": null,
      "object_position": null,
      "object_fit": null,
      "grid_auto_columns": null,
      "margin": null,
      "display": null,
      "left": null
     }
    },
    "9668e8f9fd244386b575a4d73f62e3f6": {
     "model_module": "@jupyter-widgets/base",
     "model_name": "LayoutModel",
     "state": {
      "_view_name": "LayoutView",
      "grid_template_rows": null,
      "right": null,
      "justify_content": null,
      "_view_module": "@jupyter-widgets/base",
      "overflow": null,
      "_model_module_version": "1.2.0",
      "_view_count": null,
      "flex_flow": null,
      "width": null,
      "min_width": null,
      "border": null,
      "align_items": null,
      "bottom": null,
      "_model_module": "@jupyter-widgets/base",
      "top": null,
      "grid_column": null,
      "overflow_y": null,
      "overflow_x": null,
      "grid_auto_flow": null,
      "grid_area": null,
      "grid_template_columns": null,
      "flex": null,
      "_model_name": "LayoutModel",
      "justify_items": null,
      "grid_row": null,
      "max_height": null,
      "align_content": null,
      "visibility": null,
      "align_self": null,
      "height": null,
      "min_height": null,
      "padding": null,
      "grid_auto_rows": null,
      "grid_gap": null,
      "max_width": null,
      "order": null,
      "_view_module_version": "1.2.0",
      "grid_template_areas": null,
      "object_position": null,
      "object_fit": null,
      "grid_auto_columns": null,
      "margin": null,
      "display": null,
      "left": null
     }
    },
    "d706b547c72349d6acc3b5fb261ebbfc": {
     "model_module": "@jupyter-widgets/controls",
     "model_name": "VBoxModel",
     "state": {
      "_view_name": "VBoxView",
      "_dom_classes": [
       "widget-interact"
      ],
      "_model_name": "VBoxModel",
      "_view_module": "@jupyter-widgets/controls",
      "_model_module_version": "1.5.0",
      "_view_count": null,
      "_view_module_version": "1.5.0",
      "box_style": "",
      "layout": "IPY_MODEL_64b5fe1b3fa64be0a8b4f836e9f25791",
      "_model_module": "@jupyter-widgets/controls",
      "children": [
       "IPY_MODEL_fd8eeb1df3da4e53a5bfd110ddcae9c5",
       "IPY_MODEL_5c3c8ae58f034c8892710693761c5d85"
      ]
     }
    },
    "64b5fe1b3fa64be0a8b4f836e9f25791": {
     "model_module": "@jupyter-widgets/base",
     "model_name": "LayoutModel",
     "state": {
      "_view_name": "LayoutView",
      "grid_template_rows": null,
      "right": null,
      "justify_content": null,
      "_view_module": "@jupyter-widgets/base",
      "overflow": null,
      "_model_module_version": "1.2.0",
      "_view_count": null,
      "flex_flow": null,
      "width": null,
      "min_width": null,
      "border": null,
      "align_items": null,
      "bottom": null,
      "_model_module": "@jupyter-widgets/base",
      "top": null,
      "grid_column": null,
      "overflow_y": null,
      "overflow_x": null,
      "grid_auto_flow": null,
      "grid_area": null,
      "grid_template_columns": null,
      "flex": null,
      "_model_name": "LayoutModel",
      "justify_items": null,
      "grid_row": null,
      "max_height": null,
      "align_content": null,
      "visibility": null,
      "align_self": null,
      "height": null,
      "min_height": null,
      "padding": null,
      "grid_auto_rows": null,
      "grid_gap": null,
      "max_width": null,
      "order": null,
      "_view_module_version": "1.2.0",
      "grid_template_areas": null,
      "object_position": null,
      "object_fit": null,
      "grid_auto_columns": null,
      "margin": null,
      "display": null,
      "left": null
     }
    },
    "fd8eeb1df3da4e53a5bfd110ddcae9c5": {
     "model_module": "@jupyter-widgets/controls",
     "model_name": "IntSliderModel",
     "state": {
      "_view_name": "IntSliderView",
      "style": "IPY_MODEL_a21e032abfdb403da560f994892ddebd",
      "_dom_classes": [],
      "description": "k",
      "step": 1,
      "_model_name": "IntSliderModel",
      "orientation": "horizontal",
      "max": 363,
      "_view_module": "@jupyter-widgets/controls",
      "_model_module_version": "1.5.0",
      "value": 1,
      "_view_count": null,
      "disabled": false,
      "_view_module_version": "1.5.0",
      "min": 1,
      "continuous_update": true,
      "readout_format": "d",
      "description_tooltip": null,
      "readout": true,
      "_model_module": "@jupyter-widgets/controls",
      "layout": "IPY_MODEL_f80e4cb726f4498fbde253ae22e4e08f"
     }
    },
    "5c3c8ae58f034c8892710693761c5d85": {
     "model_module": "@jupyter-widgets/output",
     "model_name": "OutputModel",
     "state": {
      "_view_name": "OutputView",
      "msg_id": "",
      "_dom_classes": [],
      "_model_name": "OutputModel",
      "outputs": [
       {
        "output_type": "stream",
        "metadata": {
         "tags": []
        },
        "text": "Using only 0.267 percent of all singular values\n",
        "stream": "stdout"
       },
       {
        "output_type": "display_data",
        "metadata": {
         "tags": [],
         "needs_background": "light"
        },
        "image/png": "iVBORw0KGgoAAAANSUhEUgAAANQAAAD8CAYAAAAPIYpDAAAABHNCSVQICAgIfAhkiAAAAAlwSFlzAAALEgAACxIB0t1+/AAAADh0RVh0U29mdHdhcmUAbWF0cGxvdGxpYiB2ZXJzaW9uMy4yLjIsIGh0dHA6Ly9tYXRwbG90bGliLm9yZy+WH4yJAAAgAElEQVR4nO29bYht2Xke+KyqU1W327LdkSWLtloa2dg45McQO40/yDAYB0OiCaM/ji1ncJQgaJhJICEzxHICSQYyYM+PZBwc7BEojBRCZMUJSAwOxuMPQiBRHH/EcSxkd4yCupEt5FitCEldVbfW/KjznPucp5537X1O1b133/Z54bD3Xnutd71rrfd77b1P673jAAc4wN3A0eMm4AAHeC3BQaAOcIA7hINAHeAAdwgHgTrAAe4QDgJ1gAPcIRwE6gAHuEN4KALVWvuTrbWPt9ZebK2952H0cYADLBHaXe9DtdaOAfwmgO8C8BKAXwTwfb3337jTjg5wgAXCw7BQ3wLgxd77b/fezwF8EMA7HkI/BzjA4mD1EHC+GcAn5folAN86avCGN7yhv+1tbyvvuxXtvW9+el/rje5VeKu+0nXqi+dXV1e4f//+5nj//v2SZgBorW1+ClqmddiW56ltGluq521If0Wf9n90dITW2tax6pN1jo+Pt+4BwNXVFa6urrboHtHp4/B5qo6kz9vuCp/4xCfwmc98JjZ8GAI1C1prLwB4AQDe+ta34qMf/WhZl5PMhb66usL5+TkuLy83jHt5eQkAW4yszMH7BNbRPnrvm7Krqyu01jb4lNlUQK6urnBxcbGh8eLiAl/4whfwhS98AZ/73Ofwyiuv4JVXXsHl5SUuLi626L26usJqtcJqtcLJycmG6YBrZj0+PsbZ2dmGGe7du4ejoyNcXl5uyihQp6enm3OO4+joaMOsq9UKrbVNP2mO79+/j8vLS3z+85/fmi+lcbVa4eLiAgDw9NNP4+zsDPfu3cPp6Snu3bt3g66TkxOcnJzg7OwMTz31FL7sy75sI1RHR0c4OjrC5z//eXzpS1/arB/vJWY/OjrCyckJjo+Pt4R1tVrh+Ph48yNunp+enm7asSwpsjnC9vzzz8dy4OG4fC8DeItcP7cu24Le+3t778/33p9/4xvfWCI7PGu4DLitpb9Nn7cBWr6H3Q/hYQjULwL4htba17bWTgG8E8BH9kU21yQnrfsHBSpNfhd4/F6qM6dsH9dq1zb7zkMa2z70Ag9BoHrvlwD+EoCfBvAxAB/qvf/HW+CbVW+OJnqtQpqjfeZjNNd3HYvelp659XeZhyou3gUeSgzVe/8pAD/1MHAf4ABLhkX7SaNMmmbMUp25eEf3q+zi6Lq6tytNmmmbozmrDOJU3Smcc8vn9O2ZvDm0TdXZZ83n8s0+VmrRAjXHp59b/65gl9jgtvTsMsa7iDdui/NxwMOkcR/cjy1tPgfmasK5FmXXvubU20Vb76NVmX6ei1vB44c0Z840ukXwMGC0RncVZ1X0z8Gv8+315wjYIizUXEGYOyG7tNuXee4i6H6U8LCSNksZ92h8SmOlZPblLYdFCNRc0/okuCAH+IMNixCou3bLDnCAxwWLEChgnLmbsz+yS5uqbfLnU2ZqV3pS+a6xym3qzclw3cWeT3UvuWO999luGq+9zVQWdFdXX/Htm/lbjEBNwV1Zp9sEwLfpb2m47qLfqTjyYSY35tBT3XuY8e8TI1B3BY86Dnstx31zthCWMv5HRceiBarSHHM2CEc452wc7lK+D67bwBzX5GHAHIvk51NuWVWf57dx6Ue0Pqw2i9mHmmJij7H0eu4v4dN+qj2Ruf2m+4qripu0vu85zYl5NL44Pj4uU8NJEen7TSNB9THoXk0afwVaj31X/XsfpLeai1144GEpoidaoHhURkn1nZGmtObUQo3ocTpGyYdReXphUJnQmTHRrsJS4a7GUOGs2s1RUKmezk/CAdwUoqlxex3nj6urq9lPoe8qeIsRqCrjkwSHL835i4T88TodiasSCH17VK+rPvRa+3F6q75TfR07y7i4Wl8X3MfpY+MLk96PWygdk9OhdCZ6/KVGXyv++FIfz31OSReP/pYw2+mLjHwZlPh0fEqTXo/e9NX2FU8mWIRA8Q1ch0rj3b9/HxcXF1tv7LqQOYPxTVBlQH+L1xmE9UYC1XvfvH0LAOfn57i4uNjQx3u8dhpbaxs6+Iap0sM3U4mLNOkReCAYZBadu8vLyy3GS9pZx8J59bkhA5OOi4sLHB0d4eLiAq01rFarjVCxPoFju7i42NDNt2o5X7pOKlguUCp4R0dHuH//Plar1WZu9W1d0qPzyXtzBCrB4gWq976TQOkr8JzE0SvwWq745rwCX1klpUUZkK+R+4/12IczubtwKiD88dV3amK1VOyDTKSg15VA+Vj4mrsChVXpuLy83DAp2zCOqwSK9JCpKVBq2fxVeJ8XtTAqZCpQnKfVarUZI+nYR6CqZ/wUFiFQV1dXm28KOCRXiRpfF8F/rs3VQrnwaD9sV7lSSbhUWC8vLzdWikfV+qyvVpT9uYXiwlPLkgnIKOryEId+74Kg1pB40zzrvBKPMxG/KdFaw6uvvgrgwVuxZH72p4xO5l2tVjc+7vLqq6/i/Px8a030mw/av1okFaj79+/f+J6EKiLOe/qmhIIrmyRg7porLEKgeu+bxfFyPXcLpYyprp0eRzFUslDJ5XPX0euSDgAbhqQFpYBR67uF0ljo+Pj4RhkXmNqdDMIyraPt9Jw0ExJDqECpe6lzw3Peo3AojQC2BD0JlH9g5fz8fLP+KlBAdvno3qmCSALVWtuUXV1dbT7Sklw+9pXOHZ4IgUrWwusoI5OJdxGoKZcPwA0N7zFYcvnUQrGuu4paX2nS4NyzWXrP+yCtpEnjFo+hNI7gvZR+droJTqfPha4H8ZImt+KKlwpBrbWPSS2UZjiB+rNonGu1NurqanyWjtpmV1iMQKUYykEZUWOTkUDpAk1ZKGCbSck8bpGS1dKgXoVdPxuWEijqwikdBHXvnOnIkInOxNDeV5pfFQ4C6ztD6hjpdpEuF9zj4+PNmmlcpLEYaWdfqmg0huI8pSQLBUl/KkC870olfbMvXac1UliEQAF5ryPdU4YZ/TQWGrl3qcy1s7uCzrxqPZJGdoumdTylq31z4UmfWwplWh2f0uJjUhfN59jp9XuOK827r5nfJ53K3MlCEZIAqaDxvrdz8Gyf4tb5e81k+VJWifd4VKZk4Owuny6cthll9ICbTFhp/ikLpTS5lVJa1YKqICmzM4NG5qN21yxfco085nELVSktt6wEZVqnI1koV1jMQjLWcetCy6VtlOmThdJxU/Goq+dxlI5ztA/l5yOeTLAYgfI9IZbruS6Uulba3jWiCwNxVRpVmYL4XHicFs/ypfguWSy1NEqLgguPM50ykcYZOneqfd0KKiid2sYTBapENHZiOl0tpwoO3T4VBOLQbQ/2pczO8ai76C5hEihdS3VdU5ZvF6GqYDECNRVDjSxUcle0HNh2CSqrpfXcrXILmFw44tQ0ebJYVADK9MokhNVqtWFAtWZapozr88WjWoqklVV5kMak4HRjV+nQfSmt5zGKChTLgAeZUdKg93jOcsaNninUsXoMpfOs90cp85FAPREWatcsXwryVZA8hnIL5WUsH1mBFE+RFuJRQUoJCrd2ZAj34dVNUqWgwpXirWShOBeaIEjz60JPcCYnrerGcWNX9550X0rnhOWsoy5zcvncheVRBVOVC9Pq7vppO7eAOk5CJVSLFygAO7t8XJzkRvk1sLuFcpevEihPB7urV1k4t6xuPQBsCVMliGQi4tMkh2YG2YcKr4PTreWcCx7J6Gp9XdB1XK5UgO0nLzymdDfNXUgdk/IJLaYKNq0Z8dzW5Vu8QFWT43WStZhbnjRc0sIqSKodE14PwtlOGbKiT8dN5k8uYEVvGpe6qT6m1If2o/Mw6itZeqdFrY+3JY1pLRIep0HdP3X1nIe0TsUTbOtCq7TtGkstQqCAmwyj5YRkIZzBpwRL+3ITP6rrTJEEJtHuNI/GSm3q9UZujwqyz1eqM5rjkfBqoiHNozP06OfKU9cijT31qWMGthMu6sJVCR1tUwlVms+qjLDoN3YPcIAnDQ4CdYAD3CEswuVLJn9UR7NRo+Df27iLkeIEjyG8TPvyMvZTJUYSbb5B6xuqzKBp/FMlFRL97De5RO5KKs3ahz5y5HFlcq1Zl7RqJo/lxKNJFG2nc+Aun+4nsQ9PMHDONKFSPYUxSkY8sTFUyvI5pDhmF4HSxXJ/OgnUaB+KOL1Mr30TmPe1rccVuoCeLdPHZ7QvDbyV4at4RtsrpDhD++c9Td/7eEe0+RqooKoAKrhAaVJC8aii8PbeLint6lm+BKMYahEC1Xt+UoL39JwLo/9X6wtGDetMrvhcC7v2T9dJK3uSwl8q1P0XfcHQtXU1Xk0j69PZLiwaXLtQsC9PFaeNXd0wd2itbVL5V1dXm/Q034/i/pbSRGDf+h+/LJt69MhB/49Ytw84xvQjzvTArPczJVSLFyhg7Orp+cg18/tervhG2jrdG7k1jrvCo3XcOhJcgytjVTTxWi1CAi+vxjxFtwpLalOtS7o3KiP4vtRofVJZ+lUW7bawCIFKbobe03MVpmSdqlgpuXdpEZJr6AKs+CrXMtGoeBw327tL54zM8xT/6NGFNMVQwM2PtKR5Udz6EiQt8Gq1Ggq3/xRIU4qh3OpyfnSu3JIli0O8lTup1+l8F1iEQAG1xtYyZ+gUQ3HS0kOsjssn2AUnxVDpPMVVLsxJS/sTD87syqwaJ/hY/KkJpT9ZCB8zjynm87l3hcAxT8VQI4Hypyv0Ho9usXTsWublpNuTFI7fy6rrNIcKixEo18wjF4cTNGKOkRWq3AbfEAS2g1oVTNVuyvDu2zuza1v177W+zom20SetFY/+WK512LfX8/s6D15Hafb4w5+Z03Idp8c0vK8fllFLpH3reLwvx02c3r+Wp2f5RkmNqTLCIgSKg05QuXzaRt0ZbeOWwfE4bqWnEuaUQPB7umAaBDtDJoZTSMKp41ZBVYF2S5cYy+d/JHROn9KRnvp2uqYEyhMHvKd9zRWoJEh+j+fEp0c/3xUmN3Zba/+wtfbp1tqvS9nrW2s/01r7rfXxD63LW2vt77fWXmyt/Vpr7ZvnEpK0rJZ7XdeGVd055SONnNonekblqUyFZ4p5R+NIFqxSTgnSGCurR/rmzGU1t6nfREe1LnPmYnS/GmdqM3csCnMs1P8D4EcBfEDK3gPgZ3vvP9Rae8/6+gcA/CkA37D+fSuAH1sfh9Dag2+nAdMxlPrxqp3dCng8pLg9hmK5ux7UjuoqatnR0YP3gdhOv75DDa4pb319ImlZvZe0uGtX4ObrG67ZOb/JEgIP3hPil4x0DZKGZ/nx8fGmjX71iPg4F6zHujo+vm7hVl7nR9dDP0Wmc+OfCNM55deWRi5fgjRXo/qTAtV7/5ettbdZ8TsAfMf6/P0AfgHXAvUOAB/o16P/N621Z1prz/bePzXVjxKeMn7KxKzPNlw8oXkrzlIXUCcxuXwpePcAW/F6qjr588k1Iw3JlSLoawfKaNqXx20+Ty5gbmF4n3FM0sSO3102t4raj/eruN1d1PmsLILOqc7JyA30a1cqlbeQrqsywr4x1JtESH4HwJvW528G8Emp99K67IZAtdZeAPACAHz1V3/1loUijDJNBM2k6Q4+GcWzb4or9VcxpC64p7lb2868uSZMX1LVF/OoQZUxea5an3X0vrt5FDJP7BCPCmkF/gKiWyjiVutDC8T2avFoHdRCKePTQnFc7JPXIwul8+0fuSSNTocLH2GOME3BrZMSvffeWqvziHW79wJ4LwB84zd+Y08Cta63da6CAWwLVGImLlR6wVAnrHL5PA2ufXjWj+2cybigWu/q6mrLDdHFJ7j74hZLmZvpdWXASqAm1iW6fOrWKc4kUE6zCtNIoCqXT0EFWXG4u+fCtVqtNk9YJIEaCZbDw7BQv0tXrrX2LIBPr8tfBvAWqffcumwSqoV2gVJB4bWnstUqTbl2Wq731PXQzKJmEpUB1HXyBfOFIwOoi+XxCcFdHGV2dfncMqtGV+voLp+DCw3XxhmRdZ2ZtY/K1VKr626v0qFrqmNWgSJ9GrMmK5XuJ4GaY5WG8zfZOsNHALxrff4uAB+W8j/XruHbALwyJ34Cph8VGf28PXDzP4GquukewZ+OqH7JnUwupY93avx6L218ps1kx+1lPibte4q2ND963xNBCU811jnrOlVnzvhuw2dTawrMsFCttX+C6wTEG1prLwH4WwB+CMCHWmvvBvCfAXzPuvpPAXg7gBcBfAHAX5ikAA/MeAU6GdTK6spRM7tF0glQl8zv8VrvqbVTvKoxyUTU6DxP2lBpT4F9CpZdC7Mu3VL9cqyeu1XWftI3vbUuaVDBdevCMRCXulWsr5ZzykJxzpxeXTeFykK5dfI+Pa6dY5Xcck7BnCzf9xW3/kSo2wH8xZ0oWMNoUBp3ANuLnmIKbeOvlHuA6/2kOspgKb5wwVIXzX9Oo9d1etz1SWOcclsSDdW4U52qvbpO6gq6i+o/x1WtJ/vQtVfFUs1vuu/0+HyPBDjNZQVP1Bu7u/i3u/rCc+rvSssBtuG2c5YUwaOkZU6bxTx6NCdtTiugm4bq6qUHLzW+8Yyc9zWKKehqJdfRXUvX4EdHR5sUuW8+V9p/jubVRATxabKDkLSzzgNxKP2Vy+e0uZVifaUr/QDccBmVZt289nlxPCkZMcftc2tzGwVLWIRAATdjHC0jOBMmHNUk6aKkjWOvqy4Q6XJGU9fQ8bg2pVBVY0uWtXIDq7Erg43GWPU9Vea4lWY/VyFNeF04R30m+kd9j3gjXY8EaVfBWoxAVQzgWaWUeUmvTOg1cPPV6iqzlY4V7ioDpHVTds7HxWsXUOJVoXZL6n0mYfIMWAWV1dW2VUZzl0waPQeNP9N8VLT5w79pvYnb14JzTI9hJPyJjikBW4RAXV3lvwRNzMWJ8VfgddL8WidaFyY9y6efcFaX0fErPfo+j/4lKP8N0P/A2l/dJw5/EiK5hOraqmulzOoCwf6Sxef8c8ykX4WStAEPvrcObLtlil/dT45X+/QsH/8SlH0pbWrxWM6MorqDo30o0rPLkxIjwamUP7AggfriF784vE9IAuUfuHSBArYtlO/fOG5lyCQ8rnH1Gwz379/fMEj1j/BXVzf/v0qfdCBoKnkqbT4lUBpvplSwjsP/ElTfyFXaFQ9dYpazHxVG1iGTk6F3EajW2tafKLBulTZne9KR4i/i1eMIRlZ+0Vk+3W8C6mfwFNJ9LXN8fj6Ff1eYcrFUcKegcuV2pblyd28Dqrym+gPyePcZR3W96xhH7u4usAgLRa1TgQ/WN3OpEVVDUxjVT3dcFS1A/Xc22pdaOLcs1QOyWof41IVRq6SZTK2j9zlmdX8Ss1YPx7r21361LWnTezpGPivH9rQO+hyfzgvraR11w90lU5fPcSSXj215fXJysmWh1F1NxxFvjGDRFgrYX3tOWarb9LUPTXMs0JMIlYK6rbWZi2fuvM6lb65HUcEiLBQwLQCexfF4J12nn+LyvkZ1vZ90b1SWQOMZta5pDjxGqsbhlrhqCzywTiPaE21TQjSaf020pHHsgtu9CU/Y6Pi075SgUXx6vissRqBSoEzQydSA190odw/cLfN7Cj7Jeu2LSXfB/8uINKj7pT/dv9F9I5b5pqvW0fvVBuquG7s+b9qPjylt7CZ6nb5qczXRpXPtuLXcExuVy5f69SxfGn81N6MywmIEKkHSsiMLUdWvcE3tfVV409HPeT2196NAgXD8SZtWMLL0GmemOqOxOC0VDbtaPN9PqvpLdTRGTpY80aV7UcDNGDJZ8F1gMQI1+gC+npMpfA9KPwo/dx8qMdCcfzDUOt6f1nX31P/lzxlCU+Ka/FBaWMcTMT5eZVpnuEqRpGSL9ptcJ6ajU0ZWadUtDoImjHydCMliqKXXc+cb4qNVSuOeY6UcRkK2GIFKr28kq6JZPNUsaXIrbePCBNxMp1d9u5A43WQ2d5HodvhHWpR+nwfNVnnmTF0zdfl4dHdJr6t9KMehdDgtLPfn8VjOPvVN35SFU7dM53y0D5X2khT31M9p0HVI5w6Ld/k48cC0K+Han+ecaP0PVzKJCqLi8jgjWSzX8rrAHhf13m+kh3nN+sCDv3gBtt/tSWlxTw+rgLhA6dHHrKlvBRVAbaf1lIn9FRWO0WmlYHr84jEO+9K4lDjYdxIof0O4ws9f9U0J4tSxOm/uAosRqLOzs/J+elLi+Ph48k+r1f1J35RQKzfl8mm5Py3hjx7xT5i596F7bPoEAceh31pQ60FGIHOcnJzcEB4XgOTaqFUkjhS7ULBOT09vPClxdHSE09PTLc1+cnKyGePp6SlOT083NJAuv392dnZDoDS5w3n2pAdp5JwkC+UCo/2Q1mTddhWoZOE3c1XeeYTgGtGtlMYZqvl8YMm6efwAbMcEvmB+9DKPezz1Ddz8uIoeXSuOtKW7jSpEWsY+3f3T+U19+X23AnrftT7xce3cjeO8sMzdVj93t93fqFWBSi5o5e4pfe72TVmoXa0TsGCB0klkmbpZGpAnt4DHFIi6e0f83pcymgugljuei4uLGwuoLl8avy680ula2GOY5P4luvTVdxcWVRgaE2mdJFDOrGoleVQ3zF2y5Erqa/Q6N8nlU2Xi/ficumudlNhcd28kaIsQKOBBMD4nhqKguEBpXMU2zjCKS3GznVsbnqf9LLVWhEpLVhYmuSi8x6PHG9qXWmwdr9Oq7SvG0f09bZ+e5Ga5xyqkKwlMcsWSIlEcpE8tlMeDir+yVC5Mt7FQixcoDjSBLmxK63q85KlpMprHS6mMWTjiBXCjvcdmmkJWl0/9eY6NaWMygrpFqrkJxEHmS0kLbZ8ydIQ5z/Jp3ZFAKS79iKXSqsKpcaJaBx5Xq9VW7MSx8doFKsVQKX5ygTo9Pb2RlKisU4LKw1BYhEAB87SBWiFdWIJaMWrr0WvroxiK/WnWacpCaZnHCcRHZlOrldyxdE1cylxqpZXJPIXuljLNsVsPx630O43uiiq+ymr7PKlbPOXyJSs4EiYXNrf0id/SdVVGWIRAtdY2Tyo7uIVKbpNaKV7zyLr+H74pHnLXjfg9+6RxitJBHOqv6wImAU5uCfElxmEbFw7F73X57lBy+dxCuXAQt/40ceA/x6EMnerpfQDRUiWXz11Pj6P8p2lzV2La3xwBeiIEyq0NcDOOUQ05eoxGJ4f1+HoAcWm8xLKpGCvR426jC4hrY7dSSVvrOFwL63g9s1fFUMkqpPki/e7yJUugeL1c3U9n8ioDyj49y1cpIL0/ZaU8GeKfg058sy8s8vUNZ4iqjh5HdabqVW12qbtvu7uCSiF4X6Okzy59jNqmJFCqOzV/Iz6Ys/4Vntv0OwWLE6ipBVMtdhvmeNiwBBqWDEucn7ugaREun8c4lVBpWpxPIzBzlrJ8np0jnirLB2Ary0eXTssUN3+khe2drtG5ljloPEjcKdGiLp/+CMTvAT770LEr/QTvl8fLy8uNe6dzoAkfulaKW93lo6OjzXcsSKuDJkLcrfTxMIblUyi6rcDQwhNSydUbuX0jwVukQFXgqevqq0d6dGFgf3qPZazHIxnBBVDT5u5ejejhT2lgmTINwQXK6VdmYj8aY/q50litg9JFIJ40dh+r0q39+/hTPJxo8zhVk08aA/n8ebZQPxumuL3+LgmIBIsQKA/GHXQRePQMTaVtNAGQ+k1lZNYKp2cHtW36kQ4PgquxVPh8rNVYPMvnNCpUgjyiI63DKMAftanomrIeIzxzfxx/1U+6noJFCBSQN83ICJoB0olw7eN7L8CDDKK7SSlQVUFKfWsfWqbacy7TpfKkQau2fqwYwvHoXPt1wp3KE42Oz/fj/EjQpyT0nvahQu9ZQt7ndfrpPT+vBLaCKQFbjEDtkq2r3K0KT6ozlflxNy611/ORGzUaX0W/CrW3Vf//NpDwzm1XWWm9TvPl7UfrUPWteH2e0o915sy1nvM6ja2CRQiUxzMVpHjkNjGUCkEVQ7l/v2sM5bFGlRxRrc777F/p0La6+I8zhvI2pNdjpCqGSnPpuObEUKOxaTuCW0EvS9dTsAiBqmDKMlWL68KUGD9pxsRQldYbCUoSQh9XpZk1m1XRmzQ/+yIDKi4V2mTdHEeyAD631dyw3zkKSIUuCeUUL+i1CtnUerlF0rkiqALaBRYhUL1fv/KQyvVcJ4WfN3aL4N8N50T5i4MqcLz2hQcycyTBZT9MH+unl7WM9XleBefEr28yX1xcbD3Aq4KSGImQtgK0P9YlnZ7edjx6ZOr86Oho65vnShdxHx8fb8YAPIh9OFe6Jiogum4aN+tDusob1RMcbK+0VRZrZJlGQrYIgQLmxRpzfiPL4v1oX6ndqN+p+j6u0bVbBD13y+X4HY8KlloXZTqCxxYVTT7OKqZ06zr6VbgrPvC6U7GTWiIvU9cvzbmfp7muYBECdXR0hKeffhrAOKmgrsz5+fnWJqRaCz2OXJW0D6X7Tq21LevjfRCv/lmAflj//Px88+r35eXlZjH5sCotkH6HQt0yvnLAeOPs7GxDE8tY9+Tk5IZAEfShUD7HRlDGpMXhHzEQqtcv+Er76ekpTk5O8NRTT23WU+larVY4OzvD2dkZnnrqqS3r4FlZ/SME5Q8VVh0PcZDGKtPHV+D9JUTOgc5HOnd+rWARAgXUn9T1xIELyShpkHx4xeOWZGSJRvHAXDxTls81Z2X5qrJ0nq7nJCWmLETCPaLF10ppSe3U5fOkREVDskpT6+pxpZ87PBFpcx3gVL206NWiAtlVqgTB7/nE7tq+on9UNmLW0WLrfc6nBvwJxwhGSiKNs6J1JICeeq+EOCUoKoGa424qfSpY7MvpGG0ROEwKVGvtLQA+AOBNADqA9/bef6S19noAPwHgbQA+AeB7eu+/3657/xEAbwfwBQB/vvf+yxN9xNc30iB47sEm71WL78e5AuEuSdJ0nr71jUPdTARubgD7xifnxLNdAqwAACAASURBVDcvHafWVU2reDiv3l81z6lOotFpd1qVlmqzNeHTeSe4y5dw0I2r+vOfz4uOVeFhpM0vAfyvvfdfbq19OYBfaq39DIA/D+Bne+8/1Fp7D4D3APgBAH8KwDesf98K4MfWxyFMLXLv2x9iTAKlWtkZ08sqLecLy/r+NIZrROJwAXMBcOZPP2+ndOg9L9OjgzOwlqslSHiSMHm5KwNd0zR+3ve1dAugfWibEZ6pXzXfo/mbW2dSoHrvnwLwqfX5f22tfQzAmwG8A8B3rKu9H8Av4Fqg3gHgA/16Zv5Na+2Z1tqzazwlVBPKBdeFdw2ftLozvL4050zvdLgwsTwJi/ar50n7Os7Uv9fzOq79PT1djSnNV6qv8+d0JGHy+z5XVd9TjO3C6LRU/U8pJ1UAFf5qbubATjFUa+1tAL4JwEcBvEmE5Hdw7RIC18L2SWn20rpsS6Baay8AeAEAvuZrvmZr8JVQAdsTnZhL8air4BrXd821r3Rd9cHjaHG9XMdUaX+nwbWrljsTqMWZsj5OSzUv2s7XwPFX81ApmjTuNLcJ71R/SalVQnxbYQJ2eMGwtfY6AP8MwF/pvX9O762t0U5byr339/ben++9P//617/e+5qlSVPdkZBMTVLVxxTeuddT5aO6c2gfCfgUjam8UgxePzH2FF2Oa07/U2s7R8ElBTSiZQ4NCrMsVGvtBNfC9I977/98Xfy7be3KtdaeBfDpdfnLAN4izZ9blw3B4xnVrizTRICnzv2ZverHOqnP0c/TvnN+o8d0CDoOdbW4cDoX/viQl3lfPjYfs899elIk0e5xpN8nbdV9H2uVTtc5UA/F67bWttxxTWDoZ56Td6H0Ks/p/V1gTpavAXgfgI/13v+u3PoIgHcB+KH18cNS/pdaax/EdTLilan4qff8cKwvqu4JUYj06AKmbdKjR5qq93q6q+7Cmo76xqn+kjBWf2fDa9KnjKI0V2XOzDo2Mpv+UcF6fW/MCX+E9KYw54V/ZeNv+aqw6DrxkSH9bqLPn4O67lrH4261HiqA+tUnhZH1HlmikZDNsVB/HMD3A/gPrbVfXZf9dVwL0odaa+8G8J8BfM/63k/hOmX+Iq7T5n9hqoPeO1599dVJ4pVBuZufBGgkUMTpQuxlrj1dIJJwANg8acBnDfX5OH32UJ+uUBqU2SkgmuptrW0YRK3VaN78ubyUUVXFwJ8D219cXGwEjOcsJ36OhfNEes/Pz298Ruz8/PzGs3weL5J+zpt+9JPPDlJA/VNh+k7b1Icu57jttxKo3vu/AlCJ658I9TuAvziF19qUr29UAuWPHVW/kfulfar145EWwvEkC+XWU3/pgV3/LkXSzAA2FgB48CKlW2tl3CkLVfWjyqFqz6NuIaQ50DlmPf9WhVtY/2IvgXSrxVGlUlkSTanzSCWhczUlUFVZBYt4UgKopX7ky6ffnBhqxMRax49JACrcSYjTOEfuntZxWl2oEg0ExT2aa2/rAqr3koJSYanmzfGnPqt58rquTHzunXanZy5oXY/tHRYhUFPMzXO1LJUVUG05ZaEcP3DzUaXKGrnFcgs1YijFlWIYnnuwrf1pmVueEYO6cFVjdjo0pa59ugLTcagV03UCti2Cz5+CWyhge9tDhVgtDhMSBI8dtY1ep/NdYBECBYwf2NQ6SWgqN8yPik+ZnuUjTVwJU6UBvf9KoPS1Cn3HR3FV58kSKBP7OeuN5rrS4FMKQudzNHbHT6HQOfCNZV830q/13BVmmb87RpeVfatgK00jKzS6t7gPXSokCzKqM7ducp926adyGSommMJ9l+AKaJf+5wjbPvQkKzmCkbKb0091f4rOuXVHsBgLlTJPBF0QdX18gfzba76QPK80YLIG2i81nNZJ7apnx2gxaJX8AU1/R6f66dMJPPr+VJUi1vYKtGL+TXFdH804Ks5qnD4H+k5WwqlzonOja6D1SUf1RwHsk+PSMse/S5Zv5A4uQqB6z2nzSktdXd1Mm7vrpy8aAvm9quoFQ72uYialx+k4Pz/fpM41fe5fu1UGIm5ldv0HD2UkfdVchUcFSueOffLermlzVxq8R8HwdLwKt8Z8pFm/Yttaw/n5+Wb9PW3u4M8vcl5G/7yhmcYqbZ76qWBkYRchUFdXV/jiF7+4ufb4gGXKwL6v4377nH2otNdS7UMp7lGi4vLyEq+++ipeffXVDaPw7WIKlAoh91Q4Zo2hNOBWJvBvO6jV9k1Q1iPelJTgeClQVAJ+j8KoTJ+8ABUo/T4FFYg/X/elL30J5+fnW+vlVlDjG33rWPfokkBxTi8vL7f+vTAJ1Bzr5GN1WIRAATcZ3kEnm4yomT1/5T3t8+jiV366CpAGzB44kw4VDpa5kLO9C5NaDbqCOg9ubVJQPaKTwHaeDfT5TsrJM2qKQxWCJguIk7RSCP3jL6ogXEmoAKlAqUCzbfI+dA0Vj9PHe3rU+U+weIFq7fr7BIQpC8WF1SyW7oZTI7sVIR4eRy6fMo/j8b0PtQpcZGpEfv+AfRAvvzGh32nQr6gC2/8n65qV9wlq5VygPH6pGIVj8DiG2l/Hwj75zQj+WJ/zxHJ+d4LfdSD9pEkFRu+Rfr2vf2in9PlTEuoqs1/97sS+AvVExFBznuVzoRrtPbnL5xbK7xFcw3u85BqcddS19Eeikkuq46b29DlIiRC3bB6rJJdPcWgw73OdxsY2ab5cgSVLodZJ50njuaT4dA5UoNSyVHGObhHwnPPMz5kRT+XyjYRmBIsQKI8dFNx1cddMXZDR5DvO5POnftUl00VQy6RtPeOUvmSkMYhq22ShPCHh2trdJ58DjkXjiWoNiJP49J7GKtq/jlHbUrg9vtExetbN10QZPvVZJSV0Lp1Gt1DJOu0rTMBCBAqYlzb34NvTzq453WfWcxcqFUJg3hdceV8DfV8sZ3Sto7FNlXVyxq7KXJhcESVX0ZlVaUvMnWj0BADxVtk2tZCuLJTukUB5UiElIVKfKkxz0+YKc+osQqDU5asCPne7NAXtrkpyse4qhlJ30vtj+1E6v7pOi0Q3ULW+l6mV1hjK3VhVEFVigvNKN440uEuqc8nxOn2q1FjG2FJjSrphzCoqH6QYikePoXgvbUOo8I3+cM3P07XSkGAxAqX7UFUs4AKlaXOPAaqnuRXn3H2oFD95mWapdP+JR0/z83UF7cddPl10dQvVZdQkCXAzM0iaRgykYyf9PjcqRGR+vq7heMm0HIu65DpGjonzpf0kK0qhWK1WN2LPtIGrwqSxnseR3pfOTYLFCxRwc7PMLQrPPYZKFmRKkCqXz3/KnKrlvZ4K4YhGPdexqcuYaHIN7W6px3GVy+fnWn+XufF+3SJ6HU88cEyazEjrxHHrOqiidddU3X7tU91Jx69tCGktqvlyWIRApQVJdZJVcMvhLtXoSYnEiLroqa4LUGWxKjyOUxfcH45NONRFTAyXLBTbqeuYwGkn0BoQRzU3SajSD8CWdVELn2hTmtXSKrhgqAAC2GxTeBs98tz3AneBxTwcmzSj3hu1cxx+Pqrv596mEvbEtIRUv9LCib7ReHet97BhLg1pXu+679G8jtpP8deINx0WY6HS39nofR7J4PoXKG6hPGkAjPehtA9/HClZIHfxdKdfYyR9/V3r8sh6hOSKaV/6hwPav8cZvvApwZDmmGPTMRLYt9JEy6XxHceRLAn/zsYzdIzZdE00rlFaOL+6QU0LpvtLuiGurqEmKog/HUeweJcP2M20OmP4uboIo4nyMnURvD3ve8ZN+2S7EeN6/ykF7teKz8daHVW4nJY07hG91TwD+YOU6ej1dh2T0pj2kPRX9eVlo/72hcUIVHpQFcgu3dXV9tPm7se7xQJuWigANzSfHlWjpRiJddwi6kOw6aMsap1U+FwzEzQjpn+Do/2Twap4yl2htLnrc+dxxNHRUXz6hClzZt8SXbRKnBO3UCxXPvA9Rq4HGV6TK5p00H0nzerpONWCVYpmJFiLt1BTLp/WUyZW98QD5CptTjxVZkyZhYzuDOzC6gLlwuRJEsVDBlJNrNekQx9CpaulNPkDszo2vUdGS0A8pJ3A5xL9AVYVJsXr87tarTb7Txw/8MBV032oqTjIhUjbuEAl15OClFzSkbeg8EQIVEVkxfQp05eOyuiOt8r8+bULZrJ83q6i1XFritavffyaZdP76oZW+3d6r0qbu/JIa6QC4eNOSotKya07Qe8na+oWivR7vKUuuuLQuVGPQHHr/N4WFiFQwM1NVp1ElrmAVEkJt1TaXs9TUiJt7PKYBKz3vqGD7dMTHM60rs2BB09pE9wVVAb1uUr0qctHK+fz6syaGF/jJWVefUJCEzO8R2ug93WTWWlnW3X5PCZUWvS+C39ye1Uw3XKNXL1kqRZvoa6urt9ydRhpSWVcFyRn5LkuHzAtUM5wfk1B9yckVAH4E+gV6KLrExJJsLS+j4v9TAXe6vIli+50aCYNeOAyJeFmv+kFQz4p4fNdCZQqCZbRJfXn+tT1o3Xzx5EIc4RJ5yLBIgQKuOnaVRbKr33hkgXxtsmtcRcruYMunAm/nztTVfjdHUnz4/PiiYjRfI6YwMeS7l1dXW09J+f3qjlQV1PnzxMFPj+JBh1zsrK+Rv6EhGdiUx9a7tdzYDEC5elRLVPQifUUqN9L+IH672y071H6PLVPbgk1ZErTptT+XEj1k1C5uzOFc1SvCthTPJLG75m9qs0I74jWxA/VebUmiY5E0wgWIVCMQ4B5TxGwvrp86g7xOlkUPaaHYz0GqZISTgtxePZx9PS5ChRdKd/Q9EeRWK50t9Y2NKSkhKfAnRl17EqvA9voXDMNrqlv/3gM6fK0Ofvwb20Qh/bpNLiA6vfePcOnc6j3tczxV5AUl8JiHj1KGaAKkpuVyr3N6DqVJ9dG+/G+R/h3zSAl+lLM5HUr5ZHwT7mBUzTPmatEU6Kruk5u5JxxjPpySO59BVO4FmGhANwIgh3cKoySEm6xeBwtemXN0pPkisutjVpOt6LJQqmm9iwf+2cdWrGU5VON7EyhlnAUP9BCadYtPSiqNLGuW0YfBx9dSu9D+aNbes9B10Nd/d771rcsfD7UsmlSItE7ZaVGQrUIgZoblDpTa6bMmTbVJ6iQKX7tR4NYx+WC58Kq1+4mpgyYBtAKikddDRUQL9M+fbzO9B4n+vxpew/8lT5t5zRoYoDlKoCOV2lNQqUKyGMfTYBoOfBACaT2KdGzLyxCoAi7BOcpAOYxxRFzkhJar/Kr1SJ4Zi4thFoP7XtOX65FPbD2cXv/SmMVM+i1KpFERxXEp2SAH319dmkLbM/tVFLC0/JaltrPTUrMgcUI1K4uX3pbt7IAU+4dy5QOCk5l7fzakyJuMd2tcU2vmjPNiyYtnHbgJiO4+6uCWMVGamWSq+f31Nokl49MzDr66JFaFN3wdZebjK/XdBtVMPRrRu7qJffQrd8uQrV4lw8Yf6QFuClQmrlxd1FdDbdEblUcB8/d9XD3zN2V6lsF7rt7/6qt3SLxftK8wHY2zR89Shahwp9cKF+PEc3JgvnGqqfPSb/W0TVIlpLl6fuE6ctL3qdnAfcVqNH9xQjUiMjKl66OiUmcGZLLp1rQ67mP7X2QxorpXNCmxlwJ2Jz6SbjuyuVzxt/F5VMcWu649DrNU3L5vH1FVyr3Pm7j9i1GoCo3xC0HrUR6jo8uCPGppZn7cGyqlxIKTo/Tklw+TyC4FfRECOlODK9joNtEXI7/Ybp8VZZPFQzrpCymu9UpKaHucRWD6hjpZlLxaT8OI0GqBOuJcPncbUv352SZUpzjfrkzttOQ6rigsE4lZE5HhUPb+KInQXJ86X6aR2VOgsYVTnualyTQ3nbOuceMKsgeVzrd7s5qHRVGnQuWabqf7T2+UiEaCU4FixCoFGTrPT2vGHbE0MD0V4+8fao7R2iS4KeFScrB3RAVNF4n9zOVVUJR0UIa0tyoJVSaqrlWenp/8PEZt8Ks6zQAN9PmFT06d8k913vqCvs4nG6lbReYFKjW2j0A/xLA2br+T/be/1Zr7WsBfBDAVwH4JQDf33s/b62dAfgAgD8G4PcAfG/v/RNT/fjfpzh4BmmU5asyc44rWaikKXmscKo7p9+R0EeO0guH2t4fPZL5B4CtN08rC+tjIeirFIozzbHS7jS4y+eJAN2w7X37f6j42JH/51VrLb5g6JbImd4TPCyjkChdqiA8HvT5mJOQGFmuORbqVQDf2Xv/fGvtBMC/aq39CwB/FcDf671/sLX24wDeDeDH1sff771/fWvtnQB+GMD3jjroffqNXWdmF6hR2lrb85x1Fb9bmtRvJVjKbP7T1za0vlslDfiViRkTaMKB9QnEl2KkJHjelmNNz/KpIPhYNcDX5wl9PlmHH1fRse/zLJ9aLxUkCrlaMP8eu8+j9zMlVLcSqH7d+vPry5P1rwP4TgB/dl3+fgB/G9cC9Y71OQD8JIAfba21PqDCLcjILeGkqzYFblqQ9OiR4qr6TPGW1p0SKLdA+giPCxOvNXivrNAohtJypY/aVLU9y5N1riy6CrQmFqo5ID2+D0VL7X9n43PC+fJxA7jx2JLOFeMkt1Y6hqur7a8j8Z6OdQpua6HQWjvGtVv39QD+AYD/BOCzvXf6aS8BePP6/M0APrnu+LK19gqu3cLPGM4XALwAAF/xFV9RfqSFsIvLxzpJwAjONF5WxVzOPK6J57z8qGWqrZN1UeFRawXsZ6GUYVIiQzdZSZ/GQGq93EL5k/Hsz4VKx8Z7vrHrioXgG+8er3nG1F00dwvTvKTruTDrafPe+/3e+x8F8ByAbwHwh/fqbRvne3vvz/fen3/66afj3sAIXLtMta02Kr1dYrgRvl0nfl+tOBfXHGB8odcJz1y8aZ4SrmqNfA3n0KH1RnSO+kvXu/Bggp2yfL33z7bWfh7AtwN4prW2Wlup5wC8vK72MoC3AHiptbYC8JW4Tk4MYerRo3X/WxYnaX/gZjqdZY4nWQOlI7l33k7raJn3k/Ckn4LHIOoSEr9bpcrqppgpzW86n3IXid/dZD3XfSh19Ui7z62PM41JXWXSmdZBs3ppzrS/NO5dYE6W740ALtbC9BSA78J1ouHnAXw3rjN97wLw4XWTj6yv//X6/s/1kdO5hqkqukgeryRXz8udYdN1OndhSPGDCmISplR/jkA5syg9Pg9pI9TdIdZ1za7ualIaGkMpkyVFQ5rVJaM76PU9fkp0+jiITwWAY69cYZbxfrJslZJJMOLVORbqWQDvX8dRRwA+1Hv/f1trvwHgg621vwPgVwC8b13/fQD+UWvtRQD/BcA75xBYMbSXceJSPKLn6msD2UIlq1glJZK1S3i0bEqY0r00Zq2n8Ug1hy4QpMezX86swPYWgLZX4VMBTMKSrJULDrBtFZKFSvT5+Dx9rkKjMaLGn7SUKlgqsLeBOVm+XwPwTaH8t3EdT3n5lwD8mV0JqVy+ZMLJIKpRfeGmLIBqeu0nCdRcq8P2I0EaJSUqxmGd9BgSj6P5u3//wUcyR48epTEQ1Fqyr5OTk6367grrng/pT0kJ3tP5r4Dj1wyiCjvnggLJenzBUe9zXDpGh1R2Wwv10KH3Xmb5kpZm/V1dPsdTxRs8V/claVEXEuBBli9t8HrqXGlS90avPXmgFlEtg4MzLr+5wGNVX+fVQeeDdRWSxfH7/ilmnTOlo7IgFFT/VDP7VaWh7qH+o71ar30SMYsXKGBaM7nLl7T+FOM7nsr66f0pnBUdSnfqv6LF3Q89n5OUqObOkwCjOXZhr+IZh5QccBdTf2q9qvmp+nO3111Av6fKSF0+VWLa576wCIHqff6TEsCDfagkTCmuArJL6Vpcy9J1EqrUPx+lUSulLo9bNYInFFxLT1moSmCcwUZz7PGpanPSQbpGXgXbVv/uruf+10S8x/6IUxMz/sSIPmqkfei3zNU91joVVHP2RFgoQkXsHA2fLESFM1kSPaYkhluaygImjet10s+zcpUGTTTvkqWagsqie51Re4/xfFzAtuUY4U9C5fOgLl6y8FUdxe+wz5wu5jNiaVK9PDF1EoBUd9TXlDCl9gkSDaP6c8Et46jPua7zLveq+UmCV7VPv1G9qfYVfX4vzUel7G67TsBCLFTvOSlRTQ5dE/3AZHK9tE0Skn3T5skiaT907/yJc0+iqCYlLg/EdS+H43aGmOPOqtvnrozW1U+fOSid6jb5vo66ohpX0d1SS6Euso5FXb5kdXQM3p/SpW60fzJAafYxjmAkeIuxUIS71BZ3gWMKv8dC+/Q51woma6DnSXkkSGnuuTTOaZPmxWndBe5yHZOVvcu+FmmhqEVGpt+D52SlknVRXHPcxKmkhDOPps2VcX3fLDFcCpRdw+t+kD9RzfppDOnVENKr81EJmwbzmhRhXU3H+zzqn8p52p74dG6IQ2nVcWqiQy25vrqhKXP1CvTxJ51bwmsmbZ4GldKZKlCa+fL9B2WIxKSevSJ+TacC+Rt+vmjEyXvK/P5TmtylS3U8I5ZcrNTO+3AXamr+0/Xop8rA6fbf1Hj83DN6qZ1+Ccn7YL/p5cYKRlnRYbvyzgKh0gwP27UbwaNyY+7KlbyrNnddbwRzXdPkEu9Ly75Z0ydKoOaY40cN+9L0KMayTx93Tddd4Juzh6Z9VX0+ijlfjMs3N92rfrbGCxoLVHGO43sYMVTaWN7ll+hJc+Bz5jGFxyPuyqb59Zg0zYvj1ScPvI263hqbuQvndLKc4/H5VdecQpKeJE9uf3J9Kxe44sknIoZK8YwSnphBJ0K/quP3iN8neBeNNSfu0HPXqtqfB9xVDOVtU+w0RcsIvwf8ytxz+/d4JY1LYyePjRxvxeRTMV2KXYEHT0ooHaPY7bawGIGaesHQLZRbAdWEVYbPNWhloUaWq7JObtVc28/5peQH76WEy+gdKD9XGjUbp+D0ajnwQIBIBxNDmslU/FxX1vHn7Ko18z4VFBfHOFIg1X7ZHAu1DyxCoHqffpaP9XhkWjoJVHLT3F1KgsP2Wq9yHR0Prz1tnp429zbEk9LmZEhlHnXfWE4cyZLP3StTwUhKhbhVoEdpc2bfdEtEP/LC8aTPiI2YXT+pRjpGWURNnasVc5iK1dzDSLAIgaqgiimSdUqC5W1c61b4tb2WO07Fk6xVJcjpV43Xy6uyKTzVvaqel6ugujJJcZFvY+gcOeOmea+YW3HxWvtIltD71nsqWPtm9hQWI1D6xRyF5Hro5PuCeRyQmBvI3/hW/MktURdMNal/M4+Buj8B7fTxOj0lTRo9TtAxJfcwWSjFNXrKWgN3nyulU8uPj483Y9V3lEgr7+vPEwNsy41Xp0XXQftxK6R9+ryxne9VjWLPfWARAuVBvDKGDzhpOddQwM0kBdsTP3AzEcKvtyZG9Q1eXWjtKwXkVUJA3biqzmhDNgXqitvvJRz+xIDSnejzJy58nIozKQSvp/U5/3pPkwt+7XOt5Ykm3+it5nEKRnUWIVDA+EkJZw6WKcPp0w/u5/O+95dMvNdXulxwVNDYNrk0zsxuYUYCldpXczZSRNremcnn0Off2yc8On/KzC5UiZZEW6UgHKfiGAlTUnBpDkcwR9gWIVBVgsDraN10BLb3gXjNdu4KpsB71wwfr/2ZuNR+zk+hssSeDfTxjWKoSpH4uNJcucs5KksxlMZbFHrP8FUZTJ8XVRzESVdb6+h9j6NcUL2fNMdTsAiBStp3BDrZvK6yQ+6qeb8Jd3ITEy63TsDNV7OTVk7nFX0jK6ZMlax6uq+0OigTVtYwafZ0PZqDygJq22o8ittxjsqn5nxqPHNhEQLV+25pc03tulZ1DVtlwCqreJu0Oc9fq2lzn7c5aXNg+2MudM143trNtLnHog6aNCId+vO9J6WzcsuJZwrS/CosQqCA6cG4ZXCGTyadoG6OMqfj532nyzW3Jy7YTpm9ih2Amwyd6lT3pjR8clMq6+gwl45UN1mVZHk8A+c0pzL3BNxSVTFVygKm9pV3sA8sRqCmBpDcOm2bUsl6z+s4U7tfXS3o1LUvkjNO5aJVc+LMNnJVvJ90PtXfVL9TgpBwzcmqVa65Co3SMjXPU/Pm3sBIycwpIyxGoOZ82xyoN3fdJdO6wPgLRwqVy6f4khvoSZERjXOTEl5W1dN7SVn4PFQMUdGSxkNc9Aw0IcA26hnQ5SIOpUHndCo7C9xMrPi/I9LlSxnbhFc9Hu2DtKV5qmAxAqX/+1OB+9ZuKVg+dU7wDFqqN2UZR+eVe7aLy5fwqJWbY/HmunzJFU5jS27fyOVLrlk15mqdXND03PGkftJ+YOXy7evuAQsSKMJosT2eSW3IZJUL59kvxQ1kjThy8Vyw93X5pgRBr0djH2nWfV2+uX1XuICbWT+HfVy+1Ocoo7ery7eLG0hYhEC11jbfyR6Buh4McN2l8veiqiyfZ768DSHtZ3kZ3Rk9771jtVpt/Z2mZ+x0HBUjaBDvAb3iGiV1NKulTxik+VU6CWzDv/PkvdVqhePjY6xWK6xWq7iGqY4LR+/bDzvzHlA/euSKyx/1Uro5d+nRI4W5Wb7FCxSQH/pMdTw9XQlSle5WXKNNXILjmRtDpc9Fp/iqtRbdGQpbio20zOeP9dIYFEeaW6dR2/tmrZZ7DKWCXllygqa0dW5dkDwGVEtPJUDwMlci7qHw6C8pVvBExFAj10cH4AzI8/Q8nWs7gqa2tQ/iVsZLrkgqc/+9sjiJrsotmXJdKhdt5K6NNKxumFeuZkWTx1B6rgkCnXN/Pk/XpHIhfX61ndPoZZ5GT/1UMOWyburNwvaYIS1ktSue2vGckEx7quduh+LTshG+hHskHKM5mFOm9+YIUUXjFFQMX5UD2/HQLgzt81vN7UgpVb/UV/rNhUVYqNau/XOHFOO4y6DuR0obq6ugZe5+uGVyF4rHq6vtfxFPVpAv1al21tgvCmbwPwAAEiNJREFUZStd6wK4odnTfdKRaFKYUgCprtOhY0nMmVw+ttHXN1I7XycXUKdfx+GMn17f8FdH3DoS5iqUChYjUNX7UAQypL/xSUEio3p8kVLeSQjcZ0/7Tx7XVLEJExEaKKf4jPj0NxIoFwZ3Q0ZWhnWT4lIcjlfp8FiEiQYmHpRWxldHR0db95XZWVc/pZysudPoc8Xz9N09vVclgKo5m5qnBIsQKOCBxkhpa+DBICorVGWoElRJgKo/tV567RZNrQUtVHIxKGA8dyZQGlyTz7VQmkAYCaLPiyoAra8MmiygWwynOVkVZ3oqyJGLmpSPCoz24a9zpExgmo/bWKlFCFRrDaenp5P11C1YrVY3/glez93S+JMYU1k+ZUgtT9k+71/xX15eYrVabRbSLWrSnASWA9fMwbR0srCr1WpLoJKbSjwutMTH+XSlpPSrJTo9Pd2kwjVt7m2ZNj85OcHp6ekNoeK5rpdbXB1zeuvXBcoFVa1kcnun4uCpupvxlnceIXDACdwSaQwDbL8jpExUHRVncgOV4RWS8CQLBWzvifBcYwq1Gr7wzuzptfJkYbWOx2h6HDGOvrHsLrhbG+JKtPu/XKibpkrCLZTS54pFx5xcvlEc5S6rz6vPQwUjl5qwGIEaxVDKtBqPqNulmtm1M1B/FFLLVFgr/E5PcjXd4lQxlLpYlSviTKNzVlkod4kVl/fhFoq0q0VPjKg0acKB5SpQel83h5XhqVBTUkKF2K2R0pFcTHf3XCnsIlBzYLZAtdaOAfw7AC/33v90a+1rAXwQwFcB+CUA3997P2+tnQH4AIA/BuD3AHxv7/0TE7jLJyWShWIbBv/ucumGo/8I+vSA9uMWKD154W6dLhDff+IC0tXQfpVZkitF0KwYr2mN2V7rjmIo0kCGTnNM3P7+kiYXlEZNSqhQVC4fj+6u6dpXWT4F4tA6Hh/5uT8pMddCzS3b0FbeuQl/GcDHAHzF+vqHAfy93vsHW2s/DuDdAH5sffz93vvXt9beua73vSPEu7h8KhjKPO6SVbEU8agbQUibwi6YLqzEo7hUG6tGJMOr0Ho2sHL5ku/Pvl0bq7JI1wo6D5VbqAzpFlSFLVkot06eZaNidIXnDK/rkVxl0lZZKAqhzrXi9/N0PVUOzBSo1tpzAP4HAP8HgL/arjF+J4A/u67yfgB/G9cC9Y71OQD8JIAfba21nlJDAqNAj6BMnb4dkFyyavB+z4VDF9JdSX0mz4dFPO6GkFbggdZXF81dOmD7g47qruicpZhgV5eP1/7aQ9VP5c4prTo2ZXa3xMShj2+xnPQpVC5fZaWShdXx+DgdHpaF+r8A/DUAX76+/ioAn+290zd4CcCb1+dvBvBJAOi9X7bWXlnX/4wR9QKAFwDgmWeewdnZWew4WSg+x6evwdM1qyyUul3uurGd3kvWxB9z4k//plOFUvdotB9lei60Mh7BrQLraYCulmA9rzcEnS5o6kOFj7iZQVU63ArRq/Cfzo8y+enpKU5OTrYejiVjuwvNe+zHaUzJER2fW3O1kJ68eOQuX2vtTwP4dO/9l1pr3zFVfy703t8L4L0A8Na3vrXvKlD6X7AuQCpgSXiqMuBmDKXunLZza5naMGWugTjv8adaOwkU4wsVvJTlG6XNiZv1KoagMvB/GSRd6sIC2AgI0+bc+lBBZxumzE9OTraSHDoezr+PzWlMFsrjI7dQGuu5y0l4VC7fHwfwP7bW3g7gHq5jqB8B8ExrbbW2Us8BeHld/2UAbwHwUmttBeArcZ2cKOHo6Aive93rhkS463V+fr5hykqgkuZTXEmgVBCBvMfke1PalyYkNL7jh1t0r4cxlLsjOi8nJyebBTw7O8PR0dEmaaCWzwVKx0XBdQvl8Umy+OxHNTzvnZ2dbQTl+PgY9+7d29DNuI1tT09PcXp6inv37t1gaI5T539koTwp4bGRu9xJoDypQRgJi85HBZMC1Xv/QQA/uO7sOwD8b733/6m19k8BfDeuM33vAvDhdZOPrK//9fr+z82Jn55++umq/61zLvjJyckmmFWNr9eeTHBc6Z/ntZ1fVxu5asUUJ7/mc35+vqU9yeA8+qM7BN0spduk1sYZimXu8tFSqkuUQC1/JVDHx8ebL1RRSLjBSy9DmZIWSQXKEy3sA9hNoFiPPxcqj5+SQFXCNBKsUbx/m32oHwDwwdba3wHwKwDety5/H4B/1Fp7EcB/AfDOKUScJIfk7lHzK8Nz4jShoBYiJSC0TJMYWkdjKM3ueR1301Qz85y0c7w6dl141ZrOGCkpobFK5fJp7FMJFMel1jWNSenwJyiqLJ9m2FwYNFnhc6JzoTGq0sKytM+kv10FKl1PlQM7ClTv/RcA/ML6/LcBfEuo8yUAf2YXvEdHR1tJicp1UatA16OyTslaOa7qcaRkodQ6paSEalj2ydjCkxIaJ/hiKxORaf08xRknJyc3BIqgSQlXXFREOu9MHKhQqJXSJInGUenRI1qos7OzjZVSQSB9Sqvi4JxULp8qm2ovSuc4bVEk128EdyZQDwsql28kUHSn5ggUsL1oSaDmxlAudCpAALb2VC4uLnB2doaLi4tNoK8JC8ZQXOiUlNBA/+zsDK1t/9uHBv+0guyD55pMGCUlKHiVy0dBIzNqDHVycrKJoSgAFE4mLM7OzvDUU0/dsFDsg/PJsREX10MVy5RAKZ2c4yRQS3L57gyqpEQSKDLzxcXFFjPrg7KjZAUwfkVjZKGq+MyDeS4GExEXFxebBacwkXHVinHxCRQoMo0KFO+7QJGZVaAoVAC2khwO9+/f38yrChQZmNaGceK9e/c2VkcFygWdQkeBcne2tYbz8/OtuNafukgCpYKZNm5doDTDqJlGwmtGoKjJKtAYh8zSWtuyUGTWOQKVEhUuZHMESuMztuOC+6M2pI8Lxdc71J3yDJwufMpOUWDIUMnlo+DOsVAE/yy2JyUI/gEWCoEKFBWGf6SFY2Idd2OrpATHqu3VQlXZPgqTrofiV15USHP1RAjU1Osb7vJ5ImL0A+a5fPtYKNKiPj7dUf8akNbnddp0JGjMQqZg7AjctARuoXR+NZaYCrY9zvLn8bQ8xVBJoHwfivWOjo5wcXGxmU93B3WuWO77YSpInnhQgVLXWhUTQed+pHSeiBiK7oLCVFJCrZK6fxSWkYWiVfO+9GtFwDyBIh1kIgrUVFKCrphnoHRelEnprnncQcadk5Rwl8+1f2sNFxcXW3GQu0xs58JEWjkfZHAKE90+t1C0iOryuUvmLp9vDpO2JEyM/zh2j8E4Hj0mmFNnMQJV7UNVcc75+fnW40f+mxKoykLpI0wsdxz+LxoaQ+ne2Pn5Oc7Pz3F2drZx8RhD0bpysVVzEjwpwQxZyoR5UkKFi8KdBEqBsd35+Xl07TQGAbDJ3PHoMZQK1NnZ2VZSQgWKwlclJZLLpwLlLl8SLAqUz7MnP17zLp9qWs/c6esbLkj+dzdJUHRipiyUlnPxU/BPjatxlGewSLtqW3djaBk89asM4C4fBdS3AxSXu3zurgLXiQuNo9iv9s9y/6krroysP+IgTXzqRedFlcUcgXJ3zhMU2vcuFuqJFag5SQl3u6jdVJC4mBpLqBAQHxnR+1GXqbW2hddjJr1WC+hMRqEn0xPUddXF55zQKgAP4iniB+pn+XSsel8FS0ETKozrdD7IhO6+ekIiCZQnJFQYPCmha7JLDOVKaeTyeQw1SkpMxZoJFiNQulAJnKmVCfhT5vY26UVBx+/W0P13XXDtn0fiSJrSYyd1OVyjEliuSQVdTI2h1M1S4WY9zq/vdal7RVeUeLW9M6lb0NRHcsXUOvjYtU9neK5HiqFUyHQelT73GHwu3fXT+XF4IgQqWaiUlODEUiOrhWJ8oYKQ/iZnjkDppLlAuUVyPMnlUOujysMZywVq6r72R1DmVDdVcSW6NQ5zZnPlwHJl0DkCpYKnzK6vwOjYVWg4X7rFoP24YLmwu9DNTUqMBMhhEQIFbLsvysBa5gzPNhrHsEzrV1bJ+9Rfiq80eGZ/ZF6PbZSBfeH03BknWQ9lHI8v1ELpPGgffj1yZZyB2Y+7oyz38SZaq3K3eEqr9uXC7TSOFFjqw639HKGacx9YkEC5e5XK/J4ubGKayuJomdeZYjanQa1Wisu0vVtQxVvRt++ipzK3PGnOp+bB2yZ8Pi9pLMm1Smtf1a3mphrHSGmNxrIrLEagCKOBOGOkiVUhSZM36k/bjQRH21YMNVrAXcc+JVRJY2vyY6qfOULqFqYab2qT6k7Vq+p6+b59zFmffYRq+kMOjwhGmnpfXLdpp8K7K4455bvivW3/1f1953sXxZDGqgpgDo65dN5Ged2FhVqMQD1JcBdCf5d4DrAcWIRAVT6y35/SKnPreD9zGHuqn4eh6e8CP9s+Lot416Dj0L53sXZavg+/DOkb3n1E4Bm2lKHjeWpb4arqpD6rvvzpc6/nfaS+Urk/hDsFt6nH7YV0f4ruEc6pe4QUzylNc/rUbZNEQ5rPKRrT+uu9qs0IFiFQwO7aYgrXPnUepbZdisWYSkjsg3Mu7DIHI+swSkbMxe31DzHUAQ6wADgIlMFrPVHwKMa3r4fwWoBFCNRoz0Dv75KUmGO+R0kJT5uP9kemaBzR/qQmJea4ioR9+q7w3jYp4U9g7MMvI1iEQB3gAK8VWLRAjSzHHAv2MCzALmn6Xa1YwjMXR8LpWnvKyrKNau+7ds1Ga3SX+3v7Jp0q+ubStmiBAnYToF1x7tLnrtf7ZtsIlWszB8fc8e3SrsqkedkIV/WKxBSufeqM+pyjjObgjv3t3OIRQrUHVe0v3NWezgj/aH9rau9rF5rSfstU+zl7Sl5X68/Zi6r24NJejkO1F7brOHYZa7WP6PiqfnaFRQvUnH2HOfX37XfKhbzL/m9roXbR2lPjmNNXVTbCtauFmtP/PnP+MBNBixYohbv05e86LnhcffxBhrtQAvviGsETI1BzHnG5Da50f8o1eJgu39x7qd5d9j23/py+57p8c/q/Dc37hgpzoN0lsr2JaO2/Avj446ZjD3gD7J8ZnxA40H07+G96729MN5byguHHe+/PP24idoXW2r870P3o4Emg+4lx+Q5wgCcBDgJ1gAPcISxFoN77uAnYEw50P1pYPN2LSEoc4ACvFViKhTrAAV4T8NgFqrX2J1trH2+tvdhae8/jpkehtfYPW2ufbq39upS9vrX2M62131of/9C6vLXW/v56HL/WWvvmx0TzW1prP99a+43W2n9srf3lJ4Tue621f9ta+/druv/3dfnXttY+uqbvJ1prp+vys/X1i+v7b3scdN8Af7f+Uf4AHAP4TwC+DsApgH8P4I88TpqMvv8ewDcD+HUp+z8BvGd9/h4AP7w+fzuAfwGgAfg2AB99TDQ/C+Cb1+dfDuA3AfyRJ4DuBuB16/MTAB9d0/MhAO9cl/84gP95ff6/APjx9fk7AfzE4+aX3vtjF6hvB/DTcv2DAH7wcU+K0fg2E6iPA3h2ff4srvfQAOD/BvB9qd5jpv/DAL7rSaIbwNMAfhnAt+J6I3fl/ALgpwF8+/p8ta7XHvd8P26X780APinXL63Llgxv6r1/an3+OwDetD5f3FjWbtA34VrbL57u1tpxa+1XAXwawM/g2nv5bO/9MtC2oXt9/xUAX/VoKb4Jj1ugnmjo1+pxkWnS1trrAPwzAH+l9/45vbdUunvv93vvfxTAcwC+BcAffswk7QyPW6BeBvAWuX5uXbZk+N3W2rMAsD5+el2+mLG01k5wLUz/uPf+z9fFi6eb0Hv/LICfx7WL90xrjY/IKW0butf3vxLA7z1iUm/A4xaoXwTwDetMzimug8uPPGaapuAjAN61Pn8XrmMUlv+5ddbs2wC8Ii7WI4N2/S7C+wB8rPf+d+XW0ul+Y2vtmfX5U7iO+z6Ga8H67nU1p5vj+W4AP7e2vI8XHncQh+ss02/i2l/+G4+bHqPtnwD4FIALXPvv78a1n/6zAH4LwP8H4PXrug3AP1iP4z8AeP4x0fzf4dqd+zUAv7r+vf0JoPu/BfAra7p/HcDfXJd/HYB/C+BFAP8UwNm6/N76+sX1/a973PzSez88KXGAA9wlPG6X7wAHeE3BQaAOcIA7hINAHeAAdwgHgTrAAe4QDgJ1gAPcIRwE6gAHuEM4CNQBDnCHcBCoAxzgDuH/B6Hlz2dJ+sERAAAAAElFTkSuQmCC\n",
        "text/plain": "<Figure size 432x288 with 1 Axes>"
       }
      ],
      "_view_module": "@jupyter-widgets/output",
      "_model_module_version": "1.0.0",
      "_view_count": null,
      "_view_module_version": "1.0.0",
      "layout": "IPY_MODEL_bc99baf0a3bb4cd98791865a412547af",
      "_model_module": "@jupyter-widgets/output"
     }
    },
    "a21e032abfdb403da560f994892ddebd": {
     "model_module": "@jupyter-widgets/controls",
     "model_name": "SliderStyleModel",
     "state": {
      "_view_name": "StyleView",
      "handle_color": null,
      "_model_name": "SliderStyleModel",
      "description_width": "",
      "_view_module": "@jupyter-widgets/base",
      "_model_module_version": "1.5.0",
      "_view_count": null,
      "_view_module_version": "1.2.0",
      "_model_module": "@jupyter-widgets/controls"
     }
    },
    "f80e4cb726f4498fbde253ae22e4e08f": {
     "model_module": "@jupyter-widgets/base",
     "model_name": "LayoutModel",
     "state": {
      "_view_name": "LayoutView",
      "grid_template_rows": null,
      "right": null,
      "justify_content": null,
      "_view_module": "@jupyter-widgets/base",
      "overflow": null,
      "_model_module_version": "1.2.0",
      "_view_count": null,
      "flex_flow": null,
      "width": null,
      "min_width": null,
      "border": null,
      "align_items": null,
      "bottom": null,
      "_model_module": "@jupyter-widgets/base",
      "top": null,
      "grid_column": null,
      "overflow_y": null,
      "overflow_x": null,
      "grid_auto_flow": null,
      "grid_area": null,
      "grid_template_columns": null,
      "flex": null,
      "_model_name": "LayoutModel",
      "justify_items": null,
      "grid_row": null,
      "max_height": null,
      "align_content": null,
      "visibility": null,
      "align_self": null,
      "height": null,
      "min_height": null,
      "padding": null,
      "grid_auto_rows": null,
      "grid_gap": null,
      "max_width": null,
      "order": null,
      "_view_module_version": "1.2.0",
      "grid_template_areas": null,
      "object_position": null,
      "object_fit": null,
      "grid_auto_columns": null,
      "margin": null,
      "display": null,
      "left": null
     }
    },
    "bc99baf0a3bb4cd98791865a412547af": {
     "model_module": "@jupyter-widgets/base",
     "model_name": "LayoutModel",
     "state": {
      "_view_name": "LayoutView",
      "grid_template_rows": null,
      "right": null,
      "justify_content": null,
      "_view_module": "@jupyter-widgets/base",
      "overflow": null,
      "_model_module_version": "1.2.0",
      "_view_count": null,
      "flex_flow": null,
      "width": null,
      "min_width": null,
      "border": null,
      "align_items": null,
      "bottom": null,
      "_model_module": "@jupyter-widgets/base",
      "top": null,
      "grid_column": null,
      "overflow_y": null,
      "overflow_x": null,
      "grid_auto_flow": null,
      "grid_area": null,
      "grid_template_columns": null,
      "flex": null,
      "_model_name": "LayoutModel",
      "justify_items": null,
      "grid_row": null,
      "max_height": null,
      "align_content": null,
      "visibility": null,
      "align_self": null,
      "height": null,
      "min_height": null,
      "padding": null,
      "grid_auto_rows": null,
      "grid_gap": null,
      "max_width": null,
      "order": null,
      "_view_module_version": "1.2.0",
      "grid_template_areas": null,
      "object_position": null,
      "object_fit": null,
      "grid_auto_columns": null,
      "margin": null,
      "display": null,
      "left": null
     }
    }
   }
  }
 },
 "cells": [
  {
   "cell_type": "code",
   "metadata": {
    "id": "bnpezJE9NzqP",
    "colab": {
     "base_uri": "https://localhost:8080/"
    },
    "outputId": "5450f199-2f31-42da-ecf8-d2f44fd4a41d"
   },
   "source": [
    " from __future__ import absolute_import, division, print_function, unicode_literals\n",
    "\n",
    "# TensorFlow and tf.keras\n",
    "import tensorflow as tf\n",
    "from tensorflow import keras\n",
    "\n",
    "# Helper libraries\n",
    "import numpy as np\n",
    "import matplotlib.pyplot as plt\n",
    "import imageio\n",
    "\n",
    "print(tf.__version__)"
   ],
   "execution_count": 1,
   "outputs": [
    {
     "ename": "ModuleNotFoundError",
     "evalue": "No module named 'tensorflow'",
     "output_type": "error",
     "traceback": [
      "\u001B[1;31m---------------------------------------------------------------------------\u001B[0m",
      "\u001B[1;31mModuleNotFoundError\u001B[0m                       Traceback (most recent call last)",
      "\u001B[1;32m<ipython-input-1-e835e1fb8b0c>\u001B[0m in \u001B[0;36m<module>\u001B[1;34m\u001B[0m\n\u001B[0;32m      2\u001B[0m \u001B[1;33m\u001B[0m\u001B[0m\n\u001B[0;32m      3\u001B[0m \u001B[1;31m# TensorFlow and tf.keras\u001B[0m\u001B[1;33m\u001B[0m\u001B[1;33m\u001B[0m\u001B[1;33m\u001B[0m\u001B[0m\n\u001B[1;32m----> 4\u001B[1;33m \u001B[1;32mimport\u001B[0m \u001B[0mtensorflow\u001B[0m \u001B[1;32mas\u001B[0m \u001B[0mtf\u001B[0m\u001B[1;33m\u001B[0m\u001B[1;33m\u001B[0m\u001B[0m\n\u001B[0m\u001B[0;32m      5\u001B[0m \u001B[1;32mfrom\u001B[0m \u001B[0mtensorflow\u001B[0m \u001B[1;32mimport\u001B[0m \u001B[0mkeras\u001B[0m\u001B[1;33m\u001B[0m\u001B[1;33m\u001B[0m\u001B[0m\n\u001B[0;32m      6\u001B[0m \u001B[1;33m\u001B[0m\u001B[0m\n",
      "\u001B[1;31mModuleNotFoundError\u001B[0m: No module named 'tensorflow'"
     ]
    }
   ]
  },
  {
   "cell_type": "code",
   "metadata": {
    "id": "I1v-3m-p_8aA"
   },
   "source": [
    "def Vstripes(n=100,m=100,A=1,B=1):\n",
    "  sine=np.zeros([n,m])\n",
    "\n",
    "  for x in range(n):\n",
    "    for y in range(m):\n",
    "      sine[x,y] = A*np.sin([B*y])\n",
    "  return sine\n",
    "\n",
    "def Hstripes(n=100,m=100,A=1,B=1):\n",
    "  sine=np.zeros([n,m])\n",
    "\n",
    "  for y in range(n):\n",
    "    for x in range(m):\n",
    "      sine[x,y] = A*np.sin([B*x])\n",
    "  return sine"
   ],
   "execution_count": null,
   "outputs": []
  },
  {
   "cell_type": "code",
   "metadata": {
    "id": "tgE0jj1tFvyT",
    "colab": {
     "base_uri": "https://localhost:8080/",
     "height": 575
    },
    "outputId": "861825c7-93b5-4bb9-9094-228b647a3338"
   },
   "source": [
    "from mpl_toolkits.mplot3d import Axes3D\n",
    "#import cv2\n",
    "def IntensityPlot(im):\n",
    "  xx, yy = np.mgrid[0:im.shape[0], 0:im.shape[1]]\n",
    "  fig = plt.figure(figsize=(10,10))\n",
    "  ax = fig.gca(projection='3d')\n",
    "  ax.plot_surface(xx, yy, im ,rstride=1, cstride=1, cmap=plt.cm.gray,linewidth=2)\n",
    "  ax.view_init(80, 30)\n",
    "  plt.show()\n",
    "\n",
    "IntensityPlot(Vstripes(B=.3))"
   ],
   "execution_count": null,
   "outputs": []
  },
  {
   "cell_type": "code",
   "metadata": {
    "id": "3801BC2t-CqW",
    "colab": {
     "base_uri": "https://localhost:8080/",
     "height": 216
    },
    "outputId": "27a09994-9654-4a65-bbf3-bec1f41733a3"
   },
   "source": [
    "f10 = Vstripes(B=.2)\n",
    "f01 = Hstripes(B=.5)\n",
    "f11 = f10+f01\n",
    "\n",
    "\n",
    "fig, (ax1,ax2,ax3) = plt.subplots(1,3, figsize=(9,5))\n",
    "\n",
    "ax1.imshow(f10, cmap='gray')\n",
    "ax2.imshow(f01, cmap='gray')\n",
    "ax3.imshow(f11, cmap='gray')"
   ],
   "execution_count": null,
   "outputs": []
  },
  {
   "cell_type": "code",
   "metadata": {
    "id": "p5iFnnOegimY",
    "colab": {
     "base_uri": "https://localhost:8080/",
     "height": 575
    },
    "outputId": "04db08e3-1697-4988-f810-09573b816ae4"
   },
   "source": [
    "IntensityPlot(f11)"
   ],
   "execution_count": null,
   "outputs": []
  },
  {
   "cell_type": "code",
   "metadata": {
    "id": "DnHPR9bpQllO"
   },
   "source": [
    "def FourierView(im):\n",
    "  im_ft = tf.abs(tf.signal.fftshift(tf.signal.fft2d(tf.cast(im, tf.complex64))))\n",
    "  plt.xticks([])\n",
    "  plt.yticks([])\n",
    "  plt.imshow(im_ft, cmap='gray')\n",
    "\n",
    "def logFourierView(im):\n",
    "  im_ft = tf.abs(tf.signal.fftshift(tf.signal.fft2d(tf.cast(im, tf.complex64))))\n",
    "  plt.xticks([])\n",
    "  plt.yticks([])\n",
    "  plt.imshow(tf.math.log(im_ft), cmap='gray')\n",
    "\n",
    "def iFourierView(im):\n",
    "  im_ft = tf.abs(tf.signal.ifft2d(im))\n",
    "  plt.xticks([])\n",
    "  plt.yticks([])\n",
    "  plt.imshow(im_ft, cmap='gray')"
   ],
   "execution_count": null,
   "outputs": []
  },
  {
   "cell_type": "code",
   "metadata": {
    "id": "Rg3TdRjd8vVE",
    "colab": {
     "base_uri": "https://localhost:8080/",
     "height": 252
    },
    "outputId": "20f28c50-83a8-4ff4-c4a0-71c799712bc9"
   },
   "source": [
    "FourierView(f11) # gives a geometric description of the image in the spatial domain"
   ],
   "execution_count": null,
   "outputs": []
  },
  {
   "cell_type": "code",
   "metadata": {
    "id": "axptAnQoPx3W",
    "colab": {
     "base_uri": "https://localhost:8080/",
     "height": 303
    },
    "outputId": "86504023-43a0-49cb-9981-7ef29fe9fc75"
   },
   "source": [
    "from skimage import color\n",
    "\n",
    "# https://upload.wikimedia.org/wikipedia/commons/thumb/a/aa/Fourier2.jpg/375px-Fourier2.jpg\n",
    "\n",
    "url = input()\n",
    "im = imageio.imread(url)\n",
    "im = color.rgb2gray(im)\n",
    "plt.imshow(im[:,:], cmap='gray')"
   ],
   "execution_count": null,
   "outputs": []
  },
  {
   "cell_type": "code",
   "metadata": {
    "id": "V3Qs0KJdP3KB",
    "colab": {
     "base_uri": "https://localhost:8080/"
    },
    "outputId": "84ad0756-2813-4e84-8d0d-c4258d04ae2d"
   },
   "source": [
    "im.shape"
   ],
   "execution_count": null,
   "outputs": []
  },
  {
   "cell_type": "code",
   "metadata": {
    "id": "9uyRNc5ADTSX",
    "colab": {
     "base_uri": "https://localhost:8080/",
     "height": 575
    },
    "outputId": "481c36a9-4b2c-467c-8878-364098c4d909"
   },
   "source": [
    "IntensityPlot(im)"
   ],
   "execution_count": null,
   "outputs": []
  },
  {
   "cell_type": "code",
   "metadata": {
    "id": "AloPE1K1MIxe",
    "colab": {
     "base_uri": "https://localhost:8080/",
     "height": 252
    },
    "outputId": "2a0aa300-d941-4e90-98cb-96c6306f860b"
   },
   "source": [
    "FourierView(im)"
   ],
   "execution_count": null,
   "outputs": []
  },
  {
   "cell_type": "code",
   "metadata": {
    "id": "BL5KwAhhREWO",
    "colab": {
     "base_uri": "https://localhost:8080/",
     "height": 252
    },
    "outputId": "202027ca-ed4d-4c18-f261-fcddac74503a"
   },
   "source": [
    "logFourierView(im)"
   ],
   "execution_count": null,
   "outputs": []
  },
  {
   "cell_type": "code",
   "metadata": {
    "id": "4CnvZjq9kCPp",
    "colab": {
     "base_uri": "https://localhost:8080/",
     "height": 252
    },
    "outputId": "f5e22f40-0cfe-4193-9320-72c6e79a6614"
   },
   "source": [
    "im_ft = tf.signal.fft2d(tf.cast(im, tf.complex64))\n",
    "iFourierView(im_ft)"
   ],
   "execution_count": null,
   "outputs": []
  },
  {
   "cell_type": "code",
   "metadata": {
    "id": "0A_Wp7mkDj4t"
   },
   "source": [
    "from __future__ import print_function\n",
    "from ipywidgets import interact, interactive, fixed, interact_manual\n",
    "import ipywidgets as widgets"
   ],
   "execution_count": null,
   "outputs": []
  },
  {
   "cell_type": "code",
   "metadata": {
    "id": "msWRoTg_nSiT"
   },
   "source": [
    "def ReconViewer(t=0):\n",
    "  M = np.abs(im_ft).max()\n",
    "  thres = np.abs(im_ft) > t/10000*M\n",
    "  im_t = im_ft*thres\n",
    "  percent = 100*thres.sum()/(im_ft.shape[0]*im_ft.shape[1])\n",
    "  print(f'Image reconstruction using {thres.sum()} frequencies or around {np.round(percent, decimals=4)} percent of available frequencies')\n",
    "\n",
    "  return iFourierView(im_t)"
   ],
   "execution_count": null,
   "outputs": []
  },
  {
   "cell_type": "code",
   "metadata": {
    "id": "PLTbyK-Le8ub",
    "colab": {
     "base_uri": "https://localhost:8080/",
     "height": 318,
     "referenced_widgets": [
      "7c27057de13249ada75b312c6f8f8847",
      "ca8fea3587994e349d679f1656712e35",
      "426b428fb2514ab0a13d7f89ca9d2c4d",
      "5ab4f9d5c3ac4c149b1f2a2397a44630",
      "06c39f5b47c9423492582b95b32cf994",
      "19f600af23b24a7698e11c83c9c71912",
      "aec6de9241f44a61b837a3f979dc5ab3"
     ]
    },
    "outputId": "739eb1ca-6ae0-4742-cacd-cd393e43dc0d"
   },
   "source": [
    "interact(ReconViewer,t=widgets.IntSlider(min=0, max=1100, step=1, value=945))"
   ],
   "execution_count": null,
   "outputs": []
  },
  {
   "cell_type": "markdown",
   "metadata": {
    "id": "g-R6-_oOnOxZ"
   },
   "source": [
    "# KERNEL:FILTERS as CONVOLUTIONS:FOURIER MULTIPLIERS"
   ]
  },
  {
   "cell_type": "code",
   "metadata": {
    "id": "qMM61u_KpzNe",
    "colab": {
     "base_uri": "https://localhost:8080/",
     "height": 267
    },
    "outputId": "b86d55c3-3994-4604-bc87-cf5bf1a8d14a"
   },
   "source": [
    "import cv2\n",
    "\n",
    "# simple averaging filter without scaling parameter\n",
    "mean_filter = np.ones((3,3))\n",
    "\n",
    "# creating a guassian filter\n",
    "x = cv2.getGaussianKernel(10,10)\n",
    "gaussian = x*x.T\n",
    "\n",
    "# different edge detecting filters\n",
    "# scharr in x-direction\n",
    "scharr = np.array([[-3, 0, 3],\n",
    "                   [-10,0,10],\n",
    "                   [-3, 0, 3]])\n",
    "# sobel in x direction\n",
    "sobel_x= np.array([[-1, 0, 1],\n",
    "                   [-2, 0, 2],\n",
    "                   [-1, 0, 1]])\n",
    "# sobel in y direction\n",
    "sobel_y= np.array([[-1,-2,-1],\n",
    "                   [0, 0, 0],\n",
    "                   [1, 2, 1]])\n",
    "# laplacian\n",
    "laplacian=np.array([[0, 1, 0],\n",
    "                    [1,-4, 1],\n",
    "                    [0, 1, 0]])\n",
    "\n",
    "filters = [mean_filter, gaussian, laplacian, sobel_x, sobel_y, scharr]\n",
    "filter_name = ['mean_filter', 'gaussian','laplacian', 'sobel_x', \\\n",
    "                'sobel_y', 'scharr_x']\n",
    "fft_filters = [np.fft.fft2(x) for x in filters]\n",
    "fft_shift = [np.fft.fftshift(y) for y in fft_filters]\n",
    "mag_spectrum = [np.log(np.abs(z)+1e-6) for z in fft_shift]\n",
    "\n",
    "for i in range(6):\n",
    "    plt.subplot(2,3,i+1),plt.imshow(mag_spectrum[i],cmap = 'gray')\n",
    "    plt.title(filter_name[i]), plt.xticks([]), plt.yticks([])\n",
    "\n",
    "plt.show()"
   ],
   "execution_count": null,
   "outputs": []
  },
  {
   "cell_type": "code",
   "metadata": {
    "id": "RGzACD6O0h4Z",
    "colab": {
     "base_uri": "https://localhost:8080/",
     "height": 485
    },
    "outputId": "69311b78-79df-4be6-d7c8-ccc3ef54a834"
   },
   "source": [
    "im_fltr = [cv2.filter2D(im,-1,kernel) for kernel in filters]\n",
    "plt.figure(figsize=(10,8))\n",
    "for i in range(6):\n",
    "    plt.subplot(2,3,i+1),plt.imshow(im_fltr[i],cmap = 'gray')\n",
    "    plt.title(filter_name[i]), plt.xticks([]), plt.yticks([])\n",
    "\n",
    "plt.show()"
   ],
   "execution_count": null,
   "outputs": []
  },
  {
   "cell_type": "code",
   "metadata": {
    "id": "uK2EG7UqT6Rd",
    "colab": {
     "base_uri": "https://localhost:8080/",
     "height": 575
    },
    "outputId": "1ca9ee22-0a30-44bf-9d4d-0763f7731cf4"
   },
   "source": [
    "IntensityPlot(im_fltr[1])"
   ],
   "execution_count": null,
   "outputs": []
  },
  {
   "cell_type": "markdown",
   "metadata": {
    "id": "in5oSm0k45hS"
   },
   "source": [
    "# A little bit of SVD"
   ]
  },
  {
   "cell_type": "code",
   "metadata": {
    "id": "lbHxj75tZlTh",
    "colab": {
     "base_uri": "https://localhost:8080/"
    },
    "outputId": "03761801-71cc-407c-e105-b5a1bb7c879a"
   },
   "source": [
    "s, u, v = tf.linalg.svd(im)\n",
    "\n",
    "s.shape, u.shape,tf.linalg.diag(s).shape, v.shape"
   ],
   "execution_count": null,
   "outputs": []
  },
  {
   "cell_type": "code",
   "metadata": {
    "id": "0fw8ZUriVbPu",
    "colab": {
     "base_uri": "https://localhost:8080/",
     "height": 232
    },
    "outputId": "c998d605-8410-4128-a7a3-0a0598449de6"
   },
   "source": [
    "fig, axes = plt.subplots(1,3,figsize=(10,3))\n",
    "\n",
    "#fig.figure()\n",
    "axes[0].imshow(u, cmap='gray')\n",
    "axes[1].plot(s)\n",
    "axes[2].imshow(tf.transpose(v), cmap='gray')"
   ],
   "execution_count": null,
   "outputs": []
  },
  {
   "cell_type": "code",
   "metadata": {
    "id": "jAKAJX0EYXyx"
   },
   "source": [
    "def SVD(A,k,scaler=None):\n",
    "  s, u, v = tf.linalg.svd(A)\n",
    "  if scaler is None:\n",
    "    Ak = u[:,0:k]@tf.linalg.diag(s[0:k])@tf.transpose(v[:,0:k], conjugate=True)\n",
    "    plt.imshow(Ak, cmap='gray')\n",
    "    return Ak\n",
    "  else:\n",
    "    dil = tf.constant(scaler, shape=(k,),dtype=tf.float64)\n",
    "    Ak = u[:,0:k]@tf.linalg.diag(s[0:k]*dil)@tf.transpose(v[:,0:k], conjugate=True)\n",
    "    plt.imshow(Ak, cmap='gray')\n",
    "\n",
    "    return Ak"
   ],
   "execution_count": null,
   "outputs": []
  },
  {
   "cell_type": "code",
   "metadata": {
    "id": "e30ZDncm-Ma8",
    "colab": {
     "base_uri": "https://localhost:8080/",
     "height": 335,
     "referenced_widgets": [
      "5f32661b35f24cfca9fb09f1e0231cb0",
      "8c700c27ce134ad0bf776760f37f4da4",
      "b5743a0d903d4f07af7dd0d161aa04e4",
      "ef974dba760b41228e59dfb22c959aa4",
      "fd58f7def32e4038966b44c73632906a",
      "0090636d1fe647faba274354c10aa06e",
      "9668e8f9fd244386b575a4d73f62e3f6"
     ]
    },
    "outputId": "22cb68d9-b138-4d59-84d4-83bd8f6ac98a"
   },
   "source": [
    "def SVDviewer(k=1):\n",
    "  percent = k/len(s)*100\n",
    "  print(f'Using only {np.round(percent,3)} percent of all singular values')\n",
    "  SVD(im,k)\n",
    "  \n",
    "interact(SVDviewer,k=widgets.IntSlider(min=1, max=363, step=1, value=1))"
   ],
   "execution_count": null,
   "outputs": []
  },
  {
   "cell_type": "code",
   "metadata": {
    "id": "I0DCLL9xMnXx",
    "colab": {
     "base_uri": "https://localhost:8080/",
     "height": 252
    },
    "outputId": "fc43b1ae-b35b-4b92-d583-6fa8573fd604"
   },
   "source": [
    "im_svd = SVD(im,37)\n",
    "logFourierView(im_svd)"
   ],
   "execution_count": null,
   "outputs": []
  },
  {
   "cell_type": "code",
   "metadata": {
    "id": "8kLdkRnsMP-O",
    "colab": {
     "base_uri": "https://localhost:8080/",
     "height": 335,
     "referenced_widgets": [
      "d706b547c72349d6acc3b5fb261ebbfc",
      "64b5fe1b3fa64be0a8b4f836e9f25791",
      "fd8eeb1df3da4e53a5bfd110ddcae9c5",
      "5c3c8ae58f034c8892710693761c5d85",
      "a21e032abfdb403da560f994892ddebd",
      "f80e4cb726f4498fbde253ae22e4e08f",
      "bc99baf0a3bb4cd98791865a412547af"
     ]
    },
    "outputId": "29bcc193-cb07-472e-f0da-7a87dc5d69d3"
   },
   "source": [
    "def SVD2viewer(k=1):\n",
    "  percent = k/len(s)*100\n",
    "  print(f'Using only {np.round(percent,3)} percent of all singular values')\n",
    "  SVD(im,k,[i*i for i in range(1,k+1)])\n",
    "  \n",
    "interact(SVD2viewer,k=widgets.IntSlider(min=1, max=363, step=1, value=1))"
   ],
   "execution_count": null,
   "outputs": []
  },
  {
   "cell_type": "code",
   "metadata": {
    "id": "rbS-xy7VMqkC",
    "colab": {
     "base_uri": "https://localhost:8080/",
     "height": 252
    },
    "outputId": "ecb6a62c-9368-49ca-98c9-d4dbe92ff5d8"
   },
   "source": [
    "FourierView(SVD(im,100,[i*i for i in range(1,101)]))"
   ],
   "execution_count": null,
   "outputs": []
  },
  {
   "cell_type": "code",
   "metadata": {
    "id": "AWw2Q2ibQPAB",
    "colab": {
     "base_uri": "https://localhost:8080/",
     "height": 269
    },
    "outputId": "d9b6f19e-c911-46c3-b0c1-6e2cc6c91f03"
   },
   "source": [
    " ghost = SVD(im,100,[1/(i) for i in range(1,101)])"
   ],
   "execution_count": null,
   "outputs": []
  },
  {
   "cell_type": "code",
   "metadata": {
    "id": "Z90wsMrwZ8Lx",
    "colab": {
     "base_uri": "https://localhost:8080/",
     "height": 252
    },
    "outputId": "291d0e06-86a4-4f93-aa29-1ec0ce2077ea"
   },
   "source": [
    "logFourierView(ghost)"
   ],
   "execution_count": null,
   "outputs": []
  },
  {
   "cell_type": "code",
   "metadata": {
    "id": "xKgpmLez58wE"
   },
   "source": [
    "def Distortion(im,recon):\n",
    "  square_dif = (recon-im)**2\n",
    "  l2 = np.sqrt(np.sum(square_dif))\n",
    "  norm = l2 / np.sqrt(np.sum(im))\n",
    "  return 100*norm"
   ],
   "execution_count": null,
   "outputs": []
  }
 ]
}