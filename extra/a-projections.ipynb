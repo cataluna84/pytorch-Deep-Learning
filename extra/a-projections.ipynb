{
 "cells": [
  {
   "cell_type": "code",
   "execution_count": 1,
   "outputs": [
    {
     "name": "stdout",
     "output_type": "stream",
     "text": [
      "Collecting plotlib\n",
      "  Using cached plotlib-0.3.tar.gz (42 kB)\n"
     ]
    },
    {
     "name": "stderr",
     "output_type": "stream",
     "text": [
      "    ERROR: Command errored out with exit status 1:\n",
      "     command: 'C:\\Users\\mayan\\anaconda3\\envs\\pytorch\\python.exe' -c 'import sys, setuptools, tokenize; sys.argv[0] = '\"'\"'C:\\\\Users\\\\mayan\\\\AppData\\\\Local\\\\Temp\\\\pip-install-9cispu2s\\\\plotlib_6ddf70ce37894e618b4358b79ab9ebb8\\\\setup.py'\"'\"'; __file__='\"'\"'C:\\\\Users\\\\mayan\\\\AppData\\\\Local\\\\Temp\\\\pip-install-9cispu2s\\\\plotlib_6ddf70ce37894e618b4358b79ab9ebb8\\\\setup.py'\"'\"';f=getattr(tokenize, '\"'\"'open'\"'\"', open)(__file__);code=f.read().replace('\"'\"'\\r\\n'\"'\"', '\"'\"'\\n'\"'\"');f.close();exec(compile(code, __file__, '\"'\"'exec'\"'\"'))' egg_info --egg-base 'C:\\Users\\mayan\\AppData\\Local\\Temp\\pip-pip-egg-info-zp8sim8f'\n",
      "         cwd: C:\\Users\\mayan\\AppData\\Local\\Temp\\pip-install-9cispu2s\\plotlib_6ddf70ce37894e618b4358b79ab9ebb8\\\n",
      "    Complete output (11 lines):\n",
      "    running egg_info\n",
      "    creating C:\\Users\\mayan\\AppData\\Local\\Temp\\pip-pip-egg-info-zp8sim8f\\plotlib.egg-info\n",
      "    writing C:\\Users\\mayan\\AppData\\Local\\Temp\\pip-pip-egg-info-zp8sim8f\\plotlib.egg-info\\PKG-INFO\n",
      "    writing dependency_links to C:\\Users\\mayan\\AppData\\Local\\Temp\\pip-pip-egg-info-zp8sim8f\\plotlib.egg-info\\dependency_links.txt\n",
      "    writing namespace_packages to C:\\Users\\mayan\\AppData\\Local\\Temp\\pip-pip-egg-info-zp8sim8f\\plotlib.egg-info\\namespace_packages.txt\n",
      "    writing top-level names to C:\\Users\\mayan\\AppData\\Local\\Temp\\pip-pip-egg-info-zp8sim8f\\plotlib.egg-info\\top_level.txt\n",
      "    writing manifest file 'C:\\Users\\mayan\\AppData\\Local\\Temp\\pip-pip-egg-info-zp8sim8f\\plotlib.egg-info\\SOURCES.txt'\n",
      "    error: Namespace package problem: plotlib is a namespace package, but its\n",
      "    __init__.py does not call declare_namespace()! Please fix it.\n",
      "    (See the setuptools manual under \"Namespace Packages\" for details.)\n",
      "    \"\n",
      "    ----------------------------------------\n",
      "ERROR: Command errored out with exit status 1: python setup.py egg_info Check the logs for full command output.\n"
     ]
    }
   ],
   "source": [
    "!pip install plotlib"
   ],
   "metadata": {
    "collapsed": false,
    "pycharm": {
     "name": "#%%\n"
    }
   }
  },
  {
   "cell_type": "code",
   "execution_count": 2,
   "metadata": {},
   "outputs": [
    {
     "ename": "SyntaxError",
     "evalue": "invalid syntax (plot_lib.py, line 1)",
     "output_type": "error",
     "traceback": [
      "Traceback \u001B[1;36m(most recent call last)\u001B[0m:\n",
      "  File \u001B[0;32m\"C:\\Users\\mayan\\anaconda3\\envs\\pytorch\\lib\\site-packages\\IPython\\core\\interactiveshell.py\"\u001B[0m, line \u001B[0;32m3418\u001B[0m, in \u001B[0;35mrun_code\u001B[0m\n    exec(code_obj, self.user_global_ns, self.user_ns)\n",
      "\u001B[1;36m  File \u001B[1;32m\"<ipython-input-2-1bf17e395d62>\"\u001B[1;36m, line \u001B[1;32m4\u001B[1;36m, in \u001B[1;35m<module>\u001B[1;36m\u001B[0m\n\u001B[1;33m    from plot_lib import set_default, show_mat\u001B[0m\n",
      "\u001B[1;36m  File \u001B[1;32m\"C:\\Users\\mayan\\Documents\\Pytorch\\pytorch-Deep-Learning\\extra\\plot_lib.py\"\u001B[1;36m, line \u001B[1;32m1\u001B[0m\n\u001B[1;33m    ../res/plot_lib.py\u001B[0m\n\u001B[1;37m    ^\u001B[0m\n\u001B[1;31mSyntaxError\u001B[0m\u001B[1;31m:\u001B[0m invalid syntax\n"
     ]
    }
   ],
   "source": [
    "# Load libraries\n",
    "import random\n",
    "import torch\n",
    "from plot_lib import set_default, show_mat\n",
    "from matplotlib.pyplot import plot, subplot\n",
    "from numpy import pi as π"
   ]
  },
  {
   "cell_type": "code",
   "execution_count": null,
   "metadata": {},
   "outputs": [],
   "source": [
    "# Set style (needs to be in a new cell)\n",
    "set_default(figsize=(10, 4), dpi=200)"
   ]
  },
  {
   "cell_type": "code",
   "execution_count": null,
   "metadata": {},
   "outputs": [],
   "source": [
    "# Generate a collection of 5 3D vectors on a sphere\n",
    "A = torch.nn.functional.normalize(torch.randn(5, 3), p=2, dim=1)"
   ]
  },
  {
   "cell_type": "code",
   "execution_count": null,
   "metadata": {},
   "outputs": [],
   "source": [
    "# Checking the content\n",
    "A"
   ]
  },
  {
   "cell_type": "code",
   "execution_count": null,
   "metadata": {},
   "outputs": [],
   "source": [
    "# And the norm\n",
    "A.norm(p=2, dim=1)"
   ]
  },
  {
   "cell_type": "code",
   "execution_count": null,
   "metadata": {},
   "outputs": [],
   "source": [
    "# Change the value of the dimensionality d\n",
    "d = 8  # 1, 2, [3], 5, 8\n",
    "A = torch.nn.functional.normalize(torch.randn(10, d), 2, 1)"
   ]
  },
  {
   "cell_type": "code",
   "execution_count": null,
   "metadata": {},
   "outputs": [],
   "source": [
    "# Run this multiple times per given d\n",
    "a = A[[random.randrange(A.size(0))],:].t()  # perhaps comment, if playing with vis\n",
    "p = A @ a\n",
    "# p = torch.abs(A @ a)\n",
    "\n",
    "# Plot\n",
    "show_mat(A, a, p, threshold=-1)  # pick threshold ∈ [-1, +1), default -1"
   ]
  },
  {
   "cell_type": "code",
   "execution_count": null,
   "metadata": {},
   "outputs": [],
   "source": [
    "# Compute the histogram of points uniformly distributed on a unit sphere in d dimensions\n",
    "bins = 101\n",
    "N = 10_000\n",
    "d_range = (2, 3, 4, 6, 10, 16); z = 1\n",
    "# d_range = d_range + (256,); z = 4  # uncomment\n",
    "ax1 = subplot(121)\n",
    "ax2 = subplot(122, projection='polar')\n",
    "for d in d_range:\n",
    "    A = torch.nn.functional.normalize(torch.randn(N, d), 2, 1)\n",
    "    B = torch.nn.functional.normalize(torch.randn(N, d), 2, 1)\n",
    "    h = torch.histc((A @ B.t()).view(-1), bins, -1, 1) / N**2\n",
    "    ax1.plot(torch.linspace(-1, 1, bins).numpy(), h.numpy())\n",
    "    ax2.plot(π * torch.linspace(-1, +1, 2 * bins).numpy(), torch.cat((h, h)).numpy() / 2)\n",
    "ax1.legend([f'{d}D' for d in d_range], ncol=3)\n",
    "ax1.set_ylim(0, 35e-3 * z)\n",
    "ax2.legend([f'{d}D' for d in d_range], ncol=3)\n",
    "ax2.set_rlim(0, 35e-3 * z / 2)"
   ]
  },
  {
   "cell_type": "markdown",
   "metadata": {},
   "source": [
    "These curves are simply the probability density function of a $\\Gamma$ distribution, with $\\alpha = \\beta = (D - 1) / 2$.\n",
    "See why this is the case [here](https://stats.stackexchange.com/a/85977/31844).\n",
    "More about curse of dimensionality and almost orthogonality [here](https://www.cs.princeton.edu/courses/archive/fall15/cos521/lecnotes/lec12.pdf)."
   ]
  }
 ],
 "metadata": {
  "kernelspec": {
   "name": "pycharm-89189898",
   "language": "python",
   "display_name": "PyCharm (pytorch-Deep-Learning)"
  },
  "language_info": {
   "codemirror_mode": {
    "name": "ipython",
    "version": 3
   },
   "file_extension": ".py",
   "mimetype": "text/x-python",
   "name": "python",
   "nbconvert_exporter": "python",
   "pygments_lexer": "ipython3",
   "version": "3.8.1"
  }
 },
 "nbformat": 4,
 "nbformat_minor": 2
}